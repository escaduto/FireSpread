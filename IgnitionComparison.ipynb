{
 "cells": [
  {
   "cell_type": "code",
   "execution_count": null,
   "metadata": {},
   "outputs": [],
   "source": [
    "import arcpy\n",
    "from arcpy import env\n",
    "from arcpy.sa import *\n",
    "arcpy.overwriteoutput = True\n",
    "\n",
    "env.workspace = \"F:\\DriversFireProject\\TEMP\""
   ]
  },
  {
   "cell_type": "code",
   "execution_count": null,
   "metadata": {},
   "outputs": [],
   "source": [
    "import requests\n",
    "from requests import get\n",
    "from requests.exceptions import RequestException\n",
    "from contextlib import closing\n",
    "from bs4 import BeautifulSoup\n",
    "import lxml.html as lh\n",
    "import pandas as pd\n",
    "import urllib\n",
    "import time\n",
    "from datetime import datetime, date, time, timedelta\n",
    "import io\n",
    "import requests\n",
    "import zipfile\n",
    "import seaborn as sns\n",
    "import numpy as np\n",
    "import pandas as pd\n",
    "import matplotlib.pyplot as plt\n",
    "import os \n",
    "import seaborn as sns; sns.set()\n",
    "import matplotlib.pyplot as plt\n",
    "import sklearn\n",
    "from sklearn.metrics import mean_squared_error\n",
    "from math import sqrt"
   ]
  },
  {
   "cell_type": "code",
   "execution_count": null,
   "metadata": {},
   "outputs": [],
   "source": [
    "def shpFiles(rootPath, ext):\n",
    "    emptyList = []\n",
    "    root = rootPath\n",
    "    for path, subdirs, files in os.walk(root):\n",
    "        for names in files: \n",
    "            if names.endswith(ext) and not names.startswith(\"._\"):\n",
    "                emptyList.append(path + '\\\\' + names)\n",
    "    return(emptyList)"
   ]
  },
  {
   "cell_type": "code",
   "execution_count": null,
   "metadata": {},
   "outputs": [],
   "source": [
    "ignitionFiles = shpFiles(r'F:\\DriversFireProject\\Ignition\\Centroid', '.shp')\n",
    "USFSIgnition = r'F:\\DriversFireProject\\Ignition\\USFS_Ignitions\\Ignition12_15.shp'\n",
    "dateCSV = pd.read_csv(r'F:\\DriversFireProject\\NaturalNeighborResults\\FinalDF.csv', index_col=0)\n",
    "dateCSV.head()"
   ]
  },
  {
   "cell_type": "code",
   "execution_count": null,
   "metadata": {
    "scrolled": true
   },
   "outputs": [],
   "source": [
    "# get start dates \n",
    "idx = dateCSV.groupby(['Fire', 'Year'])['JD_B'].transform(min) == dateCSV['JD_B']\n",
    "firstDay = dateCSV[idx]\n",
    "firstDay"
   ]
  },
  {
   "cell_type": "code",
   "execution_count": null,
   "metadata": {},
   "outputs": [],
   "source": [
    "# Add attributes: FIRE_NAME, FIRE_YEAR, DISCOVERY_ (datetime) \n",
    "\n",
    "fire = [] \n",
    "year = [] \n",
    "julianDay = [] \n",
    "xcoord = [] \n",
    "ycoord = [] \n",
    "\n",
    "for ign in ignitionFiles: \n",
    "    nm = ign.split(\"\\\\\")\n",
    "    name = nm[-1]\n",
    "    nmm = name.split(\"_\")\n",
    "    fr = nmm[0]\n",
    "    yr = nmm[1]\n",
    "    try:\n",
    "        jd = firstDay.loc[(firstDay.Fire == fr) & (firstDay.Year == int(yr)), 'JD_B'].item()\n",
    "        with arcpy.da.SearchCursor(ign, ['POINT_X', 'POINT_Y',]) as cursor:\n",
    "            for row in cursor:\n",
    "                xcoord.append(row[0])\n",
    "                ycoord.append(row[1])\n",
    "                fire.append(fr) \n",
    "                year.append(yr) \n",
    "                julianDay.append(jd)\n",
    "                print(yr, fr, jd, row[0], row[1])\n",
    "    except: \n",
    "        print(\"error\", fr, yr)\n",
    "        continue\n",
    "            \n",
    "ignitionDF = pd.DataFrame({'Fire': fire, 'Year': year,'JulianDay': julianDay, \n",
    "                       'X': xcoord, 'Y': ycoord})\n",
    "ignitionDF"
   ]
  },
  {
   "cell_type": "code",
   "execution_count": null,
   "metadata": {},
   "outputs": [],
   "source": [
    "ignitionDF.to_csv(r\"F:\\DriversFireProject\\Ignition\\ignitionDF.csv\")"
   ]
  },
  {
   "cell_type": "code",
   "execution_count": null,
   "metadata": {},
   "outputs": [],
   "source": [
    "# Process: Convert Table To CSV File\n",
    "arcpy.TableToTable_conversion(USFSIgnition, r\"F:\\DriversFireProject\\Ignition\", \"USFSIgnitions.csv\")"
   ]
  },
  {
   "cell_type": "code",
   "execution_count": null,
   "metadata": {},
   "outputs": [],
   "source": [
    "USFS_CSV = pd.read_csv(r'F:\\DriversFireProject\\Ignition\\USFSIgnitions.csv', index_col=0)\n",
    "USFS_CSV"
   ]
  },
  {
   "cell_type": "code",
   "execution_count": null,
   "metadata": {},
   "outputs": [],
   "source": [
    "USFS_CSV.dtypes"
   ]
  },
  {
   "cell_type": "code",
   "execution_count": null,
   "metadata": {},
   "outputs": [],
   "source": [
    "import difflib"
   ]
  },
  {
   "cell_type": "code",
   "execution_count": null,
   "metadata": {},
   "outputs": [],
   "source": [
    "# pip install fuzzywuzzy\n",
    "from fuzzywuzzy import fuzz\n",
    "\n",
    "def match_name(name, list_names, min_score=0):\n",
    "    # -1 score incase we don't get any matches\n",
    "    max_score = -1\n",
    "    # Returning empty name for no match as well\n",
    "    max_name = \"\"\n",
    "    # Iternating over all names in the other\n",
    "    for name2 in list_names:\n",
    "        #Finding fuzzy match score\n",
    "        score = fuzz.ratio(name, name2)\n",
    "        # Checking if we are above our threshold and have a better score\n",
    "        if (score > min_score) & (score > max_score):\n",
    "            max_name = name2\n",
    "            max_score = score\n",
    "    return (max_name, max_score)"
   ]
  },
  {
   "cell_type": "code",
   "execution_count": null,
   "metadata": {},
   "outputs": [],
   "source": [
    "ignitionDF['Year'].astype('int64')\n",
    "ignitionDF = ignitionDF[ignitionDF['Year'].astype('int64') < 2016]"
   ]
  },
  {
   "cell_type": "code",
   "execution_count": null,
   "metadata": {},
   "outputs": [],
   "source": [
    "# List for dicts for easy dataframe creation\n",
    "dict_list = []\n",
    "# iterating over our players without salaries found above\n",
    "for name in ignitionDF.Fire:\n",
    "    # Use our method to find best match, we can set a threshold here\n",
    "    match = match_name(name, listUSFS, 70)\n",
    "    \n",
    "    # New dict for storing data\n",
    "    dict_ = {}\n",
    "    dict_.update({\"FireName\" : name})\n",
    "    dict_.update({\"USFS Name\" : match[0]})\n",
    "    dict_.update({\"score\" : match[1]})\n",
    "    dict_list.append(dict_)\n",
    "    \n",
    "merge_table = pd.DataFrame(dict_list)\n",
    "# Display results\n",
    "merge_table"
   ]
  },
  {
   "cell_type": "code",
   "execution_count": null,
   "metadata": {},
   "outputs": [],
   "source": [
    "listUSFS = USFS_CSV.FIRE_NAME.tolist()\n",
    "listUSFS\n",
    "\n",
    "listUSFS = [x.capitalize() for x in listUSFS]\n",
    "listUSFS\n",
    "USFS_CSV['Fire']= listUSFS"
   ]
  },
  {
   "cell_type": "code",
   "execution_count": null,
   "metadata": {},
   "outputs": [],
   "source": [
    "listUSFS[listUSFS[]]"
   ]
  },
  {
   "cell_type": "code",
   "execution_count": null,
   "metadata": {},
   "outputs": [],
   "source": [
    "NonMatch = merge_table[merge_table['score'] == -1]\n",
    "NonMatchList = NonMatch.FireName.tolist()\n",
    "NonMatchList"
   ]
  },
  {
   "cell_type": "code",
   "execution_count": null,
   "metadata": {},
   "outputs": [],
   "source": [
    "newNames = ['Coffee', 'Fryingpan Faulkstein','Steelhead', 'Md Flake', 'Clear', 'Buck', 'Pelletreau']"
   ]
  },
  {
   "cell_type": "code",
   "execution_count": null,
   "metadata": {},
   "outputs": [],
   "source": [
    "newNames = ['combat',\n",
    " 'pulgas',\n",
    " 'tomahawk',\n",
    " 'corral',\n",
    " 'barker',\n",
    " 'blue',\n",
    " 'peak',\n",
    " 'rail',\n",
    " 'shiell',\n",
    " 'bear',\n",
    " 'coon',\n",
    " 'peak',\n",
    " 'fryingpan faulkstein',\n",
    " 'fryingpan',\n",
    " 'log',\n",
    " 'man',\n",
    " 'whites',\n",
    " 'gobbler',\n",
    " 'lassics',\n",
    " 'pickett',\n",
    " 'gulch',\n",
    " 'johnson',\n",
    " 'boulder',\n",
    " 'shelly',\n",
    " 'cocos']\n",
    "\n",
    "newNames = [x.title() for x in newNames]\n",
    "newNames"
   ]
  },
  {
   "cell_type": "code",
   "execution_count": null,
   "metadata": {},
   "outputs": [],
   "source": [
    "ignitionDF = ignitionDF.replace(NonMatchList, newNames)"
   ]
  },
  {
   "cell_type": "code",
   "execution_count": null,
   "metadata": {},
   "outputs": [],
   "source": [
    "ignitionDF"
   ]
  },
  {
   "cell_type": "code",
   "execution_count": null,
   "metadata": {},
   "outputs": [],
   "source": [
    "ignitionDF"
   ]
  },
  {
   "cell_type": "code",
   "execution_count": null,
   "metadata": {},
   "outputs": [],
   "source": [
    "am = USFS_CSV[USFS_CSV['Fire'] =='American']\n",
    "am['DISCOVERY1']"
   ]
  },
  {
   "cell_type": "code",
   "execution_count": null,
   "metadata": {},
   "outputs": [],
   "source": [
    "ignitionDF['JulianDay'] = ignitionDF['JulianDay'].astype('int64')\n",
    "ignitionDF['Year'] = ignitionDF['Year'].astype('int64')\n",
    "mergedIgnition = pd.merge(ignitionDF, USFS_CSV, how='left', left_on=['Fire', 'Year'], right_on=['Fire', 'FIRE_YEAR'])"
   ]
  },
  {
   "cell_type": "code",
   "execution_count": null,
   "metadata": {},
   "outputs": [],
   "source": [
    "len(mergedIgnition['Fire'].unique())"
   ]
  },
  {
   "cell_type": "code",
   "execution_count": null,
   "metadata": {},
   "outputs": [],
   "source": [
    "mergedIgnition.to_csv(r'F:\\DriversFireProject\\Ignition\\MergedIgnitions.csv')"
   ]
  },
  {
   "cell_type": "code",
   "execution_count": null,
   "metadata": {},
   "outputs": [],
   "source": [
    "mergedIgnition['dif'] = (mergedIgnition['JulianDay'] - mergedIgnition['DISCOVERY1']).abs()\n",
    "mergedIgnition['is_closest'] = mergedIgnition.groupby(['Fire', 'Year'])['dif'].transform('min') == mergedIgnition['dif']\n",
    "mergedIgnition = mergedIgnition[mergedIgnition['is_closest'] == True]\n",
    "mergedIgnition.to_csv(r'F:\\DriversFireProject\\Ignition\\MergedIgnitions_FILT.csv')"
   ]
  },
  {
   "cell_type": "code",
   "execution_count": null,
   "metadata": {},
   "outputs": [],
   "source": [
    "mergedIgnition"
   ]
  },
  {
   "cell_type": "code",
   "execution_count": null,
   "metadata": {},
   "outputs": [],
   "source": [
    "mergedIgnition = mergedIgnition.sort_values([\"JulianDay\"], ascending = True)\n",
    "mergedIgnition['INT_XY'] = list(zip(mergedIgnition.Y, mergedIgnition.X))\n",
    "mergedIgnition['USFS_XY'] = list(zip(mergedIgnition.POINT_Y, mergedIgnition.POINT_X))"
   ]
  },
  {
   "cell_type": "code",
   "execution_count": null,
   "metadata": {},
   "outputs": [],
   "source": [
    "mergedIgnition"
   ]
  },
  {
   "cell_type": "code",
   "execution_count": null,
   "metadata": {},
   "outputs": [],
   "source": [
    "import math\n",
    "from math import radians, degrees, sin, cos, asin, acos, sqrt\n",
    "def calculateDistance(pointA, pointB):\n",
    "    lat1 = math.radians(pointA[0])\n",
    "    lat2 = math.radians(pointB[0])\n",
    "    lon1 = math.radians(pointA[1])\n",
    "    lon2 = math.radians(pointB[1])\n",
    "    return 6371 * (\n",
    "        acos(sin(lat1) * sin(lat2) + cos(lat1) * cos(lat2) * cos(lon1 - lon2))\n",
    "    )"
   ]
  },
  {
   "cell_type": "code",
   "execution_count": null,
   "metadata": {},
   "outputs": [],
   "source": [
    "calculateDistance((34.1563783018, -117.862617368), (40.1900947981, -121.597906602))"
   ]
  },
  {
   "cell_type": "code",
   "execution_count": null,
   "metadata": {},
   "outputs": [],
   "source": [
    "INTList = mergedIgnition.INT_XY.tolist()\n",
    "USFSList = mergedIgnition.USFS_XY.tolist()\n",
    "\n",
    "dist = [] \n",
    "\n",
    "for f, b in zip(INTList, USFSList):\n",
    "    dist.append(calculateDistance(f, b))\n",
    "\n",
    "mergedIgnition['Distance'] = dist\n",
    "mergedIgnition"
   ]
  },
  {
   "cell_type": "code",
   "execution_count": null,
   "metadata": {},
   "outputs": [],
   "source": [
    "import seaborn as sns\n",
    "sns.set(style=\"white\")\n",
    "\n",
    "cmap = sns.cubehelix_palette(rot=-.2, as_cmap=True)\n",
    "ax = sns.scatterplot(x=\"X\", y=\"Y\",\n",
    "                     hue=\"Year\", size=\"Distance\",\n",
    "                     palette=cmap, sizes=(10, 200),\n",
    "                     data=mergedIgnition)"
   ]
  },
  {
   "cell_type": "code",
   "execution_count": null,
   "metadata": {},
   "outputs": [],
   "source": [
    "mergedIgnition['dif'].max()"
   ]
  },
  {
   "cell_type": "code",
   "execution_count": null,
   "metadata": {},
   "outputs": [],
   "source": [
    "mergedIgnition = mergedIgnition.sort_values(by=['Distance'])\n",
    "mergedIgnition['Fire'].tolist()"
   ]
  },
  {
   "cell_type": "code",
   "execution_count": null,
   "metadata": {},
   "outputs": [],
   "source": [
    "distList = mergedIgnition['Distance'].tolist()\n",
    "sorted(distList)\n"
   ]
  },
  {
   "cell_type": "code",
   "execution_count": null,
   "metadata": {},
   "outputs": [],
   "source": [
    "sample.groupby(['Distance'])['Distance'].count()"
   ]
  },
  {
   "cell_type": "code",
   "execution_count": null,
   "metadata": {},
   "outputs": [],
   "source": []
  }
 ],
 "metadata": {
  "kernelspec": {
   "display_name": "Python 3",
   "language": "python",
   "name": "python3"
  },
  "language_info": {
   "codemirror_mode": {
    "name": "ipython",
    "version": 3
   },
   "file_extension": ".py",
   "mimetype": "text/x-python",
   "name": "python",
   "nbconvert_exporter": "python",
   "pygments_lexer": "ipython3",
   "version": "3.6.5"
  }
 },
 "nbformat": 4,
 "nbformat_minor": 2
}
