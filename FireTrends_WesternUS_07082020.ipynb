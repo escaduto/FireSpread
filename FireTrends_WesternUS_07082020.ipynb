{
  "nbformat": 4,
  "nbformat_minor": 0,
  "metadata": {
    "colab": {
      "name": "FireTrends_WesternUS_07082020",
      "provenance": [],
      "collapsed_sections": [],
      "toc_visible": true,
      "machine_shape": "hm",
      "authorship_tag": "ABX9TyOFKk0+TkkYdK8pqUtyT76U",
      "include_colab_link": true
    },
    "kernelspec": {
      "name": "python3",
      "display_name": "Python 3"
    }
  },
  "cells": [
    {
      "cell_type": "markdown",
      "metadata": {
        "id": "view-in-github",
        "colab_type": "text"
      },
      "source": [
        "<a href=\"https://colab.research.google.com/github/escaduto/FireSpread/blob/master/FireTrends_WesternUS_07082020.ipynb\" target=\"_parent\"><img src=\"https://colab.research.google.com/assets/colab-badge.svg\" alt=\"Open In Colab\"/></a>"
      ]
    },
    {
      "cell_type": "markdown",
      "metadata": {
        "id": "bhqDyDLy6Q98",
        "colab_type": "text"
      },
      "source": [
        "# Fire Trends in the Western US"
      ]
    },
    {
      "cell_type": "markdown",
      "metadata": {
        "id": "tFonS8q4pRWj",
        "colab_type": "text"
      },
      "source": [
        "## Setup Connection to Drive"
      ]
    },
    {
      "cell_type": "code",
      "metadata": {
        "id": "eMCHZj6PpL3w",
        "colab_type": "code",
        "colab": {
          "base_uri": "https://localhost:8080/",
          "height": 139
        },
        "outputId": "01f2b92a-de0a-4f15-d4e0-68bd0229d78e"
      },
      "source": [
        "from google.colab import drive # import drive from google colab\n",
        "ROOT = \"/content/drive\"     # default location for the drive\n",
        "print(ROOT)                 # print content of ROOT (Optional)\n",
        "\n",
        "drive.mount(ROOT)           # we mount the google drive at /content/drive"
      ],
      "execution_count": 1,
      "outputs": [
        {
          "output_type": "stream",
          "text": [
            "/content/drive\n",
            "Go to this URL in a browser: https://accounts.google.com/o/oauth2/auth?client_id=947318989803-6bn6qk8qdgf4n4g3pfee6491hc0brc4i.apps.googleusercontent.com&redirect_uri=urn%3aietf%3awg%3aoauth%3a2.0%3aoob&response_type=code&scope=email%20https%3a%2f%2fwww.googleapis.com%2fauth%2fdocs.test%20https%3a%2f%2fwww.googleapis.com%2fauth%2fdrive%20https%3a%2f%2fwww.googleapis.com%2fauth%2fdrive.photos.readonly%20https%3a%2f%2fwww.googleapis.com%2fauth%2fpeopleapi.readonly\n",
            "\n",
            "Enter your authorization code:\n",
            "··········\n",
            "Mounted at /content/drive\n"
          ],
          "name": "stdout"
        }
      ]
    },
    {
      "cell_type": "code",
      "metadata": {
        "id": "y237qvlb5kwV",
        "colab_type": "code",
        "colab": {
          "base_uri": "https://localhost:8080/",
          "height": 34
        },
        "outputId": "7f8e9a93-c966-4cfa-fa46-812a348f847f"
      },
      "source": [
        "%cd \"/content/drive/My Drive/FireDrivers_Paper\" \n",
        "\n",
        "import os\n",
        "rootPath = \"/content/drive/My Drive/FireDrivers_Paper\"\n",
        "os.chdir(rootPath)"
      ],
      "execution_count": 9,
      "outputs": [
        {
          "output_type": "stream",
          "text": [
            "/content/drive/My Drive/FireDrivers_Paper\n"
          ],
          "name": "stdout"
        }
      ]
    },
    {
      "cell_type": "code",
      "metadata": {
        "id": "y61OAhruU-n4",
        "colab_type": "code",
        "colab": {
          "base_uri": "https://localhost:8080/",
          "height": 68
        },
        "outputId": "c36c0902-132e-4803-b6bd-a33bffefd8b9"
      },
      "source": [
        "from psutil import virtual_memory\n",
        "ram_gb = virtual_memory().total / 1e9\n",
        "print('Your runtime has {:.1f} gigabytes of available RAM\\n'.format(ram_gb))\n",
        "\n",
        "if ram_gb < 20:\n",
        "  print('To enable a high-RAM runtime, select the Runtime > \"Change runtime type\"')\n",
        "  print('menu, and then select High-RAM in the Runtime shape dropdown. Then, ')\n",
        "  print('re-execute this cell.')\n",
        "else:\n",
        "  print('You are using a high-RAM runtime!')"
      ],
      "execution_count": 10,
      "outputs": [
        {
          "output_type": "stream",
          "text": [
            "Your runtime has 27.4 gigabytes of available RAM\n",
            "\n",
            "You are using a high-RAM runtime!\n"
          ],
          "name": "stdout"
        }
      ]
    },
    {
      "cell_type": "code",
      "metadata": {
        "id": "6QPD1YogLi_M",
        "colab_type": "code",
        "colab": {
          "base_uri": "https://localhost:8080/",
          "height": 34
        },
        "outputId": "047343f1-8ced-4190-e778-86194ddc2cc2"
      },
      "source": [
        "!grep MemTotal /proc/meminfo"
      ],
      "execution_count": null,
      "outputs": [
        {
          "output_type": "stream",
          "text": [
            "MemTotal:       26751744 kB\n"
          ],
          "name": "stdout"
        }
      ]
    },
    {
      "cell_type": "markdown",
      "metadata": {
        "id": "D95rCgOWFQB_",
        "colab_type": "text"
      },
      "source": [
        "## Import Packages"
      ]
    },
    {
      "cell_type": "code",
      "metadata": {
        "id": "o66RFau97lMx",
        "colab_type": "code",
        "colab": {}
      },
      "source": [
        "%%time \n",
        "\n",
        "# Important library for many geopython libraries\n",
        "!apt install gdal-bin python-gdal python3-gdal \n",
        "# Install rtree - Geopandas requirment\n",
        "!apt install python3-rtree \n",
        "# Install Geopandas\n",
        "!pip install git+git://github.com/geopandas/geopandas.git\n",
        "# Install descartes - Geopandas requirment\n",
        "!pip install descartes \n",
        "# Install Folium for Geographic data visualization\n",
        "!pip install folium\n",
        "# Install plotlyExpress\n",
        "!pip install plotly_express\""
      ],
      "execution_count": null,
      "outputs": []
    },
    {
      "cell_type": "code",
      "metadata": {
        "id": "Q1DSJekd-tgI",
        "colab_type": "code",
        "colab": {}
      },
      "source": [
        "import pandas as pd\n",
        "import numpy as np\n",
        "import geopandas as gpd\n",
        "from shapely.geometry import Point\n",
        "import matplotlib\n",
        "import matplotlib.pyplot as plt \n",
        "import folium\n",
        "import rtree"
      ],
      "execution_count": 11,
      "outputs": []
    },
    {
      "cell_type": "code",
      "metadata": {
        "id": "wLEugYarO5hB",
        "colab_type": "code",
        "colab": {}
      },
      "source": [
        "def lstFiles(rootPath, ext):\n",
        "  '''\n",
        "  retrieve file path + names based on extension\n",
        "  '''\n",
        "  file_list = []\n",
        "  root = rootPath\n",
        "  for path, subdirs, files in os.walk(root):\n",
        "      for names in files: \n",
        "          if names.endswith(ext):\n",
        "              file_list.append(os.path.join(path,names))\n",
        "  return(file_list)\n",
        "\n",
        "def createFolder(rootPath, folderName): \n",
        "  '''\n",
        "  Create new folder in root path \n",
        "  '''\n",
        "  folderPath = os.path.join(rootPath, folderName) \n",
        "  if not os.path.exists(folderPath):\n",
        "      os.makedirs(folderPath)\n",
        "  return folderPath "
      ],
      "execution_count": 12,
      "outputs": []
    },
    {
      "cell_type": "markdown",
      "metadata": {
        "id": "qD5Zss9xV4ae",
        "colab_type": "text"
      },
      "source": [
        "## Interagency Perimeters"
      ]
    },
    {
      "cell_type": "markdown",
      "metadata": {
        "id": "8MT7OtIc2lHP",
        "colab_type": "text"
      },
      "source": [
        "### Data Acquisition \n",
        "\n",
        "NearTime Perimeters (Current 7days): \n",
        "\n",
        "API: https://services3.arcgis.com/T4QMspbfLg3qTGWY/arcgis/rest/services/Public_Wildfire_Perimeters_View/FeatureServer/0/query?outFields=*&where=1%3D1\n",
        "\n",
        "Archived Wildfire Perimeters 2019-2020:\n",
        "\n",
        "API: https://services3.arcgis.com/T4QMspbfLg3qTGWY/arcgis/rest/services/Archived_Wildfire_Perimeters2/FeatureServer/0/query?outFields=*&where=1%3D1\n",
        "\n",
        "Historic Perimeters (2000-2018): \n",
        "API: \n",
        "https://services3.arcgis.com/T4QMspbfLg3qTGWY/arcgis/rest/services/Historic_Geomac_Perimeters_Combined_2000_2018/FeatureServer/0/query?outFields=*&where=1%3D1\n"
      ]
    },
    {
      "cell_type": "markdown",
      "metadata": {
        "id": "P5YgtkY6baVG",
        "colab_type": "text"
      },
      "source": [
        "### Pre-processing "
      ]
    },
    {
      "cell_type": "code",
      "metadata": {
        "id": "S88HSE5DPAlA",
        "colab_type": "code",
        "colab": {
          "base_uri": "https://localhost:8080/",
          "height": 68
        },
        "outputId": "82e22b11-315d-488b-ed92-7627198311e7"
      },
      "source": [
        "# access perimeter data in Drive\n",
        "perimeter_path = 'data/'\n",
        "\n",
        "fire_per = lstFiles(perimeter_path, '.shp')\n",
        "fire_per"
      ],
      "execution_count": 20,
      "outputs": [
        {
          "output_type": "execute_result",
          "data": {
            "text/plain": [
              "['data/WesternUS/GeoMac_2000_2018/US_HIST_FIRE_PERIMTRS_2000_2018_DD83.shp',\n",
              " 'data/WesternUS/GeoMac_2019/US_HIST_FIRE_PERIM_2019_dd83.shp',\n",
              " 'data/California/FRAP_Perimeters_ALL.shp']"
            ]
          },
          "metadata": {
            "tags": []
          },
          "execution_count": 20
        }
      ]
    },
    {
      "cell_type": "code",
      "metadata": {
        "id": "6OtBgA0QPEqx",
        "colab_type": "code",
        "colab": {}
      },
      "source": [
        "gmc_00_18 = gpd.read_file(fire_per[0]) # 2018-12-11 to 2000-01-01 \n",
        "gmc_19 = gpd.read_file(fire_per[1]) # 2019-05-15 to 2020-05-05\n",
        "frp_all = gpd.read_file(fire_per[2]) # 2020-04-01 to 2020-06-11\n",
        "gmc_19_filt = gmc_19.groupby(['uniquefire','state']).apply(lambda x: x.loc[x.gisacres.idxmax()])\n",
        "\n",
        "gmc_frames = [gmc_00_18, gmc_19_filt]\n",
        "gmc_00_19 = pd.concat(gmc_frames)"
      ],
      "execution_count": 332,
      "outputs": []
    },
    {
      "cell_type": "code",
      "metadata": {
        "id": "EG7nylIC6V_B",
        "colab_type": "code",
        "colab": {}
      },
      "source": [
        "stateList =('AZ', 'CA', 'CO', 'ID', 'MT', 'NM', 'NV', 'OR', 'UT', 'WA', 'WY')"
      ],
      "execution_count": 333,
      "outputs": []
    },
    {
      "cell_type": "code",
      "metadata": {
        "id": "YQ2e0Dp-5k7C",
        "colab_type": "code",
        "colab": {}
      },
      "source": [
        "gmc_00_19_ca = gmc_00_19[gmc_00_19.state=='CA'] \n",
        "gmc_00_19_westUS = gmc_00_19[gmc_00_19.state.isin(stateList)]"
      ],
      "execution_count": 334,
      "outputs": []
    },
    {
      "cell_type": "code",
      "metadata": {
        "id": "TkwbJVKQ7Fqf",
        "colab_type": "code",
        "colab": {}
      },
      "source": [
        "frp_all = frp_all.dropna(subset=['YEAR_'])\n",
        "frp_all['Year'] = frp_all['YEAR_'].astype('int64')\n",
        "frp_00_19_ca = frp_all[frp_all.Year.between(2000, 2019, inclusive=True)]"
      ],
      "execution_count": 335,
      "outputs": []
    },
    {
      "cell_type": "code",
      "metadata": {
        "id": "CR5xbJBT4yTU",
        "colab_type": "code",
        "colab": {
          "base_uri": "https://localhost:8080/",
          "height": 102
        },
        "outputId": "dec3b3e5-87e4-47d5-f3ed-4fbc71c957eb"
      },
      "source": [
        "print(\"Fires in Western US (2000-2019) \")\n",
        "print(\"GeoMac:\", len(gmc_00_19_westUS))\n",
        "\n",
        "print(\"Fires in CA (2000-2019)\")\n",
        "print(\"GeoMac:\", len(gmc_00_19_ca))\n",
        "print(\"FRAP:\", len(frp_00_19_ca))"
      ],
      "execution_count": 336,
      "outputs": [
        {
          "output_type": "stream",
          "text": [
            "Fires in Western US (2000-2019) \n",
            "GeoMac: 19260\n",
            "Fires in CA (2000-2019)\n",
            "GeoMac: 4573\n",
            "FRAP: 6336\n"
          ],
          "name": "stdout"
        }
      ]
    },
    {
      "cell_type": "code",
      "metadata": {
        "id": "VJaYx8DF8Ven",
        "colab_type": "code",
        "colab": {
          "base_uri": "https://localhost:8080/",
          "height": 139
        },
        "outputId": "25529d39-fad3-4590-c2bf-a3369a8004e7"
      },
      "source": [
        "gmc_00_19_westUS['Source'] = 'GeoMac'\n",
        "gmc_00_19_ca['Source'] = 'GeoMac'\n",
        "frp_00_19_ca['Source'] = 'FRAP'"
      ],
      "execution_count": 337,
      "outputs": [
        {
          "output_type": "stream",
          "text": [
            "/usr/local/lib/python3.6/dist-packages/geopandas/geodataframe.py:831: SettingWithCopyWarning: \n",
            "A value is trying to be set on a copy of a slice from a DataFrame.\n",
            "Try using .loc[row_indexer,col_indexer] = value instead\n",
            "\n",
            "See the caveats in the documentation: https://pandas.pydata.org/pandas-docs/stable/user_guide/indexing.html#returning-a-view-versus-a-copy\n",
            "  super(GeoDataFrame, self).__setitem__(key, value)\n"
          ],
          "name": "stderr"
        }
      ]
    },
    {
      "cell_type": "code",
      "metadata": {
        "id": "s-EtoM-c8n6W",
        "colab_type": "code",
        "colab": {}
      },
      "source": [
        "# gmc_00_19_ca = gmc_00_19_ca[['incidentna', 'state', 'perimeterd', 'fireyear', \n",
        "#               'Source', 'gisacres','geometry']]\n",
        "\n",
        "# frp_00_19_ca = frp_00_19_ca[['FIRE_NAME', 'STATE', 'ALARM_DATE', 'Year', 'Source',\n",
        "#               'GIS_ACRES', 'geometry']]"
      ],
      "execution_count": 66,
      "outputs": []
    },
    {
      "cell_type": "code",
      "metadata": {
        "id": "haxzTeN1_3iI",
        "colab_type": "code",
        "colab": {}
      },
      "source": [
        "def renameColumns(df, original, changeto):\n",
        "  df = df[original]\n",
        "  df = df.rename(columns=dict(zip(original, changeto)))\n",
        "  return df "
      ],
      "execution_count": 338,
      "outputs": []
    },
    {
      "cell_type": "code",
      "metadata": {
        "id": "zUEmZVZWBAUg",
        "colab_type": "code",
        "colab": {}
      },
      "source": [
        "gmc_original = ['incidentna', 'state', 'perimeterd', 'fireyear', \n",
        "              'Source', 'gisacres','geometry']\n",
        "              \n",
        "frp_original = ['FIRE_NAME', 'STATE', 'ALARM_DATE', 'Year', 'Source',\n",
        "              'GIS_ACRES', 'geometry']\n",
        "\n",
        "change_names = ['Fire', 'State', 'Date', 'Year', 'Source',\n",
        "              'Acres', 'geometry']"
      ],
      "execution_count": 339,
      "outputs": []
    },
    {
      "cell_type": "code",
      "metadata": {
        "id": "sVLIZiiPBEMs",
        "colab_type": "code",
        "colab": {}
      },
      "source": [
        "gmc_00_19_westUS = renameColumns(gmc_00_19_westUS, gmc_original, change_names)\n",
        "gmc_00_19_ca = renameColumns(gmc_00_19_ca, gmc_original, change_names)\n",
        "frp_00_19_ca = renameColumns(frp_00_19_ca, frp_original, change_names)"
      ],
      "execution_count": 340,
      "outputs": []
    },
    {
      "cell_type": "markdown",
      "metadata": {
        "id": "a8fAM72EGuqf",
        "colab_type": "text"
      },
      "source": [
        "Western US >> Geomac only \n",
        "ALL fires vs > 500 acres\n",
        "\n",
        "Total Acres + Count by mnth.yr\n",
        "\n",
        "gmc_00_19_westUS\n",
        "\n",
        "<br><br>\n",
        "CA >> Geomac vs FRAP (Source Type)\n",
        "\n",
        "Total Acres + Count by mnth.yr.source\n",
        "\n",
        "frp_00_19_ca, gmc_00_19_ca "
      ]
    },
    {
      "cell_type": "code",
      "metadata": {
        "id": "jzgRAQXcIlWX",
        "colab_type": "code",
        "colab": {}
      },
      "source": [
        "gmc_00_19_westUS = gmc_00_19_westUS.sort_values('Year')\n",
        "gmc_00_19_westUS = gmc_00_19_westUS[gmc_00_19_westUS['Year'].isin(range(2000, 2020))]"
      ],
      "execution_count": 341,
      "outputs": []
    },
    {
      "cell_type": "code",
      "metadata": {
        "id": "kybweiAgXGcO",
        "colab_type": "code",
        "colab": {}
      },
      "source": [
        "gmc_sum = gmc_00_19_westUS.groupby('Year').agg({'Fire': 'count'}).reset_index()"
      ],
      "execution_count": 342,
      "outputs": []
    },
    {
      "cell_type": "code",
      "metadata": {
        "id": "qGHDns7dJG2R",
        "colab_type": "code",
        "colab": {}
      },
      "source": [
        "gmc_00_19_westUS_LARGE = gmc_00_19_westUS[gmc_00_19_westUS['Acres'] >= 500]"
      ],
      "execution_count": 343,
      "outputs": []
    },
    {
      "cell_type": "code",
      "metadata": {
        "id": "ZJTLqgciUOyl",
        "colab_type": "code",
        "colab": {}
      },
      "source": [
        "gmc_year_sum = gmc_00_19_westUS_LARGE.groupby('Year').agg({'Acres': ['sum'], 'Fire': 'count'}).reset_index()\n",
        "gmc_year_sum.columns = ['Year', 'Total Acres', 'Fire Count']"
      ],
      "execution_count": 344,
      "outputs": []
    },
    {
      "cell_type": "code",
      "metadata": {
        "id": "k8nStnbEQQ67",
        "colab_type": "code",
        "colab": {}
      },
      "source": [
        "countvals = gmc_00_19_westUS_LARGE.groupby('Year')['Fire'].nunique().reset_index()\n",
        "countvalslst = countvals['Fire'].values.tolist()"
      ],
      "execution_count": 345,
      "outputs": []
    },
    {
      "cell_type": "code",
      "metadata": {
        "id": "x46UfR0NvkXc",
        "colab_type": "code",
        "colab": {}
      },
      "source": [
        "def addDateAttributes(df, dateColumn, yr_range, mnth_range):\n",
        "  # create column for year, month, day \n",
        "  df[dateColumn]= pd.to_datetime(df[dateColumn], format='%Y-%m-%d')\n",
        "  df['Year'] = df[dateColumn].dt.strftime('%Y').astype('int64')\n",
        "  df['Month'] = df[dateColumn].dt.strftime('%m').astype('int64')\n",
        "  df['Day'] = df[dateColumn].dt.strftime('%d').astype('int64')\n",
        "  df['JD'] = df[dateColumn].dt.strftime('%j').astype('int64')\n",
        "  df['Week'] = df[dateColumn].apply(lambda x: \"%d\" % (x.week)).astype('int64')\n",
        "  # filter by year\n",
        "  df = df[df.Year.isin(yr_range)]\n",
        "  df = df[df.Month.isin(mnth_range)]\n",
        "  return df"
      ],
      "execution_count": 346,
      "outputs": []
    },
    {
      "cell_type": "code",
      "metadata": {
        "id": "a8V-nWANAsLC",
        "colab_type": "code",
        "colab": {}
      },
      "source": [
        "yr_range = range(2000, 2021)\n",
        "mnth_range = range(1, 12)"
      ],
      "execution_count": 347,
      "outputs": []
    },
    {
      "cell_type": "code",
      "metadata": {
        "id": "zL0DnDArCEl2",
        "colab_type": "code",
        "colab": {
          "base_uri": "https://localhost:8080/",
          "height": 139
        },
        "outputId": "53fc6dcd-8c8e-425e-cb85-d094a217a5da"
      },
      "source": [
        "gmc_00_19_westUS_LARGE = addDateAttributes(gmc_00_19_westUS_LARGE, 'Date', \n",
        "                   yr_range, mnth_range)"
      ],
      "execution_count": 348,
      "outputs": [
        {
          "output_type": "stream",
          "text": [
            "/usr/local/lib/python3.6/dist-packages/geopandas/geodataframe.py:831: SettingWithCopyWarning: \n",
            "A value is trying to be set on a copy of a slice from a DataFrame.\n",
            "Try using .loc[row_indexer,col_indexer] = value instead\n",
            "\n",
            "See the caveats in the documentation: https://pandas.pydata.org/pandas-docs/stable/user_guide/indexing.html#returning-a-view-versus-a-copy\n",
            "  super(GeoDataFrame, self).__setitem__(key, value)\n"
          ],
          "name": "stderr"
        }
      ]
    },
    {
      "cell_type": "markdown",
      "metadata": {
        "id": "022SyByZ3MX2",
        "colab_type": "text"
      },
      "source": [
        "### Western US Fires"
      ]
    },
    {
      "cell_type": "code",
      "metadata": {
        "id": "f_Uu6BWawXlX",
        "colab_type": "code",
        "colab": {}
      },
      "source": [
        "gmc_00_19_westUS_LARGE.head()\n",
        "\n",
        "yr_range = range(2012, 2020)\n",
        "mnth_range = range(1, 12)\n",
        "gmc_12_19_westUS_LARGE = gmc_00_19_westUS_LARGE[(gmc_00_19_westUS_LARGE.Year.isin(yr_range) &\n",
        "                                                 (gmc_00_19_westUS_LARGE.Month.isin(mnth_range)))]"
      ],
      "execution_count": 358,
      "outputs": []
    },
    {
      "cell_type": "code",
      "metadata": {
        "id": "Jst4yxunIRpK",
        "colab_type": "code",
        "colab": {
          "base_uri": "https://localhost:8080/",
          "height": 419
        },
        "outputId": "44a01994-b7b7-42da-9bdc-de66b3d5f080"
      },
      "source": [
        "fire_by_yr = gmc_12_19_westUS_LARGE.groupby(['State','Year', 'Week']).agg({'Fire': 'count', 'Acres': ['sum', 'mean', 'std']}).reset_index()\n",
        "fire_by_yr.columns = ['State', 'Year', 'Week', 'Count', 'Total (Acres)', 'Mean (Acres)', 'Stdv (Acres']\n",
        "fire_by_yr['Year'] = fire_by_yr['Year'].astype('int64')\n",
        "fire_by_yr['Year'] = fire_by_yr['Year'].astype('str')\n",
        "fire_by_yr"
      ],
      "execution_count": 359,
      "outputs": [
        {
          "output_type": "execute_result",
          "data": {
            "text/html": [
              "<div>\n",
              "<style scoped>\n",
              "    .dataframe tbody tr th:only-of-type {\n",
              "        vertical-align: middle;\n",
              "    }\n",
              "\n",
              "    .dataframe tbody tr th {\n",
              "        vertical-align: top;\n",
              "    }\n",
              "\n",
              "    .dataframe thead th {\n",
              "        text-align: right;\n",
              "    }\n",
              "</style>\n",
              "<table border=\"1\" class=\"dataframe\">\n",
              "  <thead>\n",
              "    <tr style=\"text-align: right;\">\n",
              "      <th></th>\n",
              "      <th>State</th>\n",
              "      <th>Year</th>\n",
              "      <th>Week</th>\n",
              "      <th>Count</th>\n",
              "      <th>Total (Acres)</th>\n",
              "      <th>Mean (Acres)</th>\n",
              "      <th>Stdv (Acres</th>\n",
              "    </tr>\n",
              "  </thead>\n",
              "  <tbody>\n",
              "    <tr>\n",
              "      <th>0</th>\n",
              "      <td>AZ</td>\n",
              "      <td>2012</td>\n",
              "      <td>12</td>\n",
              "      <td>1</td>\n",
              "      <td>1981.795399</td>\n",
              "      <td>1981.795399</td>\n",
              "      <td>NaN</td>\n",
              "    </tr>\n",
              "    <tr>\n",
              "      <th>1</th>\n",
              "      <td>AZ</td>\n",
              "      <td>2012</td>\n",
              "      <td>18</td>\n",
              "      <td>1</td>\n",
              "      <td>1704.086287</td>\n",
              "      <td>1704.086287</td>\n",
              "      <td>NaN</td>\n",
              "    </tr>\n",
              "    <tr>\n",
              "      <th>2</th>\n",
              "      <td>AZ</td>\n",
              "      <td>2012</td>\n",
              "      <td>20</td>\n",
              "      <td>2</td>\n",
              "      <td>3735.736984</td>\n",
              "      <td>1867.868492</td>\n",
              "      <td>391.709450</td>\n",
              "    </tr>\n",
              "    <tr>\n",
              "      <th>3</th>\n",
              "      <td>AZ</td>\n",
              "      <td>2012</td>\n",
              "      <td>21</td>\n",
              "      <td>1</td>\n",
              "      <td>16080.245275</td>\n",
              "      <td>16080.245275</td>\n",
              "      <td>NaN</td>\n",
              "    </tr>\n",
              "    <tr>\n",
              "      <th>4</th>\n",
              "      <td>AZ</td>\n",
              "      <td>2012</td>\n",
              "      <td>22</td>\n",
              "      <td>1</td>\n",
              "      <td>16218.632302</td>\n",
              "      <td>16218.632302</td>\n",
              "      <td>NaN</td>\n",
              "    </tr>\n",
              "    <tr>\n",
              "      <th>...</th>\n",
              "      <td>...</td>\n",
              "      <td>...</td>\n",
              "      <td>...</td>\n",
              "      <td>...</td>\n",
              "      <td>...</td>\n",
              "      <td>...</td>\n",
              "      <td>...</td>\n",
              "    </tr>\n",
              "    <tr>\n",
              "      <th>1086</th>\n",
              "      <td>WY</td>\n",
              "      <td>2018</td>\n",
              "      <td>38</td>\n",
              "      <td>2</td>\n",
              "      <td>5885.282900</td>\n",
              "      <td>2942.641450</td>\n",
              "      <td>1185.442672</td>\n",
              "    </tr>\n",
              "    <tr>\n",
              "      <th>1087</th>\n",
              "      <td>WY</td>\n",
              "      <td>2018</td>\n",
              "      <td>39</td>\n",
              "      <td>1</td>\n",
              "      <td>6496.470430</td>\n",
              "      <td>6496.470430</td>\n",
              "      <td>NaN</td>\n",
              "    </tr>\n",
              "    <tr>\n",
              "      <th>1088</th>\n",
              "      <td>WY</td>\n",
              "      <td>2018</td>\n",
              "      <td>40</td>\n",
              "      <td>1</td>\n",
              "      <td>61567.565252</td>\n",
              "      <td>61567.565252</td>\n",
              "      <td>NaN</td>\n",
              "    </tr>\n",
              "    <tr>\n",
              "      <th>1089</th>\n",
              "      <td>WY</td>\n",
              "      <td>2019</td>\n",
              "      <td>33</td>\n",
              "      <td>1</td>\n",
              "      <td>1349.241505</td>\n",
              "      <td>1349.241505</td>\n",
              "      <td>NaN</td>\n",
              "    </tr>\n",
              "    <tr>\n",
              "      <th>1090</th>\n",
              "      <td>WY</td>\n",
              "      <td>2019</td>\n",
              "      <td>36</td>\n",
              "      <td>2</td>\n",
              "      <td>34591.233703</td>\n",
              "      <td>17295.616851</td>\n",
              "      <td>8652.514569</td>\n",
              "    </tr>\n",
              "  </tbody>\n",
              "</table>\n",
              "<p>1091 rows × 7 columns</p>\n",
              "</div>"
            ],
            "text/plain": [
              "     State  Year  Week  Count  Total (Acres)  Mean (Acres)  Stdv (Acres\n",
              "0       AZ  2012    12      1    1981.795399   1981.795399          NaN\n",
              "1       AZ  2012    18      1    1704.086287   1704.086287          NaN\n",
              "2       AZ  2012    20      2    3735.736984   1867.868492   391.709450\n",
              "3       AZ  2012    21      1   16080.245275  16080.245275          NaN\n",
              "4       AZ  2012    22      1   16218.632302  16218.632302          NaN\n",
              "...    ...   ...   ...    ...            ...           ...          ...\n",
              "1086    WY  2018    38      2    5885.282900   2942.641450  1185.442672\n",
              "1087    WY  2018    39      1    6496.470430   6496.470430          NaN\n",
              "1088    WY  2018    40      1   61567.565252  61567.565252          NaN\n",
              "1089    WY  2019    33      1    1349.241505   1349.241505          NaN\n",
              "1090    WY  2019    36      2   34591.233703  17295.616851  8652.514569\n",
              "\n",
              "[1091 rows x 7 columns]"
            ]
          },
          "metadata": {
            "tags": []
          },
          "execution_count": 359
        }
      ]
    },
    {
      "cell_type": "code",
      "metadata": {
        "id": "gqqQHEOHHt1b",
        "colab_type": "code",
        "colab": {
          "base_uri": "https://localhost:8080/",
          "height": 437
        },
        "outputId": "9b4c52e6-a655-49b6-ca29-ba6d518c3905"
      },
      "source": [
        "import seaborn as sns\n",
        "sns.set(style='ticks')\n",
        "# Create combo chart\n",
        "fig, ax1 = plt.subplots(figsize=(10,6))\n",
        "color = 'tab:green'\n",
        "# bar plot creation\n",
        "ax1.set_title('Western US: GeoMac Fire Count', fontsize=16)\n",
        "ax1.set_xlabel('Year', fontsize=16)\n",
        "ax1.set_ylabel('Count', fontsize=16)\n",
        "ax1 = sns.barplot(x='Year', y = 'Fire', data = gmc_sum, color='#eaeaea')\n",
        "ax1.tick_params(axis='y')\n",
        "ax1 = sns.barplot(x='Year', y = 'Fire Count', data = gmc_year_sum, color='#c39797')\n",
        "\n",
        "for p, label in zip(ax1.patches, countvalslst):\n",
        "    ax1.annotate(label, (p.get_x()+0.375, p.get_height()+0.15))\n",
        "\n",
        "ax1.set_xticklabels(ax1.get_xticklabels(),rotation=45)\n",
        "\n",
        "#specify we want to share the same x-axis\n",
        "ax2 = ax1.twinx()\n",
        "color = 'tab:red'\n",
        "# #line plot creation\n",
        "#ax2.set_ylabel('Area Burned', fontsize=16)\n",
        "ax2 = sns.lineplot(x='Year', y='Total (Acres)', data = fire_by_yr, sort=False, color=color)\n",
        "#ax2 = sns.lineplot(x='Year', y='Total Acres', data=gmc_year_sum, color=color)\n",
        "#ax2.tick_params(axis='y', color=color)\n",
        "\n",
        "plt.tight_layout()\n",
        "plt.savefig('Figures/WesternUS_Count.png', dpi = 400)"
      ],
      "execution_count": 352,
      "outputs": [
        {
          "output_type": "display_data",
          "data": {
            "image/png": "[encoded data removed]",
            "text/plain": [
              "<Figure size 720x432 with 2 Axes>"
            ]
          },
          "metadata": {
            "tags": []
          }
        }
      ]
    },
    {
      "cell_type": "code",
      "metadata": {
        "id": "yBAGQWPSBwji",
        "colab_type": "code",
        "colab": {}
      },
      "source": [
        "fire_by_yr = fire_by_yr.sort_values(by=['State','Year', 'Week'])"
      ],
      "execution_count": 360,
      "outputs": []
    },
    {
      "cell_type": "code",
      "metadata": {
        "id": "76L_3zcz0X5B",
        "colab_type": "code",
        "colab": {}
      },
      "source": [
        "\n",
        "sample = fire_by_yr[['State', 'Year', 'Total (Acres)']]\n",
        "\n",
        "table = pd.pivot_table(sample, values='Total (Acres)', index=['State'],\n",
        "                    columns=['Year']).reset_index()"
      ],
      "execution_count": 369,
      "outputs": []
    },
    {
      "cell_type": "code",
      "metadata": {
        "id": "hgd1ZdCx3tX6",
        "colab_type": "code",
        "colab": {
          "base_uri": "https://localhost:8080/",
          "height": 268
        },
        "outputId": "e4d03911-79a9-4a8c-c913-43352c148899"
      },
      "source": [
        "import seaborn as sns\n",
        "sns.set(style='ticks')\n",
        "state_y = ['AZ', 'CA', 'CO', 'ID', 'MT', 'NM', 'NV', 'OR', 'UT', 'WA', 'WY']\n",
        "\n",
        "grid_kws = {\"height_ratios\": (1, 0.05), \"hspace\": 1.3}\n",
        "f, (ax, cbar_ax) = plt.subplots(2, gridspec_kw=grid_kws)\n",
        "ax = sns.heatmap(table, ax=ax, cmap= sns.cubehelix_palette(8, start=.5, rot=-.75),\n",
        "                 cbar_ax=cbar_ax, yticklabels = state_y, \n",
        "                 cbar_kws={\"orientation\": \"horizontal\"})\n",
        "\n",
        "plt.title('Area', color='black')\n",
        "plt.savefig('Figures/Interagency_Area_HeatMap_LargeFires_1219.png', dpi = 400)"
      ],
      "execution_count": 368,
      "outputs": [
        {
          "output_type": "display_data",
          "data": {
            "image/png": "[encoded data removed]",
            "text/plain": [
              "<Figure size 432x288 with 2 Axes>"
            ]
          },
          "metadata": {
            "tags": []
          }
        }
      ]
    },
    {
      "cell_type": "code",
      "metadata": {
        "id": "--x5bK3wzwmv",
        "colab_type": "code",
        "colab": {
          "base_uri": "https://localhost:8080/",
          "height": 293
        },
        "outputId": "18ca2911-2bf3-4d1c-b65b-5eaa56b6ca85"
      },
      "source": [
        "table.set_index('State').T.plot(kind='bar', stacked=True)\n",
        "plt.title('Interagency Area', color='black')\n",
        "plt.legend(loc='center left', bbox_to_anchor=(1.0, 0.5))\n",
        "plt.tight_layout()\n",
        "plt.savefig('Figures/Interagency_Area_stackedbar_LargeFires_1219.png', dpi = 400)"
      ],
      "execution_count": 370,
      "outputs": [
        {
          "output_type": "display_data",
          "data": {
            "image/png": "[encoded data removed]",
            "text/plain": [
              "<Figure size 432x288 with 1 Axes>"
            ]
          },
          "metadata": {
            "tags": []
          }
        }
      ]
    },
    {
      "cell_type": "markdown",
      "metadata": {
        "id": "fcy7EqX6-gEE",
        "colab_type": "text"
      },
      "source": [
        "## California\n"
      ]
    },
    {
      "cell_type": "code",
      "metadata": {
        "id": "zkujcu9q5iGu",
        "colab_type": "code",
        "colab": {
          "base_uri": "https://localhost:8080/",
          "height": 204
        },
        "outputId": "b2fd1a25-7186-48fa-8a27-80cb81a8ff97"
      },
      "source": [
        "gmc_00_19_ca.head()"
      ],
      "execution_count": 372,
      "outputs": [
        {
          "output_type": "execute_result",
          "data": {
            "text/html": [
              "<div>\n",
              "<style scoped>\n",
              "    .dataframe tbody tr th:only-of-type {\n",
              "        vertical-align: middle;\n",
              "    }\n",
              "\n",
              "    .dataframe tbody tr th {\n",
              "        vertical-align: top;\n",
              "    }\n",
              "\n",
              "    .dataframe thead th {\n",
              "        text-align: right;\n",
              "    }\n",
              "</style>\n",
              "<table border=\"1\" class=\"dataframe\">\n",
              "  <thead>\n",
              "    <tr style=\"text-align: right;\">\n",
              "      <th></th>\n",
              "      <th>Fire</th>\n",
              "      <th>State</th>\n",
              "      <th>Date</th>\n",
              "      <th>Year</th>\n",
              "      <th>Source</th>\n",
              "      <th>Acres</th>\n",
              "      <th>geometry</th>\n",
              "    </tr>\n",
              "  </thead>\n",
              "  <tbody>\n",
              "    <tr>\n",
              "      <th>7</th>\n",
              "      <td>WHALEBACK</td>\n",
              "      <td>CA</td>\n",
              "      <td>2018-08-05</td>\n",
              "      <td>2018</td>\n",
              "      <td>GeoMac</td>\n",
              "      <td>18701.898412</td>\n",
              "      <td>MULTIPOLYGON (((-120.78563 40.67675, -120.7857...</td>\n",
              "    </tr>\n",
              "    <tr>\n",
              "      <th>10</th>\n",
              "      <td>DOUBLE</td>\n",
              "      <td>CA</td>\n",
              "      <td>2013-08-16</td>\n",
              "      <td>2013</td>\n",
              "      <td>GeoMac</td>\n",
              "      <td>64.273666</td>\n",
              "      <td>POLYGON ((-122.48004 39.01807, -122.48023 39.0...</td>\n",
              "    </tr>\n",
              "    <tr>\n",
              "      <th>18</th>\n",
              "      <td>THOMAS</td>\n",
              "      <td>CA</td>\n",
              "      <td>2017-12-27</td>\n",
              "      <td>2017</td>\n",
              "      <td>GeoMac</td>\n",
              "      <td>281893.756972</td>\n",
              "      <td>MULTIPOLYGON (((-119.42465 34.63699, -119.4243...</td>\n",
              "    </tr>\n",
              "    <tr>\n",
              "      <th>64</th>\n",
              "      <td>SOUP 5</td>\n",
              "      <td>CA</td>\n",
              "      <td>2016-09-19</td>\n",
              "      <td>2016</td>\n",
              "      <td>GeoMac</td>\n",
              "      <td>0.086849</td>\n",
              "      <td>POLYGON ((-120.28226 41.28389, -120.28235 41.2...</td>\n",
              "    </tr>\n",
              "    <tr>\n",
              "      <th>72</th>\n",
              "      <td>PLEASANT</td>\n",
              "      <td>CA</td>\n",
              "      <td>2018-02-23</td>\n",
              "      <td>2018</td>\n",
              "      <td>GeoMac</td>\n",
              "      <td>2076.568139</td>\n",
              "      <td>MULTIPOLYGON (((-118.42576 37.41812, -118.4254...</td>\n",
              "    </tr>\n",
              "  </tbody>\n",
              "</table>\n",
              "</div>"
            ],
            "text/plain": [
              "         Fire  ...                                           geometry\n",
              "7   WHALEBACK  ...  MULTIPOLYGON (((-120.78563 40.67675, -120.7857...\n",
              "10     DOUBLE  ...  POLYGON ((-122.48004 39.01807, -122.48023 39.0...\n",
              "18     THOMAS  ...  MULTIPOLYGON (((-119.42465 34.63699, -119.4243...\n",
              "64     SOUP 5  ...  POLYGON ((-120.28226 41.28389, -120.28235 41.2...\n",
              "72   PLEASANT  ...  MULTIPOLYGON (((-118.42576 37.41812, -118.4254...\n",
              "\n",
              "[5 rows x 7 columns]"
            ]
          },
          "metadata": {
            "tags": []
          },
          "execution_count": 372
        }
      ]
    },
    {
      "cell_type": "code",
      "metadata": {
        "id": "aFqTnDgy5i3k",
        "colab_type": "code",
        "colab": {
          "base_uri": "https://localhost:8080/",
          "height": 204
        },
        "outputId": "1aeb9e1b-933c-42bd-b791-90948b56f7f7"
      },
      "source": [
        "frp_00_19_ca.head()"
      ],
      "execution_count": 374,
      "outputs": [
        {
          "output_type": "execute_result",
          "data": {
            "text/html": [
              "<div>\n",
              "<style scoped>\n",
              "    .dataframe tbody tr th:only-of-type {\n",
              "        vertical-align: middle;\n",
              "    }\n",
              "\n",
              "    .dataframe tbody tr th {\n",
              "        vertical-align: top;\n",
              "    }\n",
              "\n",
              "    .dataframe thead th {\n",
              "        text-align: right;\n",
              "    }\n",
              "</style>\n",
              "<table border=\"1\" class=\"dataframe\">\n",
              "  <thead>\n",
              "    <tr style=\"text-align: right;\">\n",
              "      <th></th>\n",
              "      <th>Fire</th>\n",
              "      <th>State</th>\n",
              "      <th>Date</th>\n",
              "      <th>Year</th>\n",
              "      <th>Source</th>\n",
              "      <th>Acres</th>\n",
              "      <th>geometry</th>\n",
              "    </tr>\n",
              "  </thead>\n",
              "  <tbody>\n",
              "    <tr>\n",
              "      <th>0</th>\n",
              "      <td>OCTOBER</td>\n",
              "      <td>CA</td>\n",
              "      <td>2007-10-21</td>\n",
              "      <td>2007</td>\n",
              "      <td>FRAP</td>\n",
              "      <td>25.7367</td>\n",
              "      <td>POLYGON ((138036.906 -402646.363, 138086.986 -...</td>\n",
              "    </tr>\n",
              "    <tr>\n",
              "      <th>1</th>\n",
              "      <td>MAGIC</td>\n",
              "      <td>CA</td>\n",
              "      <td>2007-10-22</td>\n",
              "      <td>2007</td>\n",
              "      <td>FRAP</td>\n",
              "      <td>2824.8800</td>\n",
              "      <td>POLYGON ((130072.487 -398622.842, 130094.237 -...</td>\n",
              "    </tr>\n",
              "    <tr>\n",
              "      <th>2</th>\n",
              "      <td>RANCH</td>\n",
              "      <td>CA</td>\n",
              "      <td>2007-10-20</td>\n",
              "      <td>2007</td>\n",
              "      <td>FRAP</td>\n",
              "      <td>58410.3000</td>\n",
              "      <td>POLYGON ((114013.974 -379231.746, 114190.835 -...</td>\n",
              "    </tr>\n",
              "    <tr>\n",
              "      <th>3</th>\n",
              "      <td>EMMA</td>\n",
              "      <td>CA</td>\n",
              "      <td>2007-09-11</td>\n",
              "      <td>2007</td>\n",
              "      <td>FRAP</td>\n",
              "      <td>172.2150</td>\n",
              "      <td>POLYGON ((176902.236 -388673.082, 176907.996 -...</td>\n",
              "    </tr>\n",
              "    <tr>\n",
              "      <th>4</th>\n",
              "      <td>CORRAL</td>\n",
              "      <td>CA</td>\n",
              "      <td>2007-11-24</td>\n",
              "      <td>2007</td>\n",
              "      <td>FRAP</td>\n",
              "      <td>4708.0000</td>\n",
              "      <td>POLYGON ((115905.006 -436381.137, 115926.897 -...</td>\n",
              "    </tr>\n",
              "  </tbody>\n",
              "</table>\n",
              "</div>"
            ],
            "text/plain": [
              "      Fire State  ...       Acres                                           geometry\n",
              "0  OCTOBER    CA  ...     25.7367  POLYGON ((138036.906 -402646.363, 138086.986 -...\n",
              "1    MAGIC    CA  ...   2824.8800  POLYGON ((130072.487 -398622.842, 130094.237 -...\n",
              "2    RANCH    CA  ...  58410.3000  POLYGON ((114013.974 -379231.746, 114190.835 -...\n",
              "3     EMMA    CA  ...    172.2150  POLYGON ((176902.236 -388673.082, 176907.996 -...\n",
              "4   CORRAL    CA  ...   4708.0000  POLYGON ((115905.006 -436381.137, 115926.897 -...\n",
              "\n",
              "[5 rows x 7 columns]"
            ]
          },
          "metadata": {
            "tags": []
          },
          "execution_count": 374
        }
      ]
    },
    {
      "cell_type": "code",
      "metadata": {
        "id": "ENVu1r_d5rV5",
        "colab_type": "code",
        "colab": {}
      },
      "source": [
        "# merge ca fires datasets \n",
        "\n",
        "ca_frames = [gmc_00_19_ca, frp_00_19_ca]\n",
        "CA_00_19 = pd.concat(ca_frames)\n",
        "CA_00_19_LARGE = CA_00_19[CA_00_19['Acres'] >= 500]"
      ],
      "execution_count": 391,
      "outputs": []
    },
    {
      "cell_type": "code",
      "metadata": {
        "id": "25JhWJtI6X43",
        "colab_type": "code",
        "colab": {
          "base_uri": "https://localhost:8080/",
          "height": 139
        },
        "outputId": "7608298f-bd71-4dba-8509-64359b3a4b14"
      },
      "source": [
        "CA_00_19_LARGE['Size'] = 'Large (>50 acres)'\n",
        "CA_00_19['Size'] ='All'"
      ],
      "execution_count": 401,
      "outputs": [
        {
          "output_type": "stream",
          "text": [
            "/usr/local/lib/python3.6/dist-packages/geopandas/geodataframe.py:831: SettingWithCopyWarning: \n",
            "A value is trying to be set on a copy of a slice from a DataFrame.\n",
            "Try using .loc[row_indexer,col_indexer] = value instead\n",
            "\n",
            "See the caveats in the documentation: https://pandas.pydata.org/pandas-docs/stable/user_guide/indexing.html#returning-a-view-versus-a-copy\n",
            "  super(GeoDataFrame, self).__setitem__(key, value)\n"
          ],
          "name": "stderr"
        }
      ]
    },
    {
      "cell_type": "code",
      "metadata": {
        "id": "jiUSk_mR6qeR",
        "colab_type": "code",
        "colab": {}
      },
      "source": [
        "ca_frames = [CA_00_19_LARGE, CA_00_19]\n",
        "CA_00_19_size = pd.concat(ca_frames)\n",
        "CA_00_19_size = CA_00_19_size.sort_values(by=['Year'])"
      ],
      "execution_count": 402,
      "outputs": []
    },
    {
      "cell_type": "code",
      "metadata": {
        "id": "9XKoAhNq7vg7",
        "colab_type": "code",
        "colab": {}
      },
      "source": [
        "CA_00_19_size = CA_00_19_size[CA_00_19_size['Year'].isin(range(2000, 2020))]"
      ],
      "execution_count": 403,
      "outputs": []
    },
    {
      "cell_type": "code",
      "metadata": {
        "id": "z3SyHHce6unn",
        "colab_type": "code",
        "colab": {
          "base_uri": "https://localhost:8080/",
          "height": 383
        },
        "outputId": "e3fc6277-3d86-4c37-f61c-bfb8784c5741"
      },
      "source": [
        "sns.set(style='whitegrid')\n",
        "colors = [\"windows blue\", \"amber\"]\n",
        "palette = sns.xkcd_palette(colors)\n",
        "\n",
        "g = sns.catplot(x=\"Year\", kind = \"count\",\n",
        "            hue='Source', col=\"Size\",palette=palette,\n",
        "            data=CA_00_19_size)\n",
        "\n",
        "\n",
        "g.set_xticklabels(rotation=90)\n",
        "plt.savefig('Figures/Interagency_comparison_1219.png', dpi = 400)"
      ],
      "execution_count": 407,
      "outputs": [
        {
          "output_type": "display_data",
          "data": {
            "image/png": "[encoded data removed]",
            "text/plain": [
              "<Figure size 804.1x360 with 2 Axes>"
            ]
          },
          "metadata": {
            "tags": []
          }
        }
      ]
    },
    {
      "cell_type": "code",
      "metadata": {
        "id": "VBbiezHh7CSl",
        "colab_type": "code",
        "colab": {}
      },
      "source": [
        ""
      ],
      "execution_count": null,
      "outputs": []
    }
  ]
}