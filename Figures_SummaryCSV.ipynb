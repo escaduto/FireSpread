{
 "cells": [
  {
   "cell_type": "code",
   "execution_count": 1,
   "metadata": {},
   "outputs": [],
   "source": [
    "from windrose import WindroseAxes\n",
    "from matplotlib import pyplot as plt\n",
    "import matplotlib.cm as cm\n",
    "import numpy as np\n",
    "import pandas as pd \n",
    "import os\n",
    "import seaborn as sns\n",
    "from pylab import savefig\n",
    "import matplotlib"
   ]
  },
  {
   "cell_type": "code",
   "execution_count": 2,
   "metadata": {},
   "outputs": [],
   "source": [
    "# Create new folder in root path \n",
    "def createFolder(rootPath, folderName): \n",
    "    folderPath = os.path.join(rootPath, folderName) \n",
    "    if not os.path.exists(folderPath):\n",
    "        os.makedirs(folderPath)\n",
    "    return folderPath + \"\\\\\" "
   ]
  },
  {
   "cell_type": "code",
   "execution_count": 12,
   "metadata": {},
   "outputs": [],
   "source": [
    "def windRosePlot(df, figurePath): \n",
    "    ws = df['Direction'].values\n",
    "    wd = df['Distance'].values\n",
    "    ax = WindroseAxes.from_ax()\n",
    "    ax.contourf(ws, wd, cmap=cm.hot)\n",
    "    ax.set_legend()\n",
    "    ax.figure.savefig(figurePath + fr + \"_\" + str(yr) + '.png', dpi = 400)\n",
    "    ax.figure.clf()"
   ]
  },
  {
   "cell_type": "code",
   "execution_count": 4,
   "metadata": {},
   "outputs": [],
   "source": [
    "def shpFiles(rootPath, ext):\n",
    "    emptyList = []\n",
    "    root = rootPath\n",
    "    for path, subdirs, files in os.walk(root):\n",
    "        for names in files: \n",
    "            if names.endswith(ext) and not names.startswith(\"._\"):\n",
    "                emptyList.append(os.path.join(path, names))\n",
    "    return(emptyList)"
   ]
  },
  {
   "cell_type": "code",
   "execution_count": 5,
   "metadata": {},
   "outputs": [],
   "source": [
    "# Weighted Average DEF \n",
    "def wavg(group, avg_name, weight_name):\n",
    "    d = group[avg_name]\n",
    "    w = group[weight_name]\n",
    "    try:\n",
    "        return (d * w).sum() / w.sum()\n",
    "    except ZeroDivisionError:\n",
    "        return d.mean()"
   ]
  },
  {
   "cell_type": "code",
   "execution_count": 6,
   "metadata": {},
   "outputs": [],
   "source": [
    "# find quartile \n",
    "def quartiles(dataPoints):\n",
    "    # check the input is not empty\n",
    "    # 1. order the data set\n",
    "    sortedPoints = sorted(dataPoints)\n",
    "    # 2. divide the data set in two halves\n",
    "    mid = len(sortedPoints) // 2 # uses the floor division to have integer returned\n",
    "    if (len(sortedPoints) % 2 == 0):\n",
    "        # even\n",
    "        lowerQ = np.median(sortedPoints[:mid])\n",
    "        upperQ = np.median(sortedPoints[mid:])\n",
    "    else:\n",
    "        # odd\n",
    "        lowerQ = np.median(sortedPoints[:mid])  # same as even\n",
    "        upperQ = np.median(sortedPoints[mid+1:])\n",
    "    return (lowerQ, upperQ)"
   ]
  },
  {
   "cell_type": "code",
   "execution_count": 7,
   "metadata": {},
   "outputs": [],
   "source": [
    "FinalDF = pd.read_csv(r'F:\\DriversFireProject\\NaturalNeighborResults\\FinalDF.csv', index_col=0)\n",
    "FinalDF = FinalDF[~FinalDF['Fire'].isin(['Colby', 'Cherokee', 'Falls'])]\n",
    "sample = FinalDF.groupby(['Fire', 'Year']).size().reset_index()\n",
    "fire = sample['Fire'].tolist()\n",
    "FIRES = sample['Fire'].tolist()\n",
    "YEARS =  sample['Year'].tolist()"
   ]
  },
  {
   "cell_type": "code",
   "execution_count": 13,
   "metadata": {
    "scrolled": true
   },
   "outputs": [
    {
     "name": "stdout",
     "output_type": "stream",
     "text": [
      "South 2019\n",
      "Southcomplexcastle 2015\n",
      "Southcomplexpattison 2015\n",
      "Southcomplexpelletreau 2015\n",
      "Southfork 2017\n",
      "Springs 2019\n",
      "Steele 2017\n",
      "Stonemdf 2018\n",
      "Sulfur 2017\n",
      "Summitcomplexmccormick 2017\n",
      "Swedes 2013\n",
      "Tassajarra 2015\n",
      "Tesla 2015\n",
      "Thomas 2018\n",
      "Tomahawk 2014\n",
      "Trailhead 2016\n",
      "Tubbs 2017\n",
      "Tucker 2019\n",
      "Turkey 2012\n",
      "Valley 2018\n",
      "Walker 2019\n",
      "Wall 2017\n",
      "Way 2014\n",
      "Whaleback 2018\n",
      "White 2013\n",
      "Whittier 2017\n",
      "Willard 2016\n",
      "Williams 2012\n",
      "Willow 2015\n",
      "Winter 2017\n",
      "Woolsey 2018\n",
      "Wragg 2015\n",
      "Wye 2012\n",
      "Young 2017\n"
     ]
    },
    {
     "data": {
      "text/plain": [
       "<Figure size 432x288 with 0 Axes>"
      ]
     },
     "metadata": {},
     "output_type": "display_data"
    }
   ],
   "source": [
    "sns.set(style=\"whitegrid\")\n",
    "palette = sns.color_palette(\"mako_r\", 3)\n",
    "rootPath = r\"F:\\DriversFireProject\\MultiSpread\" \n",
    "for fr, yr in zip(FIRES[220:], YEARS[220:]): \n",
    "    print(fr, yr)\n",
    "    flname = fr + \"_\" + str(yr) + \"_FinalAll.csv\"\n",
    "    CSVPath = os.path.join(rootPath, str(yr), fr, \"FinalCSV\", flname)\n",
    "    figurePath = createFolder(os.path.join(rootPath, str(yr), fr), \"Figures\")\n",
    "    df = pd.read_csv(CSVPath, index_col = 0) \n",
    "    windRosePlot(df, figurePath)\n",
    "    frame1 = df.groupby([\"JulianDay\"]).apply(wavg, \"Direction\", \"Distance\").reset_index()\n",
    "    frame1.columns = ['JulianDay', '(Direction, WA)']\n",
    "    f = {'Area' : ['median'], 'Distance': ['max', 'median', 'std']}\n",
    "    frame2 = df.groupby(\"JulianDay\").agg(f).reset_index()\n",
    "    frame2.columns = ['JulianDay', 'Area (ha)', 'Magnitude (max)','DIST_Median','DIST_STD']\n",
    "    frame3 = df.loc[df.reset_index().groupby(['JulianDay'])['Distance'].idxmax()].reset_index()\n",
    "    frame3 = frame3[['JulianDay', 'Direction']]\n",
    "    frame3.columns = ['JulianDay', '(Direction, @MaxDist)']\n",
    "    finalDF = frame1.merge(frame2, left_on='JulianDay', right_on='JulianDay')\n",
    "    finalDF = finalDF.merge(frame3, left_on='JulianDay', right_on='JulianDay').round(3)\n",
    "    cols = ['JulianDay','DIR_WA', 'Area (ha)', 'Magnitude (max)','DIST_Median','DIST_STD', 'DIR_MaxDist']\n",
    "    finalDF.columns = cols\n",
    "    finalDF['DIST_Median'] = finalDF['DIST_Median'].astype(str)\n",
    "    finalDF['DIST_STD'] = finalDF['DIST_STD'].astype(str)\n",
    "    finalDF['Magnitude (median)'] = finalDF['DIST_Median']\n",
    "    finalDF['Magnitude (stdv)'] = finalDF['DIST_STD']\n",
    "    finalDF['DIST_MEDSTD'] = finalDF[['DIST_Median', 'DIST_STD']].apply(lambda x: ' ± '.join(x[x.notnull()]), axis = 1)\n",
    "    cols = ['JulianDay','Area (ha)', 'DIR_WA', 'DIR_MaxDist', 'DIST_MEDSTD', 'Magnitude (max)', 'Magnitude (median)', 'Magnitude (stdv)']\n",
    "    finalDF = finalDF[cols]\n",
    "    lowerQuart = df['Distance'].groupby(df[\"JulianDay\"], group_keys=False).apply(lambda x: quartiles(x)[0]).reset_index()\n",
    "    upperQuart = df['Distance'].groupby(df[\"JulianDay\"], group_keys=False).apply(lambda x: quartiles(x)[1]).reset_index()\n",
    "    quart = lowerQuart.merge(upperQuart, left_on='JulianDay', right_on='JulianDay')\n",
    "    quart.columns = ['JulianDay', 'Magnitude (lowerQ)', 'Magnitude (upperQ)']\n",
    "    finalDF = finalDF.merge(quart, left_on='JulianDay', right_on='JulianDay').round(3)\n",
    "    finalDF['Name'] = fr\n",
    "    csvName = fr + \"_\" + str(yr) + \"_summary.csv\"\n",
    "    csvPath = createFolder(rootPath, \"SummaryCSV\")\n",
    "    yrPath = createFolder(csvPath, str(yr))\n",
    "    finalDF.to_csv(os.path.join(yrPath, csvName))\n",
    "    # Plot the responses for different events and regions \n",
    "    matplotlib.pyplot.close('all')\n",
    "    finalDF['log(Area)'] = np.log(finalDF['Area (ha)'])\n",
    "    melted = pd.melt(finalDF, id_vars=['JulianDay'], value_vars=['log(Area)', 'Magnitude (max)', 'Magnitude (median)'],\n",
    "        var_name='Value Type', value_name='Values')\n",
    "    melted['Values'] = melted['Values'].astype('float64')\n",
    "    snsPLOT = sns.lineplot(x=\"JulianDay\", y=\"Values\", hue = 'Value Type', style = 'Value Type', palette = palette, data=melted)\n",
    "    figure = snsPLOT.get_figure()    \n",
    "    figure.savefig(figurePath + fr + \"_\" + str(yr) + \"_timeseries.png\", dpi = 400)\n",
    "    matplotlib.pyplot.close('all')\n",
    "    matplotlib.pyplot.clf()\n",
    "    \n",
    "    \n"
   ]
  }
 ],
 "metadata": {
  "kernelspec": {
   "display_name": "Python 3",
   "language": "python",
   "name": "python3"
  },
  "language_info": {
   "codemirror_mode": {
    "name": "ipython",
    "version": 3
   },
   "file_extension": ".py",
   "mimetype": "text/x-python",
   "name": "python",
   "nbconvert_exporter": "python",
   "pygments_lexer": "ipython3",
   "version": "3.6.5"
  }
 },
 "nbformat": 4,
 "nbformat_minor": 2
}
