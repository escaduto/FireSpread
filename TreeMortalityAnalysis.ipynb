{
 "cells": [
  {
   "cell_type": "markdown",
   "metadata": {},
   "source": [
    "[Preliminary Analysis]\n",
    "1. Access Post-processed interpolated daily fire perimeters \n",
    "2. Intersect each fire with ADS_10_19: Merged ADS Tree Mortality dataset \n",
    "3. Calculate % area of tree mortality per area burned \n",
    "    <% tree mortality = Area (ha) of TM / Total Area Burned]>\n",
    "4. Compare with area burned per day \n",
    "5. Compare with rate of spread per day \n",
    "\n",
    "[Prediction]\n",
    "1. Buffer day in advance see how much % mortality from the fire-line \n",
    "2. Use into model input "
   ]
  },
  {
   "cell_type": "code",
   "execution_count": null,
   "metadata": {},
   "outputs": [],
   "source": [
    "import arcpy\n",
    "from arcpy import env\n",
    "from arcpy.sa import *\n",
    "arcpy.overwriteoutput = True\n",
    "\n",
    "env.workspace = \"F:\\DriversFireProject\\TEMP\""
   ]
  },
  {
   "cell_type": "code",
   "execution_count": null,
   "metadata": {},
   "outputs": [],
   "source": [
    "import shutil\n",
    "import pandas as pd\n",
    "from datetime import datetime, date, time, timedelta\n",
    "import requests\n",
    "import zipfile\n",
    "import seaborn as sns\n",
    "import numpy as np\n",
    "import pandas as pd\n",
    "import matplotlib.pyplot as plt\n",
    "import os \n",
    "import seaborn as sns; sns.set()\n",
    "import matplotlib.pyplot as plt\n",
    "import sklearn\n",
    "from sklearn.metrics import mean_squared_error\n",
    "from math import sqrt"
   ]
  },
  {
   "cell_type": "code",
   "execution_count": null,
   "metadata": {},
   "outputs": [],
   "source": [
    "# get list of files based on directory and extension inputs \n",
    "def shpFiles(rootPath, ext):\n",
    "    emptyList = []\n",
    "    root = rootPath\n",
    "    for path, subdirs, files in os.walk(root):\n",
    "        for names in files: \n",
    "            if names.endswith(ext) and not names.startswith(\"._\"):\n",
    "                emptyList.append(path + '\\\\' + names)\n",
    "    return(emptyList)\n",
    "\n",
    "# Create new folder in root path \n",
    "def createFolder(rootPath, folderName): \n",
    "    folderPath = os.path.join(rootPath, folderName) \n",
    "    if not os.path.exists(folderPath):\n",
    "        os.makedirs(folderPath)\n",
    "    return folderPath + \"\\\\\" "
   ]
  },
  {
   "cell_type": "code",
   "execution_count": null,
   "metadata": {
    "scrolled": true
   },
   "outputs": [],
   "source": [
    "# calculate total area burned (ha) for simplified interpolated surface \n",
    "rootPath = r'F:\\DriversFireProject\\NaturalNeighborResults\\Daily'\n",
    "simp = os.path.join(rootPath, 'SimplifiedSHP')\n",
    "interFiles = shpFiles(simp, '.shp')\n",
    "mergedADS = r'F:\\TreeMortality\\ADS_Dataset\\Merged\\Merged_ADS_10_19.shp'\n",
    "\n",
    "for inter in interFiles: \n",
    "    # set up new lists per fire \n",
    "    fire = []\n",
    "    year = [] \n",
    "    jd = [] \n",
    "    rptYr = [] \n",
    "    totalBurned = [] \n",
    "    tmArea = [] \n",
    "    # get fireName, year from path name \n",
    "    nm = inter.split(\"\\\\\")\n",
    "    name = nm[-1]\n",
    "    nmm = name.split(\"_\")\n",
    "    fr = nmm[0]\n",
    "    yr = nmm[1]\n",
    "    print(yr, fr)\n",
    "    \n",
    "    # Calculate TOTAL burned area (ha) \n",
    "    arcpy.DeleteField_management(inter, \"BurnedArea\")\n",
    "    arcpy.AddField_management(inter, \"BurnedArea\", \"DOUBLE\")\n",
    "    arcpy.CalculateField_management(inter, \"BurnedArea\", \"!shape.area@HECTARES!\", \"PYTHON\", \"\")\n",
    "    \n",
    "    # Set up new folders \n",
    "    outpath = r'F:\\TreeMortality\\DailyFireIntersects'\n",
    "    yrFolder = createFolder(outpath, str(yr))\n",
    "    frFolder = createFolder(yrFolder, fr)\n",
    "    \n",
    "    # Intersect merged ADS with each fire perimeters \n",
    "    intersect = arcpy.Intersect_analysis([inter, mergedADS], frFolder + name)\n",
    "    \n",
    "    # Calculate area of Tree Mortality per day \n",
    "    arcpy.AddField_management(intersect, \"TMArea\", \"DOUBLE\")\n",
    "    arcpy.CalculateField_management(intersect, \"TMArea\", \"!shape.area@HECTARES!\", \"PYTHON\", \"\")\n",
    "    with arcpy.da.SearchCursor(intersect, ['BurnedArea', 'TMArea', 'gridcode', 'RPT_YR']) as cursor:\n",
    "        for row in cursor:\n",
    "            fire.append(fr)\n",
    "            year.append(yr)\n",
    "            rptYr.append(row[3])\n",
    "            totalBurned.append(row[0])\n",
    "            jd.append(row[2])\n",
    "            tmArea.append(row[1])\n",
    "    \n",
    "    # Create DF\n",
    "    multiDirDF = pd.DataFrame({'Fire': fire, 'FR_Year': year,'FR_Day':jd, \n",
    "                               'TM_Year': rptYr, 'Burned_Area(ha)': totalBurned, 'TM_Area(ha)': tmArea})\n",
    "    \n",
    "    # Groupby Fire, Fr_year, Fr_Day, TM_Year, Burned_Area(ha) >> aka ADD up TM_AREA per RPTYEAR \n",
    "    grouped = multiDirDF.groupby(['Fire', 'FR_Year', 'FR_Day', 'TM_Year', 'Burned_Area(ha)'])['TM_Area(ha)'].agg('sum').reset_index()\n",
    "    # Calculate ratio TM_AREA(ha) / Burned_AREA(ha) \n",
    "    grouped['TM_Ratio'] = grouped['TM_Area(ha)'] / grouped['Burned_Area(ha)']\n",
    "    \n",
    "    CSVPath = r'F:\\TreeMortality\\CSV_TMPerFire'\n",
    "    yrCSVFolder = createFolder(CSVPath, str(yr))\n",
    "    grouped.to_csv(yrCSVFolder + fr + \"_\" + str(yr) + '_TM.csv') \n",
    "    \n",
    "    # pivot Table \n",
    "    grouped['TM_Year'] = grouped['TM_Year'].astype(str)\n",
    "    PIVtable = pd.pivot_table(grouped, values=['TM_Area(ha)', 'TM_Ratio'], index=['Fire', 'FR_Year', 'FR_Day', 'Burned_Area(ha)'],\n",
    "                        columns=['TM_Year'], aggfunc=np.sum).reset_index()\n",
    "\n",
    "    PIVtable.columns = [' '.join(col).strip() for col in PIVtable.columns.values]\n",
    "\n",
    "    CSVPath2 = r'F:\\TreeMortality\\CSV_TMPerFire_PIV'\n",
    "    yrCSVFolder2 = createFolder(CSVPath2, str(yr))\n",
    "    \n",
    "    PIVtable.to_csv(yrCSVFolder2 + fr + \"_\" + str(yr) + '_TMPIV.csv')         \n",
    "        \n",
    "            \n"
   ]
  },
  {
   "cell_type": "code",
   "execution_count": null,
   "metadata": {},
   "outputs": [],
   "source": [
    "multiDirDF\n",
    "# Groupby Fire, Fr_year, Fr_Day, TM_Year, Burned_Area(ha) >> aka ADD up TM_AREA per RPTYEAR \n",
    "grouped = multiDirDF.groupby(['Fire', 'FR_Year', 'FR_Day', 'TM_Year', 'Burned_Area(ha)'])['TM_Area(ha)'].agg('sum').reset_index()\n",
    "# Calculate ratio TM_AREA(ha) / Burned_AREA(ha) \n",
    "grouped['TM_Ratio'] = grouped['TM_Area(ha)'] / grouped['Burned_Area(ha)']\n",
    "grouped['TM_Year'] = grouped['TM_Year'].astype(str)\n",
    "grouped"
   ]
  },
  {
   "cell_type": "markdown",
   "metadata": {},
   "source": [
    "SPLIT csv into BEFORE and AFTER Fire: \n",
    "1. [Before]: relationship between how tree mortality affects fires behavior \n",
    "2. [After]: relationship between how fire can induce tree mortality (stress) "
   ]
  },
  {
   "cell_type": "code",
   "execution_count": null,
   "metadata": {},
   "outputs": [],
   "source": [
    "# Merge sll piv csv files \n",
    "CSVPath = r'F:\\TreeMortality\\CSV_TMPerFire'\n",
    "csvFiles = shpFiles(CSVPath, '.csv')\n",
    "outPath = r'F:\\TreeMortality\\\\'\n",
    "#combine all files in the list\n",
    "combined_csv = pd.concat([pd.read_csv(f) for f in csvFiles])\n",
    "#export to csv\n",
    "combined_csv.to_csv( outPath + \"MergedALL_TM.csv\", index=False, encoding='utf-8-sig')"
   ]
  },
  {
   "cell_type": "code",
   "execution_count": null,
   "metadata": {},
   "outputs": [],
   "source": [
    "combined_csv['TM_Year'] = combined_csv['TM_Year'].astype(str)\n",
    "PIVtable = pd.pivot_table(combined_csv, values=['TM_Ratio'], index=['Fire', 'FR_Year', 'FR_Day', 'Burned_Area(ha)'],\n",
    "                    columns=['TM_Year'], aggfunc=np.sum).reset_index()\n",
    "\n",
    "PIVtable = PIVtable.fillna(0)\n",
    "PIVtable = PIVtable.round(5)\n",
    "PIVtable.columns = [' '.join(col).strip() for col in PIVtable.columns.values]\n",
    "PIVtable.to_csv( outPath + \"MergedALL_TM_PIV.csv\", index=False, encoding='utf-8-sig')"
   ]
  },
  {
   "cell_type": "code",
   "execution_count": null,
   "metadata": {},
   "outputs": [],
   "source": [
    "# 1. [Before]: relationship between how tree mortality affects fires behavior \n",
    "# Keep rows only where TM_Area IF YM_YEAR is less than equal to FR_Year \n",
    "combined_csv['FR_Year'] = combined_csv['FR_Year'].astype('int64')\n",
    "combined_csv['TM_Year'] = combined_csv['TM_Year'].astype('int64')\n",
    "combined_csv['Group'] = np.where((combined_csv['FR_Year'] > combined_csv['TM_Year']), 'BeforeFire', 'AfterFire')"
   ]
  },
  {
   "cell_type": "code",
   "execution_count": null,
   "metadata": {},
   "outputs": [],
   "source": [
    "TM_BeforeFire = pd.read_csv(outPath + \"BeforeFire_TM.csv\", index_col=0)"
   ]
  },
  {
   "cell_type": "code",
   "execution_count": null,
   "metadata": {},
   "outputs": [],
   "source": [
    "# look at TM YEARS -1 , -3, -all) \n",
    "TM_BeforeFire['YearPrior'] = TM_BeforeFire['FR_Year'] - TM_BeforeFire['TM_Year']\n",
    "TM_BeforeFire"
   ]
  },
  {
   "cell_type": "code",
   "execution_count": null,
   "metadata": {},
   "outputs": [],
   "source": [
    "# one year prior \n",
    "onyear = TM_BeforeFire[TM_BeforeFire['YearPrior'] < 1]\n",
    "onyearGroup = onyear.groupby(['Fire', 'FR_Year', 'FR_Day', 'Burned_Area(ha)'])['TM_Area(ha)'].agg('sum').reset_index()\n",
    "onyearGroup['TM_Ratio'] = onyearGroup['TM_Area(ha)']/ onyearGroup['Burned_Area(ha)']\n",
    "onyearGroup"
   ]
  },
  {
   "cell_type": "code",
   "execution_count": null,
   "metadata": {},
   "outputs": [],
   "source": []
  },
  {
   "cell_type": "code",
   "execution_count": null,
   "metadata": {},
   "outputs": [],
   "source": [
    "# three years prior\n",
    "threeYear = TM_BeforeFire[TM_BeforeFire['YearPrior'] < 3]\n",
    "threeYear = threeYear.groupby(['Fire', 'FR_Year', 'FR_Day', 'Burned_Area(ha)', 'YearPrior'])['TM_Area(ha)'].agg('sum').reset_index()\n",
    "threeYear['TM_Ratio'] = threeYear['TM_Area(ha)']/ threeYear['Burned_Area(ha)']\n",
    "threeYear['log_Area'] = np.log(threeYear['Burned_Area(ha)'])"
   ]
  },
  {
   "cell_type": "code",
   "execution_count": null,
   "metadata": {},
   "outputs": [],
   "source": [
    "g = sns.FacetGrid(threeYear, col=\"FR_Year\", hue=\"YearPrior\")\n",
    "g = (g.map(plt.scatter, \"log_Area\", \"TM_Ratio\", edgecolor=\"w\")\n",
    "        .add_legend())"
   ]
  },
  {
   "cell_type": "code",
   "execution_count": null,
   "metadata": {},
   "outputs": [],
   "source": [
    "# all years prior \n",
    "AllYear = TM_BeforeFire.groupby(['Fire', 'FR_Year', 'FR_Day', 'Burned_Area(ha)'])['TM_Area(ha)'].agg('sum').reset_index()\n",
    "AllYear['TM_Ratio'] = AllYear['TM_Area(ha)']/ AllYear['Burned_Area(ha)']\n",
    "AllYear['log_Area'] = np.log(AllYear['Burned_Area(ha)'])\n",
    "\n",
    "g = sns.FacetGrid(AllYear, col=\"FR_Year\")\n",
    "g = (g.map(plt.scatter, \"log_Area\", \"TM_Ratio\", edgecolor=\"w\")\n",
    "        .add_legend())"
   ]
  },
  {
   "cell_type": "code",
   "execution_count": null,
   "metadata": {},
   "outputs": [],
   "source": [
    "AllYear = TM_BeforeFire.groupby(['Fire', 'FR_Year'])['TM_Area(ha)', 'Burned_Area(ha)'].agg('sum').reset_index()\n",
    "AllYear['Ratio'] = AllYear['TM_Area(ha)']/ AllYear['Burned_Area(ha)']\n",
    "AllYear.sort_values(by=['TM_Area(ha)'], ascending=False)"
   ]
  },
  {
   "cell_type": "code",
   "execution_count": null,
   "metadata": {},
   "outputs": [],
   "source": [
    "# 2. [After]: relationship between how fire can induce tree mortality (stress) \n",
    "TM_AfterFire = pd.read_csv(outPath + \"AfterFire_TM.csv\", index_col=0)"
   ]
  }
 ],
 "metadata": {
  "kernelspec": {
   "display_name": "Python 3",
   "language": "python",
   "name": "python3"
  },
  "language_info": {
   "codemirror_mode": {
    "name": "ipython",
    "version": 3
   },
   "file_extension": ".py",
   "mimetype": "text/x-python",
   "name": "python",
   "nbconvert_exporter": "python",
   "pygments_lexer": "ipython3",
   "version": "3.6.5"
  }
 },
 "nbformat": 4,
 "nbformat_minor": 2
}
