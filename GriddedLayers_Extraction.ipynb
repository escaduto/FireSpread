{
  "nbformat": 4,
  "nbformat_minor": 0,
  "metadata": {
    "colab": {
      "name": "GriddedLayers_Extraction.ipynb",
      "provenance": [],
      "collapsed_sections": [],
      "toc_visible": true,
      "authorship_tag": "ABX9TyPLGBtAJJTCGZ2hecHNLvD8",
      "include_colab_link": true
    },
    "kernelspec": {
      "name": "python3",
      "display_name": "Python 3"
    }
  },
  "cells": [
    {
      "cell_type": "markdown",
      "metadata": {
        "id": "view-in-github",
        "colab_type": "text"
      },
      "source": [
        "<a href=\"https://colab.research.google.com/github/escaduto/FireSpread/blob/master/GriddedLayers_Extraction.ipynb\" target=\"_parent\"><img src=\"https://colab.research.google.com/assets/colab-badge.svg\" alt=\"Open In Colab\"/></a>"
      ]
    },
    {
      "cell_type": "markdown",
      "metadata": {
        "id": "W2zYi5O_Mcgy",
        "colab_type": "text"
      },
      "source": [
        "# Extract daily weather variables based on unique ID \n"
      ]
    },
    {
      "cell_type": "markdown",
      "metadata": {
        "id": "fZCPD9SxMzMe",
        "colab_type": "text"
      },
      "source": [
        "## Setup"
      ]
    },
    {
      "cell_type": "markdown",
      "metadata": {
        "id": "Z2A9PoqQUye1",
        "colab_type": "text"
      },
      "source": [
        "### Connect to Drive"
      ]
    },
    {
      "cell_type": "code",
      "metadata": {
        "id": "eMCHZj6PpL3w",
        "colab_type": "code",
        "colab": {
          "base_uri": "https://localhost:8080/",
          "height": 51
        },
        "outputId": "6533aad6-25a2-462a-b5d3-262885eddbed"
      },
      "source": [
        "from google.colab import drive # import drive from google colab\n",
        "ROOT = \"/content/drive\"     # default location for the drive\n",
        "print(ROOT)                 # print content of ROOT (Optional)\n",
        "\n",
        "drive.mount(ROOT)           # we mount the google drive at /content/drive"
      ],
      "execution_count": 1,
      "outputs": [
        {
          "output_type": "stream",
          "text": [
            "/content/drive\n",
            "Mounted at /content/drive\n"
          ],
          "name": "stdout"
        }
      ]
    },
    {
      "cell_type": "code",
      "metadata": {
        "id": "y237qvlb5kwV",
        "colab_type": "code",
        "colab": {}
      },
      "source": [
        "import os\n",
        "rootPath = \"/content/drive/My Drive/California_FireTrends\"\n",
        "os.chdir(rootPath)"
      ],
      "execution_count": 2,
      "outputs": []
    },
    {
      "cell_type": "markdown",
      "metadata": {
        "id": "Ag6HtRJpNNWC",
        "colab_type": "text"
      },
      "source": [
        "### Connect to GEE API"
      ]
    },
    {
      "cell_type": "code",
      "metadata": {
        "id": "9P_WfKSZNbJ4",
        "colab_type": "code",
        "colab": {}
      },
      "source": [
        "# initialize and connect to GEE \n",
        "from google.colab import auth\n",
        "auth.authenticate_user()\n",
        "!earthengine authenticate\n",
        "import ee \n",
        "ee.Initialize()"
      ],
      "execution_count": null,
      "outputs": []
    },
    {
      "cell_type": "code",
      "metadata": {
        "id": "OaUQbtDpNbPB",
        "colab_type": "code",
        "colab": {
          "base_uri": "https://localhost:8080/",
          "height": 34
        },
        "outputId": "6aaca5bf-14cb-4922-ef35-808e8e163437"
      },
      "source": [
        "# Installs geemap package\n",
        "import subprocess\n",
        "\n",
        "try:\n",
        "    import geemap\n",
        "except ImportError:\n",
        "    print('geemap package not installed. Installing ...')\n",
        "    subprocess.check_call([\"python\", '-m', 'pip', 'install', 'geemap'])\n",
        "\n",
        "# Checks whether this notebook is running on Google Colab\n",
        "try:\n",
        "    import google.colab\n",
        "    import geemap.eefolium as emap\n",
        "except:\n",
        "    import geemap as emap"
      ],
      "execution_count": 4,
      "outputs": [
        {
          "output_type": "stream",
          "text": [
            "geemap package not installed. Installing ...\n"
          ],
          "name": "stdout"
        }
      ]
    },
    {
      "cell_type": "markdown",
      "metadata": {
        "id": "NBuFTbvcU3Bk",
        "colab_type": "text"
      },
      "source": [
        "### Connect to Cloud Bucket"
      ]
    },
    {
      "cell_type": "code",
      "metadata": {
        "id": "Omn5x960NbTD",
        "colab_type": "code",
        "colab": {}
      },
      "source": [
        "# Connect to google cloud \n",
        "! gcloud auth login"
      ],
      "execution_count": null,
      "outputs": []
    },
    {
      "cell_type": "markdown",
      "metadata": {
        "id": "6dZbRPY8U-9L",
        "colab_type": "text"
      },
      "source": [
        "### Load Libraries "
      ]
    },
    {
      "cell_type": "code",
      "metadata": {
        "id": "o66RFau97lMx",
        "colab_type": "code",
        "colab": {}
      },
      "source": [
        "%%time \n",
        "\n",
        "# Important library for many geopython libraries\n",
        "!apt install gdal-bin python-gdal python3-gdal \n",
        "# Install rtree - Geopandas requirment\n",
        "!apt install python3-rtree \n",
        "# Install Geopandas\n",
        "!pip install git+git://github.com/geopandas/geopandas.git\n",
        "# Install descartes - Geopandas requirment\n",
        "!pip install descartes \n",
        "# Install Folium for Geographic data visualization\n",
        "!pip install folium\n",
        "# Install plotlyExpress\n",
        "!pip install plotly_express"
      ],
      "execution_count": null,
      "outputs": []
    },
    {
      "cell_type": "code",
      "metadata": {
        "id": "Q1DSJekd-tgI",
        "colab_type": "code",
        "colab": {}
      },
      "source": [
        "import pandas as pd\n",
        "import numpy as np\n",
        "import geopandas as gpd\n",
        "from shapely.geometry import Point\n",
        "import matplotlib\n",
        "import matplotlib.pyplot as plt \n",
        "import folium\n",
        "import rtree"
      ],
      "execution_count": 6,
      "outputs": []
    },
    {
      "cell_type": "code",
      "metadata": {
        "id": "EGByx1pSVHPV",
        "colab_type": "code",
        "colab": {}
      },
      "source": [
        "def listFiles_ByExt(rootPath, ext):\n",
        "  '''\n",
        "  retrieve file path + names based on extension\n",
        "  '''\n",
        "  file_list = []\n",
        "  root = rootPath\n",
        "  for path, subdirs, files in os.walk(root):\n",
        "      for names in files: \n",
        "          if names.endswith(ext):\n",
        "              file_list.append(os.path.join(path,names))\n",
        "  return file_list\n",
        "\n",
        "def createFolder(rootPath, folderName): \n",
        "  '''\n",
        "  Create new folder in root path \n",
        "  '''\n",
        "  folderPath = os.path.join(rootPath, folderName) \n",
        "  if not os.path.exists(folderPath):\n",
        "      os.makedirs(folderPath)\n",
        "  return folderPath \n",
        "\n",
        "\n",
        "def listFiles_ALL(rootPath):\n",
        "  '''\n",
        "  retrieve file path + names \n",
        "  '''\n",
        "  file_list = []\n",
        "  root = rootPath\n",
        "  for path, subdirs, files in os.walk(root):\n",
        "    for names in files: \n",
        "      file_list.append(os.path.join(path,names))\n",
        "  return file_list"
      ],
      "execution_count": 7,
      "outputs": []
    },
    {
      "cell_type": "markdown",
      "metadata": {
        "id": "H9iaY0vqQuFT",
        "colab_type": "text"
      },
      "source": [
        "## Prepare Fire Perimeters"
      ]
    },
    {
      "cell_type": "markdown",
      "metadata": {
        "id": "MC3zkmMvM0i1",
        "colab_type": "text"
      },
      "source": [
        "### Combine all interpolated surfaces into one file"
      ]
    },
    {
      "cell_type": "code",
      "metadata": {
        "id": "iaUfwQqPXCPc",
        "colab_type": "code",
        "colab": {}
      },
      "source": [
        "rootPath = os.path.join(r'Products', 'By_Fire')\n",
        "inter_files = listFiles_ByExt(rootPath,'.geojson')"
      ],
      "execution_count": 5,
      "outputs": []
    },
    {
      "cell_type": "code",
      "metadata": {
        "id": "wvkoi7PCM6oj",
        "colab_type": "code",
        "colab": {}
      },
      "source": [
        "outpath = os.path.join(r'Products', 'ALL_2012_2020')\n",
        "\n",
        "gdf = pd.concat([\n",
        "    gpd.read_file(shp)\n",
        "    for shp in inter_files\n",
        "    ]).pipe(gpd.GeoDataFrame)\n",
        "\n",
        "# gdf.to_file(os.path.join(outpath, f'ALL_2012_2020.shp'))\n",
        "# gdf.to_file(os.path.join(outpath, f'ALL_2012_2020.geojson'), driver='GeoJSON')"
      ],
      "execution_count": 6,
      "outputs": []
    },
    {
      "cell_type": "markdown",
      "metadata": {
        "id": "J_Ng0tgSM6-Q",
        "colab_type": "text"
      },
      "source": [
        "### Clip to CA Extent\n",
        "\n",
        "Currently the study area is a bit outside state lines "
      ]
    },
    {
      "cell_type": "code",
      "metadata": {
        "id": "IqaNTpV4aC0J",
        "colab_type": "code",
        "colab": {}
      },
      "source": [
        "gdf.crs"
      ],
      "execution_count": null,
      "outputs": []
    },
    {
      "cell_type": "code",
      "metadata": {
        "id": "Bph5UHfbM-S_",
        "colab_type": "code",
        "colab": {}
      },
      "source": [
        "# check; set CRS \n",
        "state_path = '/content/drive/My Drive/COVID_FireTrends/Data/US_states/'\n",
        "states = gpd.read_file(state_path)\n",
        "CA_states = states[(states.STATE_NAME == 'California')]\n",
        "CA_states = CA_states.to_crs('EPSG:3310')\n",
        "CA_states_buff = CA_states\n",
        "CA_states_buff['geometry'] = CA_states.geometry.buffer(5000)"
      ],
      "execution_count": 8,
      "outputs": []
    },
    {
      "cell_type": "code",
      "metadata": {
        "id": "i2N424YyklAs",
        "colab_type": "code",
        "colab": {}
      },
      "source": [
        "CA_states_buff.to_file('Data/CA_Extent/California_5kmbuff.shp')"
      ],
      "execution_count": 49,
      "outputs": []
    },
    {
      "cell_type": "code",
      "metadata": {
        "id": "o0hIfFZyaNhU",
        "colab_type": "code",
        "colab": {}
      },
      "source": [
        "## clip to california extent \n",
        "Interpolated_CA = gpd.overlay(gdf, CA_states_buff, how='intersection')"
      ],
      "execution_count": 9,
      "outputs": []
    },
    {
      "cell_type": "code",
      "metadata": {
        "id": "J6hS2SFRagaJ",
        "colab_type": "code",
        "colab": {}
      },
      "source": [
        "# Interpolated_CA.to_file(os.path.join(outpath, f'ALL_2012_2020.shp'))\n",
        "# Interpolated_CA.to_file(os.path.join(outpath, f'ALL_2012_2020.geojson'), driver='GeoJSON')"
      ],
      "execution_count": null,
      "outputs": []
    },
    {
      "cell_type": "markdown",
      "metadata": {
        "id": "-k3b8LyTM-r4",
        "colab_type": "text"
      },
      "source": [
        "### Create unique ID column (numeric)\n",
        "\n",
        "{FIREID}{YR}{JD}"
      ]
    },
    {
      "cell_type": "code",
      "metadata": {
        "id": "SEzTFWtzNCV4",
        "colab_type": "code",
        "colab": {}
      },
      "source": [
        "Interpolated_CA.sort_values(by=['Year', 'Fire'])\n",
        "Interpolated_CA['FireID'] = 0\n",
        "mask = Interpolated_CA.groupby(['Fire','Year'])['FireID'].transform(lambda x : len(x)>1)\n",
        "Interpolated_CA.loc[mask,'FireID'] = Interpolated_CA.loc[mask,['Fire','Year']].astype(str).sum(1).factorize()[0] + 1"
      ],
      "execution_count": null,
      "outputs": []
    },
    {
      "cell_type": "code",
      "metadata": {
        "id": "ZNNBv5o0eYag",
        "colab_type": "code",
        "colab": {}
      },
      "source": [
        "Interpolated_CA['Unique_ID'] = Interpolated_CA['FireID'].astype('str').str.zfill(3) + Interpolated_CA['YRJD'].astype('str').str[2:]\n",
        "Interpolated_CA['Unique_ID'] = Interpolated_CA['Unique_ID'].astype('int64')"
      ],
      "execution_count": 40,
      "outputs": []
    },
    {
      "cell_type": "code",
      "metadata": {
        "id": "-U4R3_zji76Y",
        "colab_type": "code",
        "colab": {}
      },
      "source": [
        "Interpolated_CA.dtypes"
      ],
      "execution_count": null,
      "outputs": []
    },
    {
      "cell_type": "code",
      "metadata": {
        "id": "2l6M6Tz1efoO",
        "colab_type": "code",
        "colab": {}
      },
      "source": [
        "Interpolated_CA.to_file(os.path.join(outpath, f'ALL_2012_2020.shp'))\n",
        "Interpolated_CA.to_file(os.path.join(outpath, f'ALL_2012_2020.geojson'), driver='GeoJSON')"
      ],
      "execution_count": null,
      "outputs": []
    },
    {
      "cell_type": "markdown",
      "metadata": {
        "id": "Cd0W0QenQmQJ",
        "colab_type": "text"
      },
      "source": [
        "### Export to Bucket and to Asset"
      ]
    },
    {
      "cell_type": "code",
      "metadata": {
        "id": "0VV3oGqVlMwW",
        "colab_type": "code",
        "colab": {}
      },
      "source": [
        "! gsutil -m cp -R 'Data/CA_Extent' gs://daily_fire_surfaces"
      ],
      "execution_count": null,
      "outputs": []
    },
    {
      "cell_type": "code",
      "metadata": {
        "id": "kekwfc8OlW84",
        "colab_type": "code",
        "colab": {}
      },
      "source": [
        "! earthengine upload table --asset_id=users/escaduto/CA_FireTrends/CA_Extent gs://daily_fire_surfaces/CA_Extent/California_5kmbuff.shp"
      ],
      "execution_count": null,
      "outputs": []
    },
    {
      "cell_type": "code",
      "metadata": {
        "id": "bL9LUT36B4J4",
        "colab_type": "code",
        "colab": {}
      },
      "source": [
        "! gsutil -m cp -R 'Products/ALL_2012_2020' gs://daily_fire_surfaces"
      ],
      "execution_count": null,
      "outputs": []
    },
    {
      "cell_type": "code",
      "metadata": {
        "id": "e_flNFxQCI0k",
        "colab_type": "code",
        "colab": {}
      },
      "source": [
        "! earthengine upload table --asset_id=users/escaduto/CA_FireTrends/DerivedPerimeters_2012_2020 gs://daily_fire_surfaces/ALL_2012_2020/ALL_2012_2020.shp"
      ],
      "execution_count": null,
      "outputs": []
    },
    {
      "cell_type": "code",
      "metadata": {
        "id": "S3HaWn9hU_od",
        "colab_type": "code",
        "colab": {}
      },
      "source": [
        "# import feature collection asset \n",
        "fire_perimeters = ee.FeatureCollection('users/escaduto/CA_FireTrends/DerivedPerimeters_2012_2020')\n",
        "CA_Extent = ee.FeatureCollection('users/escaduto/CA_FireTrends/CA_Extent')"
      ],
      "execution_count": 8,
      "outputs": []
    },
    {
      "cell_type": "code",
      "metadata": {
        "id": "LH2rEmbFh2PT",
        "colab_type": "code",
        "colab": {}
      },
      "source": [
        "outpath = os.path.join(r'Products', 'ALL_2012_2020')\n",
        "Interpolated_CA = gpd.read_file(os.path.join(outpath, f'ALL_2012_2020.geojson'))"
      ],
      "execution_count": 9,
      "outputs": []
    },
    {
      "cell_type": "code",
      "metadata": {
        "id": "EgsxL2XqiBMu",
        "colab_type": "code",
        "colab": {
          "base_uri": "https://localhost:8080/",
          "height": 102
        },
        "outputId": "3251152c-512a-4b5b-abb2-bc9c9148a4fc"
      },
      "source": [
        "Interpolated_CA.columns"
      ],
      "execution_count": 10,
      "outputs": [
        {
          "output_type": "execute_result",
          "data": {
            "text/plain": [
              "Index(['JulianDay', 'YRJD', 'Fire', 'Year', 'Month', 'Day', 'Date',\n",
              "       'Area (acres)', 'Area (ha)', 'Time_Min', 'Time_Max', 'STATE_NAME',\n",
              "       'DRAWSEQ', 'STATE_FIPS', 'SUB_REGION', 'STATE_ABBR', 'FireID',\n",
              "       'Unique_ID', 'geometry'],\n",
              "      dtype='object')"
            ]
          },
          "metadata": {
            "tags": []
          },
          "execution_count": 10
        }
      ]
    },
    {
      "cell_type": "markdown",
      "metadata": {
        "id": "xGilwZkINGAz",
        "colab_type": "text"
      },
      "source": [
        "## Functions to GET Layers from GEE"
      ]
    },
    {
      "cell_type": "markdown",
      "metadata": {
        "id": "75YkHhPGvywJ",
        "colab_type": "text"
      },
      "source": [
        "#### Cloud Masks"
      ]
    },
    {
      "cell_type": "code",
      "metadata": {
        "id": "CjM6oY1xAy6y",
        "colab_type": "code",
        "colab": {}
      },
      "source": [
        "def maskL8sr(image):  \n",
        "    # Bits 3 and 5 are cloud shadow and cloud, respectively.\n",
        "    cloudShadowBitMask = (1 << 3);\n",
        "    cloudsBitMask = (1 << 5);\n",
        "    # Get the pixel QA band.\n",
        "    qa = image.select('pixel_qa');\n",
        "    # Both flags should be set to zero, indicating clear conditions.\n",
        "    mask = qa.bitwiseAnd(cloudShadowBitMask).eq(0) and (qa.bitwiseAnd(cloudsBitMask).eq(0));\n",
        "    return image.updateMask(mask);"
      ],
      "execution_count": 18,
      "outputs": []
    },
    {
      "cell_type": "markdown",
      "metadata": {
        "id": "nvp7gSrPvtMw",
        "colab_type": "text"
      },
      "source": [
        "Landsat 7 Mask"
      ]
    },
    {
      "cell_type": "code",
      "metadata": {
        "id": "mPpMSfrzZaUI",
        "colab_type": "code",
        "colab": {}
      },
      "source": [
        "# cloud m\n",
        "def cloudMaskL457(image):\n",
        "  cloudShadowBitMask = (1 << 3);\n",
        "  cloudsBitMask = (1 << 5);\n",
        "  cloudsconfidenceBitMask = (1 << 7);\n",
        "  qa = image.select('pixel_qa');\n",
        "  mask = qa.bitwiseAnd(cloudsconfidenceBitMask).eq(0) and (qa.bitwiseAnd(cloudsBitMask).eq(0)) or (qa.bitwiseAnd(cloudShadowBitMask).eq(0));\n",
        "  return image.updateMask(mask);\n"
      ],
      "execution_count": 20,
      "outputs": []
    },
    {
      "cell_type": "markdown",
      "metadata": {
        "id": "96dfvXAsNIFn",
        "colab_type": "text"
      },
      "source": [
        "### A. Vegetation Indices (30m) \n",
        "\n",
        "1) MONTHLY NDVI, NDWI, NDMI\n",
        "\n",
        "2) NDMI DELTA\n",
        "\n",
        "3) MONTHLY EVI\n",
        "\n",
        "4) ANNUAL NDVI, NDWI, NDMI\n",
        "\n",
        "5) ANNUAL EVI\n",
        "\n",
        "\n"
      ]
    },
    {
      "cell_type": "markdown",
      "metadata": {
        "id": "7GutnSqkF8ga",
        "colab_type": "text"
      },
      "source": [
        "Landsat 8 Mask"
      ]
    },
    {
      "cell_type": "markdown",
      "metadata": {
        "id": "rcuMJ1ClBQeU",
        "colab_type": "text"
      },
      "source": [
        "#### [1] MONTHLY NDVI, NDWI, NDMI"
      ]
    },
    {
      "cell_type": "code",
      "metadata": {
        "id": "9WbHgSEfOx2C",
        "colab_type": "code",
        "colab": {}
      },
      "source": [
        "from datetime import datetime, timedelta\n",
        "\n",
        "def getStartEndDates(yr, mth):\n",
        "  date_time_obj = datetime.strptime(str(yr) + \"-\" + str(mth), '%Y-%m') # create datetime object\n",
        "  d = date_time_obj - timedelta(days=60) # subtract 2 months\n",
        "  newyr = str(d.year)\n",
        "  newmth = str(d.month)\n",
        "  startDate = newyr + \"-\" + newmth + \"-01\"\n",
        "  endDate = str(yr) + \"-\" + str(mth) + \"-01\"\n",
        "  return startDate, endDate"
      ],
      "execution_count": 201,
      "outputs": []
    },
    {
      "cell_type": "code",
      "metadata": {
        "id": "vBI6DU_4BA3E",
        "colab_type": "code",
        "colab": {}
      },
      "source": [
        "def getMonthlyLandsat(yr, mth, LandsatCollection, Cloudmask):\n",
        "  startDate, endDate = getStartEndDates(yr, mth)\n",
        "\n",
        "  LandsatImage = ee.Image(ee.ImageCollection(LandsatCollection)\n",
        "                  .filterDate(startDate, endDate)    \n",
        "                  .sort('CLOUD_COVER')\n",
        "                  .filterBounds(CA_Extent)\n",
        "                  .map(Cloudmask)\n",
        "                  .median());\n",
        "\n",
        "  LandsatClip = LandsatImage.clip(CA_Extent)\n",
        "  return LandsatClip \n",
        "\n",
        "\n",
        "def computeMonthlyVegIndices(yr, mth, LandsatCollection, Cloudmask, EVILayerName):\n",
        "  Landsat = getMonthlyLandsat(yr, mth, LandsatCollection, Cloudmask)\n",
        "  \n",
        "  red = Landsat.select('B4')\n",
        "  nir = Landsat.select('B5')\n",
        "  swir = Landsat.select('B6')\n",
        "\n",
        "  NDVI = nir.subtract(red).divide(nir.add(red)).rename('NDVI'); # nir-red \n",
        "  NDMI = nir.subtract(swir).divide(nir.add(swir)).rename('NDMI'); # nir-swir\n",
        "  NDMI_Delta = computeNDMIDelta(NDMI, mth)\n",
        "  EVI = getMonthlylEVI(yr, mth, EVILayerName)\n",
        "\n",
        "  Landsat = Landsat.addBands(NDMI).addBands(EVI).addBands(NDVI).addBands(NDMI_Delta)\n",
        "  Landsat = Landsat.select(['NDVI', 'NDMI', 'EVI', 'NDMIDelta'])\n",
        "  return (Landsat)"
      ],
      "execution_count": 202,
      "outputs": []
    },
    {
      "cell_type": "markdown",
      "metadata": {
        "id": "lT1ZATbXCXHg",
        "colab_type": "text"
      },
      "source": [
        "#### [2] NDMI DELTA"
      ]
    },
    {
      "cell_type": "code",
      "metadata": {
        "id": "VqCaFB35CbM-",
        "colab_type": "code",
        "colab": {}
      },
      "source": [
        "def computeNDMIDelta(NDMI, mth):\n",
        "  baseLine = ee.Image(ee.ImageCollection('LANDSAT/LE07/C01/T1_SR')\n",
        "                  .filter(ee.Filter.calendarRange(2012 - 5, 2012,'year'))\n",
        "                  .filter(ee.Filter.calendarRange(int(mth),int(mth),'month'))\n",
        "                  .map(cloudMaskL457)\n",
        "                  .filterBounds(CA_Extent)\n",
        "                  .median());                                                                                         \n",
        "                                                                                            \n",
        "  baseLineClip = baseLine.clip(CA_Extent)\n",
        "\n",
        "  swir = baseLineClip.select('B5');\n",
        "  nir = baseLineClip.select('B4');\n",
        "  baseLineNDMI = nir.subtract(swir).divide(nir.add(swir)).rename('NDMI_Base');  \n",
        "  NDMIDelta = NDMI.select('NDMI').subtract(baseLineNDMI.select('NDMI_Base')).rename('NDMIDelta')      \n",
        "  return NDMIDelta"
      ],
      "execution_count": 203,
      "outputs": []
    },
    {
      "cell_type": "markdown",
      "metadata": {
        "id": "9jI7CUR3CAPY",
        "colab_type": "text"
      },
      "source": [
        "#### [3] MONTHLY EVI"
      ]
    },
    {
      "cell_type": "code",
      "metadata": {
        "id": "FPZcCEkQCBhT",
        "colab_type": "code",
        "colab": {}
      },
      "source": [
        "def getMonthlylEVI(yr, mth, EVILayerName):   #'LANDSAT/LC08/C01/T1_32DAY_EVI'\n",
        "  startDate, endDate = getStartEndDates(yr, mth)\n",
        "  EVI_monthly_collection = ee.Image(ee.ImageCollection(EVILayerName)\n",
        "                          .filterDate(startDate, endDate)\n",
        "                          .filterBounds(CA_Extent)\n",
        "                          .select('EVI')\n",
        "                          .median());\n",
        "                                  \n",
        "  EVI_Monthly = EVI_monthly_collection.clip(CA_Extent).rename('EVI');  \n",
        "  return EVI_Monthly    "
      ],
      "execution_count": 204,
      "outputs": []
    },
    {
      "cell_type": "markdown",
      "metadata": {
        "id": "7pmAuzaSGBYf",
        "colab_type": "text"
      },
      "source": [
        "#### [4] ANNUAL NDVI, NDWI, NDMI"
      ]
    },
    {
      "cell_type": "code",
      "metadata": {
        "id": "GNUUAx9dGGXL",
        "colab_type": "code",
        "colab": {}
      },
      "source": [
        "def getAnnualLandsat(yr, LandsatCollection, Cloudmask):\n",
        "  start_yr = int(yr) - 1 \n",
        "  Landsat_annual_Image = ee.Image(ee.ImageCollection(LandsatCollection)\n",
        "                  .sort('CLOUD_COVER')\n",
        "                  .filter(ee.Filter.date(f'{start_yr}-10-01', f'{yr}-04-30'))\n",
        "                  .filterBounds(CA_Extent)\n",
        "                  .map(Cloudmask)\n",
        "                  .max());\n",
        "\n",
        "  Landsat_Annual_Clip = Landsat_annual_Image.clip(CA_Extent)\n",
        "  return Landsat_Annual_Clip"
      ],
      "execution_count": 213,
      "outputs": []
    },
    {
      "cell_type": "code",
      "metadata": {
        "id": "SgPleTXjxma4",
        "colab_type": "code",
        "colab": {}
      },
      "source": [
        "def computeAnnualVegIndices(yr, LandsatCollection, Cloudmask, EVILayerName):\n",
        "  Landsat = getAnnualLandsat(yr, LandsatCollection, Cloudmask)\n",
        "\n",
        "  red = Landsat.select('B4')\n",
        "  nir = Landsat.select('B5')\n",
        "  swir = Landsat.select('B6')\n",
        "\n",
        "  NDVI = nir.subtract(red).divide(nir.add(red)).rename('Annual_NDVI');\n",
        "  NDMI = nir.subtract(swir).divide(nir.add(swir)).rename('Annual_NDMI');\n",
        "  EVI = getAnnualEVI(yr, EVILayerName)\n",
        "\n",
        "  Landsat = Landsat.addBands(NDVI).addBands(NDMI).addBands(EVI)\n",
        "  Landsat = Landsat.select(['Annual_NDVI', 'Annual_NDMI', 'Annual_EVI'])\n",
        "  return (Landsat)"
      ],
      "execution_count": 214,
      "outputs": []
    },
    {
      "cell_type": "markdown",
      "metadata": {
        "id": "fiiozfa6GHrs",
        "colab_type": "text"
      },
      "source": [
        "#### [5] ANNUAL EVI"
      ]
    },
    {
      "cell_type": "code",
      "metadata": {
        "id": "rMx1jCkgGJOv",
        "colab_type": "code",
        "colab": {}
      },
      "source": [
        "def getAnnualEVI(yr, EVILayerName): #'LANDSAT/LC08/C01/T1_32DAY_EVI'\n",
        "  start_yr = int(yr) - 1 \n",
        "  EVI_annual_collection = ee.Image(ee.ImageCollection(EVILayerName)\n",
        "                          .filter(ee.Filter.date(f'{start_yr}-10-01', f'{yr}-04-30'))\n",
        "                          .filterBounds(CA_Extent)\n",
        "                          .select('EVI')\n",
        "                          .max());\n",
        "                                  \n",
        "  EVI_Annual = EVI_annual_collection.clip(CA_Extent).rename('Annual_EVI');   \n",
        "  return EVI_Annual"
      ],
      "execution_count": 215,
      "outputs": []
    },
    {
      "cell_type": "markdown",
      "metadata": {
        "id": "bh-qjAvDNfXi",
        "colab_type": "text"
      },
      "source": [
        "### B. Daily Weather (resample to 30m) \n",
        "\n",
        "1) Gridmet \n",
        "\n",
        "2) Gridmet FFWI\n",
        "\n",
        "3) Daymet \n",
        "\n",
        "4) Daymet VPD & RH\n"
      ]
    },
    {
      "cell_type": "markdown",
      "metadata": {
        "id": "gVwWuugF_SGw",
        "colab_type": "text"
      },
      "source": [
        "#### [1] GridMET"
      ]
    },
    {
      "cell_type": "code",
      "metadata": {
        "id": "e3VZHx9MNr_6",
        "colab_type": "code",
        "colab": {}
      },
      "source": [
        "def getGRIDMET(yr, jd):\n",
        "  gridmet_layers = ['pr', 'rmax', 'rmin', 'sph', 'srad', 'th', \n",
        "                    'tmmn','tmmx', 'vs', 'erc', 'bi', 'eto',\n",
        "                    'fm100', 'fm1000', 'etr', 'vpd']\n",
        "\n",
        "  gridmet_collection = ee.Image(ee.ImageCollection('IDAHO_EPSCOR/GRIDMET')\n",
        "                            .filter(ee.Filter.calendarRange(int(yr), int(yr),'year'))\n",
        "                            .filter(ee.Filter.calendarRange(int(jd),int(jd),'DAY_OF_YEAR'))\n",
        "                            .select(gridmet_layers)\n",
        "                            .mosaic())\n",
        "\n",
        "  gridmet = gridmet_collection.clip(CA_Extent) \n",
        "\n",
        "  gridmet = getFFWI(gridmet)\n",
        "  return gridmet"
      ],
      "execution_count": 300,
      "outputs": []
    },
    {
      "cell_type": "markdown",
      "metadata": {
        "id": "NniVRG4MES0a",
        "colab_type": "text"
      },
      "source": [
        "#### [2] FFWI"
      ]
    },
    {
      "cell_type": "code",
      "metadata": {
        "id": "bP6NQ-vJERww",
        "colab_type": "code",
        "colab": {}
      },
      "source": [
        "def getFFWI(gridmet):\n",
        "  FFWI = gridmet.expression(\n",
        "          \"(b('rmax') < 10) ? (1 - (2 *( (0.03229 + (0.281073 * b('rmax')) - (0.000578 * b('rmax') * b('tmmx'))) / (30 * 1.0))) + ((1.5 * ( (0.03229 + (0.281073 * b('rmax')) - (0.000578 * b('rmax') * b('tmmx'))) /(30*1.0))**2)) - (0.5 * ((0.03229 + (0.281073 * b('rmax')) - (0.000578 * b('rmax') * b('tmmx'))) / (30 * 1.0))**3)) * (((1+b('vs')**2)**0.5) / 0.3002)\" +\n",
        "          \": (b('rmax') > 10 && b('rmax') <= 50) ? (1 - (2 *( (2.22749 + (0.160107* b('rmax')) - (0.01478* b('tmmx'))) / (30 * 1.0))) + ((1.5 * ( (2.22749 + (0.160107* b('rmax')) - (0.01478* b('tmmx'))) /(30*1.0))**2)) - (0.5 * ((2.22749 + (0.160107* b('rmax')) - (0.01478* b('tmmx'))) / (30 * 1.0))**3)) * (((1+b('vs')**2)**0.5) / 0.3002)\" +\n",
        "          \": (b('rmax') > 50) ? (1 - (2 *((21.0606 + (0.005565* (b('rmax')**2)) - (0.00035 * b('rmax') * b('tmmx')) - (0.483199 * b('rmax'))) / (30 * 1.0))) + ((1.5 * ( (21.0606 + (0.005565* (b('rmax')**2)) - (0.00035 * b('rmax') * b('tmmx')) - (0.483199 * b('rmax'))) /(30*1.0))**2)) - (0.5 * ((21.0606 + (0.005565* (b('rmax')**2)) - (0.00035 * b('rmax') * b('tmmx')) - (0.483199 * b('rmax'))) / (30 * 1.0))**3)) * (((1+b('vs')**2)**0.5) / 0.3002)\" +\n",
        "          \": 0\").rename('FFWI')\n",
        "\n",
        "  gridmet_full = gridmet.addBands(FFWI)\n",
        "  return gridmet_full"
      ],
      "execution_count": 209,
      "outputs": []
    },
    {
      "cell_type": "markdown",
      "metadata": {
        "id": "Z3lLhrui_V68",
        "colab_type": "text"
      },
      "source": [
        "#### [3] DayMET"
      ]
    },
    {
      "cell_type": "code",
      "metadata": {
        "id": "CxwYWYGB_X5I",
        "colab_type": "code",
        "colab": {}
      },
      "source": [
        "def getDAYMET(yr, jd):\n",
        "  daymet_layers = ['tmax', 'srad', 'vp', 'tmin', 'prcp']\n",
        "\n",
        "  daymet_collection = ee.Image(ee.ImageCollection('NASA/ORNL/DAYMET_V3')\n",
        "                            .filter(ee.Filter.calendarRange(int(yr), int(yr),'year'))\n",
        "                            .filter(ee.Filter.calendarRange(int(jd),int(jd),'DAY_OF_YEAR'))\n",
        "                            .select(daymet_layers)\n",
        "                            .mosaic())\n",
        "\n",
        "  daymet = daymet_collection.clip(CA_Extent)\n",
        "\n",
        "  daymet = getVPD_RH(daymet)\n",
        "\n",
        "  return daymet "
      ],
      "execution_count": 57,
      "outputs": []
    },
    {
      "cell_type": "markdown",
      "metadata": {
        "id": "M_q5SNKR_xtz",
        "colab_type": "text"
      },
      "source": [
        "#### [4] VPD & RH"
      ]
    },
    {
      "cell_type": "code",
      "metadata": {
        "id": "_j3t0rM5_0wI",
        "colab_type": "code",
        "colab": {}
      },
      "source": [
        "def getVPD_RH(daymet):\n",
        "  VP_amb = daymet.expression(\"610.78**((17.269 * tmin) / (237.3 + tmin))\", {\n",
        "    'tmin': daymet.select('tmin')\n",
        "  })\n",
        "    \n",
        "  VP_sat = daymet.expression(\"610.78**((17.269 * (0.394 * tmin + 0.606 * tmax)) / (237.3 + (0.394 * tmin + 0.606 * tmax)))\", {\n",
        "    'tmin': daymet.select('tmin'),\n",
        "    'tmax': daymet.select('tmax')\n",
        "  })\n",
        "\n",
        "  VP_Deficit = VP_sat.subtract(VP_amb).divide(1000).rename('DayMET_VPD')\n",
        "  Rel_Humidity = VP_amb.divide(VP_sat).multiply(100).rename('DayMET_RH')\n",
        "\n",
        "  daymet_full = daymet.addBands(VP_Deficit).addBands(Rel_Humidity);\n",
        "  return daymet_full"
      ],
      "execution_count": 56,
      "outputs": []
    },
    {
      "cell_type": "markdown",
      "metadata": {
        "id": "NJJ4hKGWN3fx",
        "colab_type": "text"
      },
      "source": [
        "### C. Topography (resample to 30m)\n",
        "\n",
        "1) DEM, Slope, Aspect\n",
        "\n",
        "2) Multiscale TPI \n",
        "\n",
        "3) Topo Diversity "
      ]
    },
    {
      "cell_type": "markdown",
      "metadata": {
        "id": "8w7LVLleeQYR",
        "colab_type": "text"
      },
      "source": [
        "#### [1] DEM, Slope, Aspect"
      ]
    },
    {
      "cell_type": "code",
      "metadata": {
        "id": "Lqri41ALeTIO",
        "colab_type": "code",
        "colab": {}
      },
      "source": [
        "DEM_Image = ee.Image('USGS/NED').select('elevation');\n",
        "\n",
        "DEM = DEM_Image.clip(CA_Extent).rename('DEM')\n",
        "Slope = ee.Terrain.slope(DEM).rename('Slope')\n",
        "Aspect = ee.Terrain.aspect(DEM).rename('Aspect')\n",
        "\n",
        "topo = DEM.addBands(Slope).addBands(Aspect);"
      ],
      "execution_count": 44,
      "outputs": []
    },
    {
      "cell_type": "markdown",
      "metadata": {
        "id": "qSxnUOiwdo8q",
        "colab_type": "text"
      },
      "source": [
        "#### [2] TPI "
      ]
    },
    {
      "cell_type": "code",
      "metadata": {
        "id": "jQG8qoBtOS1g",
        "colab_type": "code",
        "colab": {}
      },
      "source": [
        "# 270 m (Valley (-) Ridge (+))\n",
        "TPI_Image = ee.Image('CSP/ERGo/1_0/US/mTPI').select('elevation');\n",
        "\n",
        "TPI = TPI_Image.clip(CA_Extent) \n",
        "\n",
        "# ridge > + 1 STDEV\n",
        "# 2 upper slope > 0.5 STDV =< 1 STDV\n",
        "# 3 middle slope> -0.5 STDV, < 0.5 STDV, slope > 5 deg\n",
        "# 4 flats slope >= -0.5 STDV, =< 0.5 STDV , slope <= 5 deg\n",
        "# 5 lower slopes >= -1.0 STDEV, < 0.5 STDV\n",
        "# 6 valleys < -1.0 STDV"
      ],
      "execution_count": 217,
      "outputs": []
    },
    {
      "cell_type": "code",
      "metadata": {
        "id": "IeRCUSiV3GEk",
        "colab_type": "code",
        "colab": {}
      },
      "source": [
        "def getStats(operation, ras_Image, band_name):\n",
        "  out = ras_Image.reduceRegion(**{\n",
        "      'reducer': operation, \n",
        "      'bestEffort': True,\n",
        "      'geometry': CA_Extent.geometry()\n",
        "      });\n",
        "  return out.getNumber(f'{band_name}').getInfo()\n",
        "\n",
        "\n",
        "TPI_ST = getStats(ee.Reducer.stdDev(), TPI, 'elevation')\n",
        "TPI_mean = getStats(ee.Reducer.mean(), TPI, 'elevation')\n",
        "TPI_max = getStats(ee.Reducer.max(), TPI, 'elevation')\n",
        "TPI_min = getStats(ee.Reducer.min(), TPI, 'elevation')"
      ],
      "execution_count": 218,
      "outputs": []
    },
    {
      "cell_type": "code",
      "metadata": {
        "id": "bhRSkYis1WD4",
        "colab_type": "code",
        "colab": {}
      },
      "source": [
        "thresholds = ee.Image([TPI_min, TPI_mean - TPI_ST, \n",
        "                       TPI_mean - TPI_ST/2, TPI_mean + TPI_ST/2, TPI_mean + TPI_ST, TPI_max]);\n",
        "\n",
        "TPI_Zones = TPI.expression(f'b(0) <= {TPI_mean - (2*(TPI_ST))} ? 1 : \\\n",
        "                             b(0) < {TPI_mean - (1/2*(TPI_ST))} ? 2 : \\\n",
        "                             b(0) < {TPI_mean + (1/2*(TPI_ST))} ? 3 : \\\n",
        "                             b(0) < {TPI_mean + (1*(TPI_ST))} ? 4 : \\\n",
        "                             b(0) < {TPI_max} ? 5 : 0').rename('TPI')\n",
        "\n",
        "ridge = TPI_Zones.select(['TPI']).eq(1)\n",
        "valley = TPI_Zones.select(['TPI']).eq(5)"
      ],
      "execution_count": 234,
      "outputs": []
    },
    {
      "cell_type": "markdown",
      "metadata": {
        "id": "suef83RieTW5",
        "colab_type": "text"
      },
      "source": [
        "####[3] Topo Diversity"
      ]
    },
    {
      "cell_type": "code",
      "metadata": {
        "id": "N9g0rfzDegms",
        "colab_type": "code",
        "colab": {}
      },
      "source": [
        "topo_diversity_Image = ee.Image('CSP/ERGo/1_0/Global/ALOS_topoDiversity').select('constant');\n",
        "\n",
        "topo_diversity= topo_diversity_Image.clip(CA_Extent).rename('TOPO_DIV')\n",
        "topo = topo.addBands(topo_diversity)"
      ],
      "execution_count": 45,
      "outputs": []
    },
    {
      "cell_type": "markdown",
      "metadata": {
        "id": "fBSbuDQVOTA9",
        "colab_type": "text"
      },
      "source": [
        "### D. LandFire (30m)\n",
        "\n",
        "USE: ee.Reducer.countDistinct()\n",
        "\n",
        "1) Vegetation Type \n",
        "\n",
        "2) Vegetation Height "
      ]
    },
    {
      "cell_type": "markdown",
      "metadata": {
        "id": "_aMhewxPhgdq",
        "colab_type": "text"
      },
      "source": [
        "#### [1] Vegetation Type"
      ]
    },
    {
      "cell_type": "code",
      "metadata": {
        "id": "VnRzIEcoOixL",
        "colab_type": "code",
        "colab": {}
      },
      "source": [
        "EVT_Image = ee.Image(ee.ImageCollection('LANDFIRE/Vegetation/EVT/v1_4_0').select('EVT').mosaic())\n",
        "\n",
        "EVT = EVT_Image.clip(CA_Extent).rename('EVT')"
      ],
      "execution_count": 98,
      "outputs": []
    },
    {
      "cell_type": "markdown",
      "metadata": {
        "id": "xZnubPeOhjxm",
        "colab_type": "text"
      },
      "source": [
        "#### [2] Vegetation Height"
      ]
    },
    {
      "cell_type": "code",
      "metadata": {
        "id": "w6WMXYDUOsLO",
        "colab_type": "code",
        "colab": {}
      },
      "source": [
        "EVH_Image = ee.Image(ee.ImageCollection('LANDFIRE/Vegetation/EVH/v1_4_0').select('EVH').mosaic())\n",
        "\n",
        "EVH = EVH_Image.clip(CA_Extent).rename('EVH')"
      ],
      "execution_count": 99,
      "outputs": []
    },
    {
      "cell_type": "code",
      "metadata": {
        "id": "a8QGDIlJ17iJ",
        "colab_type": "code",
        "colab": {}
      },
      "source": [
        "Veg_TPI = TPI_Zones.addBands(EVH).addBands(EVT);"
      ],
      "execution_count": 100,
      "outputs": []
    },
    {
      "cell_type": "markdown",
      "metadata": {
        "id": "CRS-vEt8QcHx",
        "colab_type": "text"
      },
      "source": [
        "### E. Cost Distance to human settlement (resample to 30m)"
      ]
    },
    {
      "cell_type": "code",
      "metadata": {
        "id": "jv5f03MGQe6t",
        "colab_type": "code",
        "colab": {}
      },
      "source": [
        "roads = ee.FeatureCollection('TIGER/2016/Roads');\n",
        "\n",
        "# // Create a source image (palm oil mill=1, others=0)\n",
        "sources = ee.Image().toByte().paint(roads, 1);\n",
        "\n",
        "# // Mask the sources image with itself.\n",
        "sources = sources.updateMask(sources);\n",
        "sources = sources.clip(CA_Extent)\n",
        "\n",
        "# // The cost data is generated from slope \n",
        "cover = Slope.select(0);\n",
        "\n",
        "# // Variable cost\n",
        "cost = cover.lte(10) and (cover.gt(0)).multiply(1).add(\n",
        "       cover.lte(30) and (cover.gt(10)).multiply(2)).add(\n",
        "       cover.lte(50) and (cover.gt(30)).multiply(3)).add(\n",
        "       cover.lte(60) and (cover.gt(50)).multiply(4)).add(\n",
        "       cover.lte(100) and (cover.gt(60)).multiply(5))\n",
        "\n",
        "# // Compute the cumulative cost to traverse the land cover.\n",
        "cumulativeCost = cost.cumulativeCost(**{\n",
        "  'source': sources,\n",
        "  'maxDistance': 10 * 1000 \n",
        "}).rename('travelCost')\n"
      ],
      "execution_count": 280,
      "outputs": []
    },
    {
      "cell_type": "markdown",
      "metadata": {
        "id": "rvRIcMy5PEvZ",
        "colab_type": "text"
      },
      "source": [
        "## For each instance of fire, GET layers, Mosaic, Reduce, Save\n",
        "\n",
        "Make sure all layers are aligned, with correct CRS projection and resolution"
      ]
    },
    {
      "cell_type": "code",
      "metadata": {
        "colab_type": "code",
        "id": "LKMhZ8JeiNUV",
        "colab": {}
      },
      "source": [
        "# import feature collection asset \n",
        "fire_perimeters = ee.FeatureCollection('users/escaduto/CA_FireTrends/DerivedPerimeters_2012_2020')\n",
        "CA_Extent = ee.FeatureCollection('users/escaduto/CA_FireTrends/CA_Extent')"
      ],
      "execution_count": 47,
      "outputs": []
    },
    {
      "cell_type": "code",
      "metadata": {
        "colab_type": "code",
        "id": "AYUjurEhiNUa",
        "colab": {}
      },
      "source": [
        "outpath = os.path.join(r'Products', 'ALL_2012_2020')\n",
        "Interpolated_CA = gpd.read_file(os.path.join(outpath, f'ALL_2012_2020.geojson'))"
      ],
      "execution_count": 50,
      "outputs": []
    },
    {
      "cell_type": "code",
      "metadata": {
        "colab_type": "code",
        "id": "Uxtig6HIiNUd",
        "colab": {}
      },
      "source": [
        "Interpolated_CA.columns"
      ],
      "execution_count": null,
      "outputs": []
    },
    {
      "cell_type": "code",
      "metadata": {
        "id": "fvNxmwhIOmmw",
        "colab_type": "code",
        "colab": {}
      },
      "source": [
        "def exportGEE(features, var, yrjd):\n",
        "  exporttask = ee.batch.Export.table.toDrive(**{\n",
        "  'collection': features,\n",
        "  'folder': \"Google EE results\",\n",
        "  'fileNamePrefix': f'{yrjd}_{var}',\n",
        "  # 'selectors':([\"Aspect\",\"DEM\",\"Slope\"]),\n",
        "  });\n",
        "\n",
        "  exporttask.start()\n",
        "  print(f'exporting {yrjd}_{var}.csv')\n"
      ],
      "execution_count": 48,
      "outputs": []
    },
    {
      "cell_type": "code",
      "metadata": {
        "id": "edc3YEm5O8bv",
        "colab_type": "code",
        "colab": {}
      },
      "source": [
        "def GEEReducer(IMG, collection, reducer, scale):\n",
        "  reduced = IMG.reduceRegions(**{\n",
        "    'collection': collection,\n",
        "    'reducer': reducer,\n",
        "    'scale': scale,\n",
        "  })\n",
        "  return reduced"
      ],
      "execution_count": 311,
      "outputs": []
    },
    {
      "cell_type": "code",
      "metadata": {
        "id": "ufEtbPJmQL60",
        "colab_type": "code",
        "colab": {}
      },
      "source": [
        "# get list of unique yrjd instances \n",
        "# get month year, JD, etc. \n",
        "L8_fires = Interpolated_CA[Interpolated_CA['Year'] >= 2013]\n",
        "yr_jd_list  = L8_fires['YRJD'].unique().tolist()\n",
        "yr_jd_list.sort(reverse=True)"
      ],
      "execution_count": 325,
      "outputs": []
    },
    {
      "cell_type": "code",
      "metadata": {
        "id": "6SjHfXhOiPan",
        "colab_type": "code",
        "colab": {}
      },
      "source": [
        "# 'LANDSAT/LE07/C01/T1_SR'\n",
        "# 'LANDSAT/LC08/C01/T1_SR'\n",
        "\n",
        "for yrjd in yr_jd_list:\n",
        "  yr_jd_dt = datetime.strptime(yrjd, '%Y%j') \n",
        "  year = yr_jd_dt.year\n",
        "  dy = yr_jd_dt.day\n",
        "  mnth = yr_jd_dt.month\n",
        "  mnth = str(mnth).zfill(2)\n",
        "  jd = yrjd[-3:]\n",
        "  print(jd, mnth, year)\n",
        "\n",
        "  day_perimeter = fire_perimeters.filter(ee.Filter.eq('YRJD', yrjd))\n",
        "  \n",
        "  # reduce Image Collections \n",
        "  # Topography\n",
        "  # Topo_Features = GEEReducer(topo, day_perimeter, ee.Reducer.mean(), 30)\n",
        "\n",
        "  # Weather \n",
        "  daymet = getDAYMET(year, jd)\n",
        "  # daymet_Features = GEEReducer(daymet, day_perimeter, ee.Reducer.mean(), 30)\n",
        "\n",
        "  gridmet = getGRIDMET(year, jd)\n",
        "  # gridmet_Features = GEEReducer(gridmet, day_perimeter, ee.Reducer.mean(), 30)\n",
        "\n",
        "  # Vegetation \n",
        "  monthly_indices = computeMonthlyVegIndices(year, mnth, LandsatCollection = 'LANDSAT/LC08/C01/T1_SR', Cloudmask = maskL8sr, EVILayerName='LANDSAT/LC08/C01/T1_32DAY_EVI')\n",
        "  # monthlyVeg_Features = GEEReducer(monthly_indices, day_perimeter, ee.Reducer.mean(), 30)\n",
        "  annual_indices = computeAnnualVegIndices(year, LandsatCollection = 'LANDSAT/LC08/C01/T1_SR', Cloudmask = maskL8sr, EVILayerName='LANDSAT/LC08/C01/T1_32DAY_EVI')\n",
        "  # annualVeg_Features = GEEReducer(annual_indices, day_perimeter, ee.Reducer.mean(), 30)\n",
        "\n",
        "   # Human Travel Cost \n",
        "  # travelCost_Features = GEEReducer(cumulativeCost, day_perimeter, ee.Reducer.mean(), 30)\n",
        "\n",
        "  allLayers = monthly_indices.addBands(annual_indices).addBands(gridmet).addBands(topo).addBands(cumulativeCost)\n",
        "  all_Features = GEEReducer(allLayers, day_perimeter, ee.Reducer.mean(), 30)\n",
        "\n",
        "  \n",
        "  #[TODO] Fuel Type, Height, TPI, Fuel Model \n",
        "  # LandFire + TPI (Percent by unique value)\n",
        "  #Veg_TPI_Features = GEEReducer(TPI_Zones, day_perimeter, ee.Reducer.countDistinct(), 30)\n",
        "  #ee.Reducer.group(**{'reducer': ee.Reducer.count(),'groupField':0,'groupName':'TPI'})\n",
        "  \n",
        "  exportGEE(all_Features, 'dailyfire_zonalstats', yrjd)\n",
        "  # exportGEE(Veg_TPI_Features, 'Veg_TPI', yrjd)\n",
        "  # exportGEE(daymet_Features, 'DAYMET', yrjd)\n",
        "\n"
      ],
      "execution_count": null,
      "outputs": []
    },
    {
      "cell_type": "code",
      "metadata": {
        "id": "CSH0MspRwOj5",
        "colab_type": "code",
        "colab": {
          "base_uri": "https://localhost:8080/",
          "height": 35
        },
        "outputId": "5e136157-91c6-4e33-828c-1f5f948c7be7"
      },
      "source": [
        "os.getcwd()"
      ],
      "execution_count": 109,
      "outputs": [
        {
          "output_type": "execute_result",
          "data": {
            "application/vnd.google.colaboratory.intrinsic+json": {
              "type": "string"
            },
            "text/plain": [
              "'/content/drive/My Drive/California_FireTrends'"
            ]
          },
          "metadata": {
            "tags": []
          },
          "execution_count": 109
        }
      ]
    },
    {
      "cell_type": "markdown",
      "metadata": {
        "id": "iBH_YhyhWr1y",
        "colab_type": "text"
      },
      "source": [
        "## Visualize Layers"
      ]
    },
    {
      "cell_type": "code",
      "metadata": {
        "id": "lRtrJPozi7d-",
        "colab_type": "code",
        "colab": {
          "base_uri": "https://localhost:8080/",
          "height": 882
        },
        "outputId": "86fdb9f3-378d-49db-dc42-19e7b117b882"
      },
      "source": [
        "visParams = {\n",
        "  'bands': ['B4', 'B3', 'B2'],\n",
        "  'min': 0,\n",
        "  'max': 3000,\n",
        "  'gamma': 1.4,\n",
        "};\n",
        "\n",
        "ndviParams ={\n",
        "  'min': -1,\n",
        "  'max': 1,\n",
        "  'palette': ['ffff00', '330033','7fffd4']\n",
        "};\n",
        "\n",
        "Map = emap.Map(center=[38.50178453635526,-122.74843617724784], zoom=10)\n",
        "# Map.addLayer(TPI_Zones, {'palette': ['ffff00', '330033','7fffd4', \n",
        "#                                                          'b99879','cc8e7f', '268b07']}, 'TPI_class')\n",
        "Map.addLayer(landsat, visParams , 'landsat')\n",
        "# Map.addLayer(valley, {'min':0, 'max':1, 'palette': ['ffff00', '330033']} , 'valley')\n",
        "# Map.addLayer(ridge, {'min':0, 'max':1, 'palette': ['ffff00', '330033']} , 'ridge')\n",
        "Map.addLayer(cumulativeCost, {'min': 0, 'max': 5e3, 'palette': ['34a853', 'fbc034', 'ea4335', '4285f4']} , 'cumulativeCost')\n",
        "Map.addLayerControl()\n",
        "Map"
      ],
      "execution_count": 283,
      "outputs": [
        {
          "output_type": "execute_result",
          "data": {
            "text/html": [
              "<div style=\"width:100%;\"><div style=\"position:relative;width:100%;height:0;padding-bottom:60%;\"><span style=\"color:#565656\">Make this Notebook Trusted to load map: File -> Trust Notebook</span><iframe src=\"about:blank\" style=\"position:absolute;width:100%;height:100%;left:0;top:0;border:none !important;\" data-html=PCFET0NUWVBFIGh0bWw+CjxoZWFkPiAgICAKICAgIDxtZXRhIGh0dHAtZXF1aXY9ImNvbnRlbnQtdHlwZSIgY29udGVudD0idGV4dC9odG1sOyBjaGFyc2V0PVVURi04IiAvPgogICAgCiAgICAgICAgPHNjcmlwdD4KICAgICAgICAgICAgTF9OT19UT1VDSCA9IGZhbHNlOwogICAgICAgICAgICBMX0RJU0FCTEVfM0QgPSBmYWxzZTsKICAgICAgICA8L3NjcmlwdD4KICAgIAogICAgPHNjcmlwdCBzcmM9Imh0dHBzOi8vY2RuLmpzZGVsaXZyLm5ldC9ucG0vbGVhZmxldEAxLjYuMC9kaXN0L2xlYWZsZXQuanMiPjwvc2NyaXB0PgogICAgPHNjcmlwdCBzcmM9Imh0dHBzOi8vY29kZS5qcXVlcnkuY29tL2pxdWVyeS0xLjEyLjQubWluLmpzIj48L3NjcmlwdD4KICAgIDxzY3JpcHQgc3JjPSJodHRwczovL21heGNkbi5ib290c3RyYXBjZG4uY29tL2Jvb3RzdHJhcC8zLjIuMC9qcy9ib290c3RyYXAubWluLmpzIj48L3NjcmlwdD4KICAgIDxzY3JpcHQgc3JjPSJodHRwczovL2NkbmpzLmNsb3VkZmxhcmUuY29tL2FqYXgvbGlicy9MZWFmbGV0LmF3ZXNvbWUtbWFya2Vycy8yLjAuMi9sZWFmbGV0LmF3ZXNvbWUtbWFya2Vycy5qcyI+PC9zY3JpcHQ+CiAgICA8bGluayByZWw9InN0eWxlc2hlZXQiIGhyZWY9Imh0dHBzOi8vY2RuLmpzZGVsaXZyLm5ldC9ucG0vbGVhZmxldEAxLjYuMC9kaXN0L2xlYWZsZXQuY3NzIi8+CiAgICA8bGluayByZWw9InN0eWxlc2hlZXQiIGhyZWY9Imh0dHBzOi8vbWF4Y2RuLmJvb3RzdHJhcGNkbi5jb20vYm9vdHN0cmFwLzMuMi4wL2Nzcy9ib290c3RyYXAubWluLmNzcyIvPgogICAgPGxpbmsgcmVsPSJzdHlsZXNoZWV0IiBocmVmPSJodHRwczovL21heGNkbi5ib290c3RyYXBjZG4uY29tL2Jvb3RzdHJhcC8zLjIuMC9jc3MvYm9vdHN0cmFwLXRoZW1lLm1pbi5jc3MiLz4KICAgIDxsaW5rIHJlbD0ic3R5bGVzaGVldCIgaHJlZj0iaHR0cHM6Ly9tYXhjZG4uYm9vdHN0cmFwY2RuLmNvbS9mb250LWF3ZXNvbWUvNC42LjMvY3NzL2ZvbnQtYXdlc29tZS5taW4uY3NzIi8+CiAgICA8bGluayByZWw9InN0eWxlc2hlZXQiIGhyZWY9Imh0dHBzOi8vY2RuanMuY2xvdWRmbGFyZS5jb20vYWpheC9saWJzL0xlYWZsZXQuYXdlc29tZS1tYXJrZXJzLzIuMC4yL2xlYWZsZXQuYXdlc29tZS1tYXJrZXJzLmNzcyIvPgogICAgPGxpbmsgcmVsPSJzdHlsZXNoZWV0IiBocmVmPSJodHRwczovL3Jhd2Nkbi5naXRoYWNrLmNvbS9weXRob24tdmlzdWFsaXphdGlvbi9mb2xpdW0vbWFzdGVyL2ZvbGl1bS90ZW1wbGF0ZXMvbGVhZmxldC5hd2Vzb21lLnJvdGF0ZS5jc3MiLz4KICAgIDxzdHlsZT5odG1sLCBib2R5IHt3aWR0aDogMTAwJTtoZWlnaHQ6IDEwMCU7bWFyZ2luOiAwO3BhZGRpbmc6IDA7fTwvc3R5bGU+CiAgICA8c3R5bGU+I21hcCB7cG9zaXRpb246YWJzb2x1dGU7dG9wOjA7Ym90dG9tOjA7cmlnaHQ6MDtsZWZ0OjA7fTwvc3R5bGU+CiAgICAKICAgICAgICAgICAgPG1ldGEgbmFtZT0idmlld3BvcnQiIGNvbnRlbnQ9IndpZHRoPWRldmljZS13aWR0aCwKICAgICAgICAgICAgICAgIGluaXRpYWwtc2NhbGU9MS4wLCBtYXhpbXVtLXNjYWxlPTEuMCwgdXNlci1zY2FsYWJsZT1ubyIgLz4KICAgICAgICAgICAgPHN0eWxlPgogICAgICAgICAgICAgICAgI21hcF81NDU5N2MxYjk2OGU0NmFhYmE0NjdiOTU5NjQxZjY0ZSB7CiAgICAgICAgICAgICAgICAgICAgcG9zaXRpb246IHJlbGF0aXZlOwogICAgICAgICAgICAgICAgICAgIHdpZHRoOiAxMDAuMCU7CiAgICAgICAgICAgICAgICAgICAgaGVpZ2h0OiAxMDAuMCU7CiAgICAgICAgICAgICAgICAgICAgbGVmdDogMC4wJTsKICAgICAgICAgICAgICAgICAgICB0b3A6IDAuMCU7CiAgICAgICAgICAgICAgICB9CiAgICAgICAgICAgIDwvc3R5bGU+CiAgICAgICAgCjwvaGVhZD4KPGJvZHk+ICAgIAogICAgCiAgICAgICAgICAgIDxkaXYgY2xhc3M9ImZvbGl1bS1tYXAiIGlkPSJtYXBfNTQ1OTdjMWI5NjhlNDZhYWJhNDY3Yjk1OTY0MWY2NGUiID48L2Rpdj4KICAgICAgICAKPC9ib2R5Pgo8c2NyaXB0PiAgICAKICAgIAogICAgICAgICAgICB2YXIgbWFwXzU0NTk3YzFiOTY4ZTQ2YWFiYTQ2N2I5NTk2NDFmNjRlID0gTC5tYXAoCiAgICAgICAgICAgICAgICAibWFwXzU0NTk3YzFiOTY4ZTQ2YWFiYTQ2N2I5NTk2NDFmNjRlIiwKICAgICAgICAgICAgICAgIHsKICAgICAgICAgICAgICAgICAgICBjZW50ZXI6IFszOC41MDE3ODQ1MzYzNTUyNiwgLTEyMi43NDg0MzYxNzcyNDc4NF0sCiAgICAgICAgICAgICAgICAgICAgY3JzOiBMLkNSUy5FUFNHMzg1NywKICAgICAgICAgICAgICAgICAgICB6b29tOiAxMCwKICAgICAgICAgICAgICAgICAgICB6b29tQ29udHJvbDogdHJ1ZSwKICAgICAgICAgICAgICAgICAgICBwcmVmZXJDYW52YXM6IGZhbHNlLAogICAgICAgICAgICAgICAgICAgIGFkZEdvb2dsZU1hcDogdHJ1ZSwKICAgICAgICAgICAgICAgIH0KICAgICAgICAgICAgKTsKCiAgICAgICAgICAgIAoKICAgICAgICAKICAgIAogICAgICAgICAgICB2YXIgdGlsZV9sYXllcl9jYjY4ZjQ5YzkwNmY0MTM2OWNiYTI5MjFhNzM4OTZmZSA9IEwudGlsZUxheWVyKAogICAgICAgICAgICAgICAgImh0dHBzOi8ve3N9LnRpbGUub3BlbnN0cmVldG1hcC5vcmcve3p9L3t4fS97eX0ucG5nIiwKICAgICAgICAgICAgICAgIHsiYXR0cmlidXRpb24iOiAiRGF0YSBieSBcdTAwMjZjb3B5OyBcdTAwM2NhIGhyZWY9XCJodHRwOi8vb3BlbnN0cmVldG1hcC5vcmdcIlx1MDAzZU9wZW5TdHJlZXRNYXBcdTAwM2MvYVx1MDAzZSwgdW5kZXIgXHUwMDNjYSBocmVmPVwiaHR0cDovL3d3dy5vcGVuc3RyZWV0bWFwLm9yZy9jb3B5cmlnaHRcIlx1MDAzZU9EYkxcdTAwM2MvYVx1MDAzZS4iLCAiZGV0ZWN0UmV0aW5hIjogZmFsc2UsICJtYXhOYXRpdmVab29tIjogMTgsICJtYXhab29tIjogMTgsICJtaW5ab29tIjogMCwgIm5vV3JhcCI6IGZhbHNlLCAib3BhY2l0eSI6IDEsICJzdWJkb21haW5zIjogImFiYyIsICJ0bXMiOiBmYWxzZX0KICAgICAgICAgICAgKS5hZGRUbyhtYXBfNTQ1OTdjMWI5NjhlNDZhYWJhNDY3Yjk1OTY0MWY2NGUpOwogICAgICAgIAogICAgCiAgICAgICAgICAgIHZhciB0aWxlX2xheWVyX2Y3NzlmZmM0YjQzMzQ3NjI5YWNiNWI1NjdmMmQ2NDc4ID0gTC50aWxlTGF5ZXIoCiAgICAgICAgICAgICAgICAiaHR0cHM6Ly9tdDEuZ29vZ2xlLmNvbS92dC9seXJzPW1cdTAwMjZ4PXt4fVx1MDAyNnk9e3l9XHUwMDI2ej17en0iLAogICAgICAgICAgICAgICAgeyJhdHRyaWJ1dGlvbiI6ICJHb29nbGUiLCAiZGV0ZWN0UmV0aW5hIjogZmFsc2UsICJtYXhOYXRpdmVab29tIjogMTgsICJtYXhab29tIjogMTgsICJtaW5ab29tIjogMCwgIm5vV3JhcCI6IGZhbHNlLCAib3BhY2l0eSI6IDEsICJzdWJkb21haW5zIjogImFiYyIsICJ0bXMiOiBmYWxzZX0KICAgICAgICAgICAgKS5hZGRUbyhtYXBfNTQ1OTdjMWI5NjhlNDZhYWJhNDY3Yjk1OTY0MWY2NGUpOwogICAgICAgIAogICAgCiAgICAgICAgICAgICAgICB2YXIgbGF0X2xuZ19wb3B1cF83YzdhZTdhZWVkZWY0Zjg0YWI0MGQ2NmYxMDNmNjcyNCA9IEwucG9wdXAoKTsKICAgICAgICAgICAgICAgIGZ1bmN0aW9uIGxhdExuZ1BvcChlKSB7CiAgICAgICAgICAgICAgICAgICAgbGF0X2xuZ19wb3B1cF83YzdhZTdhZWVkZWY0Zjg0YWI0MGQ2NmYxMDNmNjcyNAogICAgICAgICAgICAgICAgICAgICAgICAuc2V0TGF0TG5nKGUubGF0bG5nKQogICAgICAgICAgICAgICAgICAgICAgICAuc2V0Q29udGVudCgiTGF0aXR1ZGU6ICIgKyBlLmxhdGxuZy5sYXQudG9GaXhlZCg0KSArCiAgICAgICAgICAgICAgICAgICAgICAgICAgICAgICAgICAgICI8YnI+TG9uZ2l0dWRlOiAiICsgZS5sYXRsbmcubG5nLnRvRml4ZWQoNCkpCiAgICAgICAgICAgICAgICAgICAgICAgIC5vcGVuT24obWFwXzU0NTk3YzFiOTY4ZTQ2YWFiYTQ2N2I5NTk2NDFmNjRlKTsKICAgICAgICAgICAgICAgICAgICB9CiAgICAgICAgICAgICAgICBtYXBfNTQ1OTdjMWI5NjhlNDZhYWJhNDY3Yjk1OTY0MWY2NGUub24oJ2NsaWNrJywgbGF0TG5nUG9wKTsKICAgICAgICAgICAgCiAgICAKICAgICAgICAgICAgbWFwXzU0NTk3YzFiOTY4ZTQ2YWFiYTQ2N2I5NTk2NDFmNjRlLmZpdEJvdW5kcygKICAgICAgICAgICAgICAgIFtbMzguNTAxNzg0NTM2MzU1MjYsIC0xMjIuNzQ4NDM2MTc3MjQ3ODRdLCBbMzguNTAxNzg0NTM2MzU1MjYsIC0xMjIuNzQ4NDM2MTc3MjQ3ODRdXSwKICAgICAgICAgICAgICAgIHsibWF4Wm9vbSI6IDEwfQogICAgICAgICAgICApOwogICAgICAgIAogICAgCiAgICAgICAgICAgIHZhciB0aWxlX2xheWVyXzEzMDcwNmJlMTE1ZjQ4Y2Y5NGY5MGYzMzQ1OWJlZWQzID0gTC50aWxlTGF5ZXIoCiAgICAgICAgICAgICAgICAiaHR0cHM6Ly9lYXJ0aGVuZ2luZS5nb29nbGVhcGlzLmNvbS92MWFscGhhL3Byb2plY3RzL2VhcnRoZW5naW5lLWxlZ2FjeS9tYXBzLzMwYTllZDM3YWE0ZGMwYjlhOWI2YTk5Y2VkNTIyZTBhLTZkNDZiNGNkN2QxNmVhNjYyNjlmNGZmMjIyZWI4ZTliL3RpbGVzL3t6fS97eH0ve3l9IiwKICAgICAgICAgICAgICAgIHsiYXR0cmlidXRpb24iOiAiR29vZ2xlIEVhcnRoIEVuZ2luZSIsICJkZXRlY3RSZXRpbmEiOiBmYWxzZSwgIm1heE5hdGl2ZVpvb20iOiAxOCwgIm1heFpvb20iOiAxOCwgIm1pblpvb20iOiAwLCAibm9XcmFwIjogZmFsc2UsICJvcGFjaXR5IjogMS4wLCAic3ViZG9tYWlucyI6ICJhYmMiLCAidG1zIjogZmFsc2V9CiAgICAgICAgICAgICkuYWRkVG8obWFwXzU0NTk3YzFiOTY4ZTQ2YWFiYTQ2N2I5NTk2NDFmNjRlKTsKICAgICAgICAKICAgIAogICAgICAgICAgICB2YXIgdGlsZV9sYXllcl85MDE0NDFjYjlhMzA0MzU1YjY0ZWRmOTIzYTBhMDg5NyA9IEwudGlsZUxheWVyKAogICAgICAgICAgICAgICAgImh0dHBzOi8vZWFydGhlbmdpbmUuZ29vZ2xlYXBpcy5jb20vdjFhbHBoYS9wcm9qZWN0cy9lYXJ0aGVuZ2luZS1sZWdhY3kvbWFwcy9mZTZlYTY1MjI3OWU0MmU2OWE0YTljYmM3NmRiY2M0OS01ZWI5OTljNzlmYzBlMmRkNWEwZGQxYmQ5NmMxOWUwMC90aWxlcy97en0ve3h9L3t5fSIsCiAgICAgICAgICAgICAgICB7ImF0dHJpYnV0aW9uIjogIkdvb2dsZSBFYXJ0aCBFbmdpbmUiLCAiZGV0ZWN0UmV0aW5hIjogZmFsc2UsICJtYXhOYXRpdmVab29tIjogMTgsICJtYXhab29tIjogMTgsICJtaW5ab29tIjogMCwgIm5vV3JhcCI6IGZhbHNlLCAib3BhY2l0eSI6IDEuMCwgInN1YmRvbWFpbnMiOiAiYWJjIiwgInRtcyI6IGZhbHNlfQogICAgICAgICAgICApLmFkZFRvKG1hcF81NDU5N2MxYjk2OGU0NmFhYmE0NjdiOTU5NjQxZjY0ZSk7CiAgICAgICAgCiAgICAKICAgICAgICAgICAgdmFyIGxheWVyX2NvbnRyb2xfOTJjMjRlMmU0OGZlNGQ4ODllNTMxZTZlYjI2NjY0NWEgPSB7CiAgICAgICAgICAgICAgICBiYXNlX2xheWVycyA6IHsKICAgICAgICAgICAgICAgICAgICAib3BlbnN0cmVldG1hcCIgOiB0aWxlX2xheWVyX2NiNjhmNDljOTA2ZjQxMzY5Y2JhMjkyMWE3Mzg5NmZlLAogICAgICAgICAgICAgICAgfSwKICAgICAgICAgICAgICAgIG92ZXJsYXlzIDogIHsKICAgICAgICAgICAgICAgICAgICAiR29vZ2xlIE1hcHMiIDogdGlsZV9sYXllcl9mNzc5ZmZjNGI0MzM0NzYyOWFjYjViNTY3ZjJkNjQ3OCwKICAgICAgICAgICAgICAgICAgICAibGFuZHNhdCIgOiB0aWxlX2xheWVyXzEzMDcwNmJlMTE1ZjQ4Y2Y5NGY5MGYzMzQ1OWJlZWQzLAogICAgICAgICAgICAgICAgICAgICJjdW11bGF0aXZlQ29zdCIgOiB0aWxlX2xheWVyXzkwMTQ0MWNiOWEzMDQzNTViNjRlZGY5MjNhMGEwODk3LAogICAgICAgICAgICAgICAgfSwKICAgICAgICAgICAgfTsKICAgICAgICAgICAgTC5jb250cm9sLmxheWVycygKICAgICAgICAgICAgICAgIGxheWVyX2NvbnRyb2xfOTJjMjRlMmU0OGZlNGQ4ODllNTMxZTZlYjI2NjY0NWEuYmFzZV9sYXllcnMsCiAgICAgICAgICAgICAgICBsYXllcl9jb250cm9sXzkyYzI0ZTJlNDhmZTRkODg5ZTUzMWU2ZWIyNjY2NDVhLm92ZXJsYXlzLAogICAgICAgICAgICAgICAgeyJhdXRvWkluZGV4IjogdHJ1ZSwgImNvbGxhcHNlZCI6IHRydWUsICJwb3NpdGlvbiI6ICJ0b3ByaWdodCJ9CiAgICAgICAgICAgICkuYWRkVG8obWFwXzU0NTk3YzFiOTY4ZTQ2YWFiYTQ2N2I5NTk2NDFmNjRlKTsKICAgICAgICAKPC9zY3JpcHQ+ onload=\"this.contentDocument.open();this.contentDocument.write(atob(this.getAttribute('data-html')));this.contentDocument.close();\" allowfullscreen webkitallowfullscreen mozallowfullscreen></iframe></div></div>"
            ],
            "text/plain": [
              "<geemap.eefolium.Map at 0x7f657e509a90>"
            ]
          },
          "metadata": {
            "tags": []
          },
          "execution_count": 283
        }
      ]
    },
    {
      "cell_type": "code",
      "metadata": {
        "id": "Eyj6HQ2ti9mZ",
        "colab_type": "code",
        "colab": {}
      },
      "source": [
        ""
      ],
      "execution_count": null,
      "outputs": []
    }
  ]
}