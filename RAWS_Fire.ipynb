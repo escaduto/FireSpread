{
  "nbformat": 4,
  "nbformat_minor": 0,
  "metadata": {
    "colab": {
      "name": "RAWS_Fire.ipynb",
      "provenance": [],
      "collapsed_sections": [],
      "toc_visible": true,
      "machine_shape": "hm",
      "authorship_tag": "ABX9TyOGMHkfpOK0RrnbmgwWcjuc",
      "include_colab_link": true
    },
    "kernelspec": {
      "name": "python3",
      "display_name": "Python 3"
    }
  },
  "cells": [
    {
      "cell_type": "markdown",
      "metadata": {
        "id": "view-in-github",
        "colab_type": "text"
      },
      "source": [
        "<a href=\"https://colab.research.google.com/github/escaduto/FireSpread/blob/master/RAWS_Fire.ipynb\" target=\"_parent\"><img src=\"https://colab.research.google.com/assets/colab-badge.svg\" alt=\"Open In Colab\"/></a>"
      ]
    },
    {
      "cell_type": "markdown",
      "metadata": {
        "id": "IH6QCa96ALU0",
        "colab_type": "text"
      },
      "source": [
        "# Weather Stations & Fire Spread\n"
      ]
    },
    {
      "cell_type": "markdown",
      "metadata": {
        "id": "bieUcvntAQAT",
        "colab_type": "text"
      },
      "source": [
        "## Setup"
      ]
    },
    {
      "cell_type": "code",
      "metadata": {
        "id": "0y7vi9sxAPER",
        "colab_type": "code",
        "colab": {}
      },
      "source": [
        "from google.colab import drive # import drive from google colab\n",
        "ROOT = \"/content/drive\"     # default location for the drive\n",
        "print(ROOT)                 # print content of ROOT (Optional)\n",
        "\n",
        "drive.mount(ROOT)           # we mount the google drive at /content/drive"
      ],
      "execution_count": null,
      "outputs": []
    },
    {
      "cell_type": "code",
      "metadata": {
        "id": "xq_Kr7lpARKR",
        "colab_type": "code",
        "colab": {
          "base_uri": "https://localhost:8080/",
          "height": 34
        },
        "outputId": "19861328-ac9a-4cd5-a641-df807d3bf743"
      },
      "source": [
        "%cd \"/content/drive/My Drive/FireDrivers_Paper\" \n",
        "\n",
        "import os\n",
        "rootPath = \"/content/drive/My Drive/FireDrivers_Paper/WeatherStation_FireSpread\"\n",
        "os.chdir(rootPath)"
      ],
      "execution_count": 4,
      "outputs": [
        {
          "output_type": "stream",
          "text": [
            "/content/drive/My Drive/FireDrivers_Paper\n"
          ],
          "name": "stdout"
        }
      ]
    },
    {
      "cell_type": "code",
      "metadata": {
        "id": "O2ivMvyhBBq8",
        "colab_type": "code",
        "colab": {
          "base_uri": "https://localhost:8080/",
          "height": 68
        },
        "outputId": "2e372f6e-9de8-4f58-ada1-7dc934f7dde1"
      },
      "source": [
        "from psutil import virtual_memory\n",
        "ram_gb = virtual_memory().total / 1e9\n",
        "print('Your runtime has {:.1f} gigabytes of available RAM\\n'.format(ram_gb))\n",
        "\n",
        "if ram_gb < 20:\n",
        "  print('To enable a high-RAM runtime, select the Runtime > \"Change runtime type\"')\n",
        "  print('menu, and then select High-RAM in the Runtime shape dropdown. Then, ')\n",
        "  print('re-execute this cell.')\n",
        "else:\n",
        "  print('You are using a high-RAM runtime!')"
      ],
      "execution_count": 5,
      "outputs": [
        {
          "output_type": "stream",
          "text": [
            "Your runtime has 27.4 gigabytes of available RAM\n",
            "\n",
            "You are using a high-RAM runtime!\n"
          ],
          "name": "stdout"
        }
      ]
    },
    {
      "cell_type": "code",
      "metadata": {
        "id": "s7m6H-jfBSO8",
        "colab_type": "code",
        "colab": {
          "base_uri": "https://localhost:8080/",
          "height": 34
        },
        "outputId": "3b65891e-ea1c-4b17-ac56-5b166f7964eb"
      },
      "source": [
        "!grep MemTotal /proc/meminfo"
      ],
      "execution_count": null,
      "outputs": [
        {
          "output_type": "stream",
          "text": [
            "MemTotal:       26751672 kB\n"
          ],
          "name": "stdout"
        }
      ]
    },
    {
      "cell_type": "code",
      "metadata": {
        "id": "QdwPChD2Bkqy",
        "colab_type": "code",
        "colab": {}
      },
      "source": [
        "%%time \n",
        "\n",
        "# Important library for many geopython libraries\n",
        "!apt install gdal-bin python-gdal python3-gdal \n",
        "# Install rtree - Geopandas requirment\n",
        "!apt install python3-rtree \n",
        "# Install Geopandas\n",
        "!pip install git+git://github.com/geopandas/geopandas.git\n",
        "# Install descartes - Geopandas requirment\n",
        "!pip install descartes \n",
        "# Install Folium for Geographic data visualization\n",
        "!pip install folium\n",
        "# Install plotlyExpress\n",
        "!pip install plotly_express"
      ],
      "execution_count": null,
      "outputs": []
    },
    {
      "cell_type": "code",
      "metadata": {
        "id": "4Htx69XjBpvB",
        "colab_type": "code",
        "colab": {}
      },
      "source": [
        "import pandas as pd\n",
        "import numpy as np\n",
        "import geopandas as gpd\n",
        "from shapely.geometry import Point\n",
        "import matplotlib\n",
        "import matplotlib.pyplot as plt \n",
        "import folium\n",
        "import rtree"
      ],
      "execution_count": 9,
      "outputs": []
    },
    {
      "cell_type": "code",
      "metadata": {
        "id": "l1164De7CFDt",
        "colab_type": "code",
        "colab": {}
      },
      "source": [
        "def lstFiles(rootPath, ext):\n",
        "  '''\n",
        "  retrieve file path + names based on extension\n",
        "  '''\n",
        "  file_list = []\n",
        "  root = rootPath\n",
        "  for path, subdirs, files in os.walk(root):\n",
        "      for names in files: \n",
        "          if names.endswith(ext):\n",
        "              file_list.append(os.path.join(path,names))\n",
        "  return(file_list)\n",
        "\n",
        "def createFolder(rootPath, folderName): \n",
        "  '''\n",
        "  Create new folder in root path \n",
        "  '''\n",
        "  folderPath = os.path.join(rootPath, folderName) \n",
        "  if not os.path.exists(folderPath):\n",
        "      os.makedirs(folderPath)\n",
        "  return folderPath "
      ],
      "execution_count": 10,
      "outputs": []
    },
    {
      "cell_type": "markdown",
      "metadata": {
        "id": "eiGM1HOP0vg2",
        "colab_type": "text"
      },
      "source": [
        "## Get Nearest RAWS Info"
      ]
    },
    {
      "cell_type": "code",
      "metadata": {
        "id": "_Mo7j2KsAhBL",
        "colab_type": "code",
        "colab": {}
      },
      "source": [
        "raws_shp_list = lstFiles(\"data/RAWS\", \".shp\")\n",
        "\n",
        "raws_info = pd.read_csv(\"data/RAWS/Raws_Info.csv\")\n",
        "raws_info = raws_info.drop(columns=['Unnamed: 0'])"
      ],
      "execution_count": null,
      "outputs": []
    },
    {
      "cell_type": "code",
      "metadata": {
        "id": "ThioprQWExXD",
        "colab_type": "code",
        "colab": {
          "base_uri": "https://localhost:8080/",
          "height": 473
        },
        "outputId": "26eae62b-701d-401c-cfdf-e4135cd426d1"
      },
      "source": [
        "import matplotlib.pyplot as plt\n",
        "import shapely.geometry as geom\n",
        "import numpy as np\n",
        "import pandas as pd\n",
        "import geopandas as gpd\n",
        "\n",
        "geometry = [Point(xy) for xy in zip(raws_info.decimal_long, raws_info.decimal_lat)]\n",
        "crs = {'init': 'epsg:4326'}\n",
        "geo_df = gpd.GeoDataFrame(raws_info, crs=crs, geometry=geometry)\n",
        "geo_df.sort_values(by=['station'])"
      ],
      "execution_count": null,
      "outputs": [
        {
          "output_type": "stream",
          "text": [
            "/usr/local/lib/python3.6/dist-packages/pyproj/crs/crs.py:53: FutureWarning: '+init=<authority>:<code>' syntax is deprecated. '<authority>:<code>' is the preferred initialization method. When making the change, be mindful of axis order changes: https://pyproj4.github.io/pyproj/stable/gotchas.html#axis-order-changes-in-proj-6\n",
            "  return _prepare_from_string(\" \".join(pjargs))\n"
          ],
          "name": "stderr"
        },
        {
          "output_type": "execute_result",
          "data": {
            "text/html": [
              "<div>\n",
              "<style scoped>\n",
              "    .dataframe tbody tr th:only-of-type {\n",
              "        vertical-align: middle;\n",
              "    }\n",
              "\n",
              "    .dataframe tbody tr th {\n",
              "        vertical-align: top;\n",
              "    }\n",
              "\n",
              "    .dataframe thead th {\n",
              "        text-align: right;\n",
              "    }\n",
              "</style>\n",
              "<table border=\"1\" class=\"dataframe\">\n",
              "  <thead>\n",
              "    <tr style=\"text-align: right;\">\n",
              "      <th></th>\n",
              "      <th>abbrv</th>\n",
              "      <th>end_year</th>\n",
              "      <th>start_year</th>\n",
              "      <th>station</th>\n",
              "      <th>url</th>\n",
              "      <th>latitude</th>\n",
              "      <th>longitude</th>\n",
              "      <th>decimal_lat</th>\n",
              "      <th>decimal_long</th>\n",
              "      <th>geometry</th>\n",
              "    </tr>\n",
              "  </thead>\n",
              "  <tbody>\n",
              "    <tr>\n",
              "      <th>403</th>\n",
              "      <td>ACT</td>\n",
              "      <td>2019</td>\n",
              "      <td>1995</td>\n",
              "      <td>Acton</td>\n",
              "      <td>/cgi-bin/rawMAIN.pl?caCACT</td>\n",
              "      <td>34° 26' 45.00\"N</td>\n",
              "      <td>118° 12' 00.00\"W</td>\n",
              "      <td>34.445833</td>\n",
              "      <td>-118.200000</td>\n",
              "      <td>POINT (-118.20000 34.44583)</td>\n",
              "    </tr>\n",
              "    <tr>\n",
              "      <th>329</th>\n",
              "      <td>ALC</td>\n",
              "      <td>2019</td>\n",
              "      <td>2017</td>\n",
              "      <td>Alcalde</td>\n",
              "      <td>/cgi-bin/rawMAIN.pl?caCALC</td>\n",
              "      <td>36° 11' 00.00\"N</td>\n",
              "      <td>120° 29' 55.00\"W</td>\n",
              "      <td>36.183333</td>\n",
              "      <td>-120.498611</td>\n",
              "      <td>POINT (-120.49861 36.18333)</td>\n",
              "    </tr>\n",
              "    <tr>\n",
              "      <th>406</th>\n",
              "      <td>ALC</td>\n",
              "      <td>2019</td>\n",
              "      <td>2017</td>\n",
              "      <td>Alcalde</td>\n",
              "      <td>/cgi-bin/rawMAIN.pl?caCALC</td>\n",
              "      <td>36° 11' 00.00\"N</td>\n",
              "      <td>120° 29' 55.00\"W</td>\n",
              "      <td>36.183333</td>\n",
              "      <td>-120.498611</td>\n",
              "      <td>POINT (-120.49861 36.18333)</td>\n",
              "    </tr>\n",
              "    <tr>\n",
              "      <th>2</th>\n",
              "      <td>APT</td>\n",
              "      <td>2019</td>\n",
              "      <td>1991</td>\n",
              "      <td>Alder Point</td>\n",
              "      <td>/cgi-bin/rawMAIN.pl?caCAPT</td>\n",
              "      <td>40° 11' 12.00\"N</td>\n",
              "      <td>123° 35' 25.00\"W</td>\n",
              "      <td>40.186667</td>\n",
              "      <td>-123.590278</td>\n",
              "      <td>POINT (-123.59028 40.18667)</td>\n",
              "    </tr>\n",
              "    <tr>\n",
              "      <th>191</th>\n",
              "      <td>ALD</td>\n",
              "      <td>2019</td>\n",
              "      <td>1994</td>\n",
              "      <td>Alder Springs</td>\n",
              "      <td>/cgi-bin/rawMAIN.pl?caCALD</td>\n",
              "      <td>39° 39' 05.00\"N</td>\n",
              "      <td>122° 43' 25.00\"W</td>\n",
              "      <td>39.651389</td>\n",
              "      <td>-122.723611</td>\n",
              "      <td>POINT (-122.72361 39.65139)</td>\n",
              "    </tr>\n",
              "    <tr>\n",
              "      <th>...</th>\n",
              "      <td>...</td>\n",
              "      <td>...</td>\n",
              "      <td>...</td>\n",
              "      <td>...</td>\n",
              "      <td>...</td>\n",
              "      <td>...</td>\n",
              "      <td>...</td>\n",
              "      <td>...</td>\n",
              "      <td>...</td>\n",
              "      <td>...</td>\n",
              "    </tr>\n",
              "    <tr>\n",
              "      <th>397</th>\n",
              "      <td>WDY</td>\n",
              "      <td>2019</td>\n",
              "      <td>2010</td>\n",
              "      <td>Woody</td>\n",
              "      <td>/cgi-bin/rawMAIN.pl?caCWDY</td>\n",
              "      <td>35° 42' 22.00\"N</td>\n",
              "      <td>118° 49' 57.00\"W</td>\n",
              "      <td>35.706111</td>\n",
              "      <td>-118.832500</td>\n",
              "      <td>POINT (-118.83250 35.70611)</td>\n",
              "    </tr>\n",
              "    <tr>\n",
              "      <th>628</th>\n",
              "      <td>WDY</td>\n",
              "      <td>2019</td>\n",
              "      <td>2010</td>\n",
              "      <td>Woody</td>\n",
              "      <td>/cgi-bin/rawMAIN.pl?caCWDY</td>\n",
              "      <td>35° 42' 22.00\"N</td>\n",
              "      <td>118° 49' 57.00\"W</td>\n",
              "      <td>35.706111</td>\n",
              "      <td>-118.832500</td>\n",
              "      <td>POINT (-118.83250 35.70611)</td>\n",
              "    </tr>\n",
              "    <tr>\n",
              "      <th>188</th>\n",
              "      <td>YOL</td>\n",
              "      <td>2019</td>\n",
              "      <td>1990</td>\n",
              "      <td>Yolla Bolla</td>\n",
              "      <td>/cgi-bin/rawMAIN.pl?caCYOL</td>\n",
              "      <td>40° 20' 18.00\"N</td>\n",
              "      <td>123° 03' 54.00\"W</td>\n",
              "      <td>40.338333</td>\n",
              "      <td>-123.065000</td>\n",
              "      <td>POINT (-123.06500 40.33833)</td>\n",
              "    </tr>\n",
              "    <tr>\n",
              "      <th>637</th>\n",
              "      <td>YUC</td>\n",
              "      <td>2019</td>\n",
              "      <td>1990</td>\n",
              "      <td>Yucca Valley</td>\n",
              "      <td>/cgi-bin/rawMAIN.pl?caCYUC</td>\n",
              "      <td>34° 07' 24.00\"N</td>\n",
              "      <td>116° 24' 28.00\"W</td>\n",
              "      <td>34.123333</td>\n",
              "      <td>-116.407778</td>\n",
              "      <td>POINT (-116.40778 34.12333)</td>\n",
              "    </tr>\n",
              "    <tr>\n",
              "      <th>189</th>\n",
              "      <td>YUR</td>\n",
              "      <td>2019</td>\n",
              "      <td>2002</td>\n",
              "      <td>Yurok</td>\n",
              "      <td>/cgi-bin/rawMAIN.pl?caCYUR</td>\n",
              "      <td>41° 17' 23.00\"N</td>\n",
              "      <td>123° 51' 27.00\"W</td>\n",
              "      <td>41.289722</td>\n",
              "      <td>-123.857500</td>\n",
              "      <td>POINT (-123.85750 41.28972)</td>\n",
              "    </tr>\n",
              "  </tbody>\n",
              "</table>\n",
              "<p>638 rows × 10 columns</p>\n",
              "</div>"
            ],
            "text/plain": [
              "    abbrv  end_year  ...  decimal_long                     geometry\n",
              "403   ACT      2019  ...   -118.200000  POINT (-118.20000 34.44583)\n",
              "329   ALC      2019  ...   -120.498611  POINT (-120.49861 36.18333)\n",
              "406   ALC      2019  ...   -120.498611  POINT (-120.49861 36.18333)\n",
              "2     APT      2019  ...   -123.590278  POINT (-123.59028 40.18667)\n",
              "191   ALD      2019  ...   -122.723611  POINT (-122.72361 39.65139)\n",
              "..    ...       ...  ...           ...                          ...\n",
              "397   WDY      2019  ...   -118.832500  POINT (-118.83250 35.70611)\n",
              "628   WDY      2019  ...   -118.832500  POINT (-118.83250 35.70611)\n",
              "188   YOL      2019  ...   -123.065000  POINT (-123.06500 40.33833)\n",
              "637   YUC      2019  ...   -116.407778  POINT (-116.40778 34.12333)\n",
              "189   YUR      2019  ...   -123.857500  POINT (-123.85750 41.28972)\n",
              "\n",
              "[638 rows x 10 columns]"
            ]
          },
          "metadata": {
            "tags": []
          },
          "execution_count": 7
        }
      ]
    },
    {
      "cell_type": "code",
      "metadata": {
        "id": "65nmUjVUY5BG",
        "colab_type": "code",
        "colab": {}
      },
      "source": [
        "fr_per = lstFiles(f'data/Merged_Daily_DIFF', '.shp')\n",
        "fr_per\n",
        "\n",
        "fire_list = []\n",
        "year_list = []\n",
        "\n",
        "for pth in fr_per:\n",
        "  nm = os.path.basename(pth)\n",
        "  nm = nm.split('_')\n",
        "  fr = nm[0]\n",
        "  yr = nm[1]\n",
        "  fire_list.append(fr)\n",
        "  year_list.append(yr)"
      ],
      "execution_count": null,
      "outputs": []
    },
    {
      "cell_type": "code",
      "metadata": {
        "id": "ToPNo4_5ZxHO",
        "colab_type": "code",
        "colab": {
          "base_uri": "https://localhost:8080/",
          "height": 34
        },
        "outputId": "e72900f2-f578-4a00-b061-51d50fc7d9cb"
      },
      "source": [
        "len(list(zip(fire_list, year_list)))"
      ],
      "execution_count": null,
      "outputs": [
        {
          "output_type": "execute_result",
          "data": {
            "text/plain": [
              "720"
            ]
          },
          "metadata": {
            "tags": []
          },
          "execution_count": 66
        }
      ]
    },
    {
      "cell_type": "code",
      "metadata": {
        "id": "lXWcQmhWrROi",
        "colab_type": "code",
        "colab": {}
      },
      "source": [
        "def getPerimeter(fire_nm, year):\n",
        "  per_gdf = gpd.read_file(f'data/Merged_Daily_DIFF/{year}/{fire_nm}_{year}_MergedDIFF.shp')\n",
        "  return(per_gdf)\n",
        "\n",
        "def getNearestStation(fire_nm, year, raws_gdf):\n",
        "  per_gdf = getPerimeter(fire_nm, year)\n",
        "  per_gdf = per_gdf.to_crs(raws_gdf.crs)\n",
        "  per_gdf['geometry'] = per_gdf.buffer(0.1)\n",
        "  res_intersection = gpd.overlay(raws_gdf, per_gdf, how='intersection', keep_geom_type=True)\n",
        "  return res_intersection['station'].unique().tolist()\n",
        "\n",
        "def getStationInfo(fire_nm, year, raws_gdf):\n",
        "  station_list = getNearestStation(fire_nm, year, raws_gdf)\n",
        "  raws_df = geo_df[geo_df['station'].isin(station_list)].drop_duplicates()\n",
        "  df = getPerimeter(fire_nm, year)\n",
        "  \n",
        "  raws_df['Fire_Start_Date'] = df['Date'].min()\n",
        "  raws_df['Fire_End_Date'] = df['Date'].max()\n",
        "\n",
        "  raws_df['Fire_Start_Date'] =  pd.to_datetime(raws_df['Fire_Start_Date'], format='%Y-%m-%d')\n",
        "  raws_df['Fire_End_Date'] =  pd.to_datetime(raws_df['Fire_End_Date'], format='%Y-%m-%d')\n",
        "\n",
        "  raws_df['Fire'] = fire_nm\n",
        "\n",
        "  return raws_df"
      ],
      "execution_count": 21,
      "outputs": []
    },
    {
      "cell_type": "markdown",
      "metadata": {
        "id": "TJO9roW835__",
        "colab_type": "text"
      },
      "source": [
        "## Download RAWS Hourly Data as CSV"
      ]
    },
    {
      "cell_type": "code",
      "metadata": {
        "id": "V1s5KgwpANEi",
        "colab_type": "code",
        "colab": {}
      },
      "source": [
        "import csv\n",
        "import requests\n",
        "from bs4 import BeautifulSoup"
      ],
      "execution_count": null,
      "outputs": []
    },
    {
      "cell_type": "code",
      "metadata": {
        "id": "6PV2hotnATY_",
        "colab_type": "code",
        "colab": {}
      },
      "source": [
        "def scrape_data(url, fname, dt, station_name):\n",
        "    response = requests.get(url, timeout=10)\n",
        "    soup = BeautifulSoup(response.content, 'html.parser')\n",
        "    table_rows = soup.find_all(\"tr\",attrs={\"class\": \"data\"})\n",
        "\n",
        "    data_val = []\n",
        "    for dta in table_rows[:-4]: \n",
        "      td = dta.find_all('td')\n",
        "      row = [i.text.replace('\\n', ' ').strip() for i in td]\n",
        "      row_witout_empty = list(filter(lambda x: x != '', row))\n",
        "      \n",
        "      data_val.append(row_witout_empty)\n",
        "\n",
        "    \n",
        "    row_head = ['Hour', 'Total_Solar_Rad', 'Wind_Avg_mph', 'Wind_Dir_Deg', \n",
        "                'Wind_Max_mph', 'Air_Temp_Avg', 'Fuel_Temp_Avg', 'Fuel_Moist_Per',\n",
        "                'Rel_Hum_Per', 'Dew_Point_Deg', 'Wet_Bulb', 'Total_Precip']\n",
        "    if len(row) != 0: \n",
        "      f_out = createFolder('data/RAWS_CSV', fname)\n",
        "      with open(os.path.join(f_out, f'{fname}_{dt}_{station_name.strip()}.csv'), 'w') as csv_file:\n",
        "          writer = csv.writer(csv_file)\n",
        "          writer.writerow(row_head)\n",
        "          for row in data_val:\n",
        "              writer.writerow(row)"
      ],
      "execution_count": null,
      "outputs": []
    },
    {
      "cell_type": "code",
      "metadata": {
        "id": "BzylPPHB5P8c",
        "colab_type": "code",
        "colab": {}
      },
      "source": [
        "import datetime\n",
        "from datetime import date\n",
        "\n",
        "def retrieveRAWS_saveIntoCSV(fire_nm, fire_yr, geo_df):\n",
        "  df = getStationInfo(fire_nm, fire_yr, geo_df)\n",
        "  for index, rows in df.iterrows(): \n",
        "    # grab fire, weather station name, url \n",
        "    sta_name = rows.station \n",
        "    start_date = rows.Fire_Start_Date - datetime.timedelta(days=2)\n",
        "    end_date = rows.Fire_End_Date\n",
        "    delta = end_date - start_date\n",
        "\n",
        "    # get range of dates\n",
        "    date_list = [end_date - datetime.timedelta(days=x) for x in range(delta.days)]\n",
        "\n",
        "    for dy in date_list: \n",
        "      if rows.end_year >= dy.year:\n",
        "        # plug into url \n",
        "        dy_str = str(dy.day)\n",
        "        mth_str = str(dy.month).zfill(2)\n",
        "        yr_str = str(dy.year)\n",
        "        print(dy_str, mth_str, yr_str)\n",
        "        url = f'https://raws.dri.edu/cgi-bin/wea_daysum2.pl?stn=c{rows.abbrv.lower()}&day={dy_str}&mon={mth_str}&yea={yr_str[-2:]}&unit=E'\n",
        "        print(url)\n",
        "        \n",
        "        # web scrap \n",
        "        dt = yr_str + mth_str + dy_str\n",
        "        scrape_data(url, rows.Fire, dt, rows.station)"
      ],
      "execution_count": null,
      "outputs": []
    },
    {
      "cell_type": "code",
      "metadata": {
        "id": "ZDmb5nx6aTec",
        "colab_type": "code",
        "colab": {}
      },
      "source": [
        "for fire_nm, fire_yr in list(zip(fire_list, year_list))[635:]:\n",
        "  print(fire_nm, fire_yr)\n",
        "  try: \n",
        "    retrieveRAWS_saveIntoCSV(fire_nm, fire_yr, geo_df)\n",
        "  except: \n",
        "    print('error', fire_nm, fire_yr)\n",
        "    continue"
      ],
      "execution_count": null,
      "outputs": []
    },
    {
      "cell_type": "markdown",
      "metadata": {
        "id": "S0OqRHhgdFaT",
        "colab_type": "text"
      },
      "source": [
        "### Clean up CSV"
      ]
    },
    {
      "cell_type": "code",
      "metadata": {
        "id": "FJunKS8ibl2g",
        "colab_type": "code",
        "colab": {}
      },
      "source": [
        "# add fire name, date, datetime, station name\n",
        "csv_list = lstFiles('data/RAWS_CSV', '.csv')\n",
        "\n",
        "def cleanCSV(csv_list):\n",
        "  for csv in csv_list: \n",
        "    try: \n",
        "      nm = os.path.basename(csv)\n",
        "      fr_nm = nm.split('_')[0]\n",
        "      dt = nm.split('_')[1]\n",
        "      st_nm = nm.split('_')[2][:-4]\n",
        "\n",
        "      df = pd.read_csv(csv)\n",
        "      df['Fire'] = fr_nm\n",
        "      df['Date'] = dt\n",
        "\n",
        "      df['Datetime'] = df['Date'].str.cat(df['Hour'],sep=\" \")  \n",
        "      df['Datetime'] =  pd.to_datetime(df['Datetime'], format='%Y%m%d %I %p')\n",
        "\n",
        "      df['station'] = st_nm\n",
        "\n",
        "      df.iloc[-1, df.columns.get_loc('Datetime')] = df.iloc[-1, df.columns.get_loc('Datetime')] + datetime.timedelta(days=1) \n",
        "\n",
        "      df.to_csv(csv)\n",
        "      print(csv)\n",
        "    except: \n",
        "      print('error', csv)\n",
        "      continue"
      ],
      "execution_count": null,
      "outputs": []
    },
    {
      "cell_type": "code",
      "metadata": {
        "id": "39DJHUedzDP7",
        "colab_type": "code",
        "colab": {}
      },
      "source": [
        "cleanCSV(csv_list)"
      ],
      "execution_count": null,
      "outputs": []
    },
    {
      "cell_type": "markdown",
      "metadata": {
        "id": "V9UgUHzTknjR",
        "colab_type": "text"
      },
      "source": [
        "### Combine CSVS "
      ]
    },
    {
      "cell_type": "code",
      "metadata": {
        "id": "t9fwpt_ikosD",
        "colab_type": "code",
        "colab": {}
      },
      "source": [
        "raws_df = raws_info[['station', 'decimal_lat',\t'decimal_long',\t'geometry']]\n",
        "raws_df = raws_df.applymap(lambda x: x.strip() if type(x)==str else x)\n",
        "\n",
        "def combineCSV_byFire(fire_nm, fire_yr):\n",
        "  csv_list = lstFiles(f'data/RAWS_CSV/{fire_nm}', '.csv')\n",
        "\n",
        "  if len(csv_list) != 0:\n",
        "    #combine all files in the list\n",
        "    combined_csv = pd.concat([pd.read_csv(f, index_col=None) for f in csv_list])\n",
        "    combined_csv = combined_csv.drop(columns=['Unnamed: 0'])\n",
        "    #export to csv\n",
        "    final_df = pd.merge(combined_csv, raws_df, how='left', on='station')\n",
        "    final_df.to_csv( f\"data/Final_CSV/{fire_nm}_{fire_yr}_RAWS.csv\", index=False)\n"
      ],
      "execution_count": null,
      "outputs": []
    },
    {
      "cell_type": "code",
      "metadata": {
        "id": "gl47tSs_byzL",
        "colab_type": "code",
        "colab": {}
      },
      "source": [
        "for fire_nm, fire_yr in list(zip(fire_list, year_list)):\n",
        "  print(fire_nm, fire_yr)\n",
        "  try: \n",
        "    combineCSV_byFire(fire_nm, fire_yr)\n",
        "  except: \n",
        "    print('error', fire_nm, fire_yr)\n",
        "    continue"
      ],
      "execution_count": null,
      "outputs": []
    },
    {
      "cell_type": "markdown",
      "metadata": {
        "id": "2pBWdHPe1Fsh",
        "colab_type": "text"
      },
      "source": [
        "## Get derived perimeter info"
      ]
    },
    {
      "cell_type": "code",
      "metadata": {
        "id": "tMfK1nxe1IkG",
        "colab_type": "code",
        "colab": {}
      },
      "source": [
        "fl_path = '/content/drive/My Drive/FireDrivers_Paper/FinalCSV_Info'\n",
        "\n",
        "def getDerivedDF(fl_path):\n",
        "  derived_df = pd.read_csv(os.path.join(fl_path, 'FireInfoVar_Final.csv'), index_col=None)\n",
        "  derived_df['YearJD'] = derived_df['Year'].astype('str').str.cat(derived_df['JulianDay'].astype('str'),sep=\"\")  \n",
        "  derived_df['Date'] = pd.to_datetime(derived_df['YearJD'], format= '%Y%j')\n",
        "  derived_df['Date'] =  derived_df['Date'].apply(lambda x: x.strftime('%Y-%m-%d'))\n",
        "  derived_df['Datetime'] = derived_df['Date'] + ' 23:00:00'\n",
        "  derived_df['Area (ha)'] = derived_df['Area (ha)'] / 1000 \n",
        "  return derived_df"
      ],
      "execution_count": 476,
      "outputs": []
    },
    {
      "cell_type": "markdown",
      "metadata": {
        "id": "UYFYhUcfeA_I",
        "colab_type": "text"
      },
      "source": [
        "### Visualize Time-series"
      ]
    },
    {
      "cell_type": "markdown",
      "metadata": {
        "id": "7GLOSKlfqF3Q",
        "colab_type": "text"
      },
      "source": [
        "Take Daily Average i.e. Values During DayTime 6am to 6pm "
      ]
    },
    {
      "cell_type": "code",
      "metadata": {
        "id": "3KAxfP0cujEP",
        "colab_type": "code",
        "colab": {}
      },
      "source": [
        "import math\n",
        "def calculateVPD(Temp_val, RH_val):\n",
        "  VP_sat = 0.61078 * math.exp((Temp_val * 17.2694) / (Temp_val + 238.3))\n",
        "  VP_air = (VP_sat * RH_val) / 100 \n",
        "  VPD = VP_sat - VP_air \n",
        "  return VPD"
      ],
      "execution_count": 340,
      "outputs": []
    },
    {
      "cell_type": "code",
      "metadata": {
        "id": "Ntc68FTqwicf",
        "colab_type": "code",
        "colab": {}
      },
      "source": [
        "def convertTemp_FtoC(Temp_val):\n",
        "  C_TEMP = ((Temp_val - 32) * 5 ) / 9 \n",
        "  return C_TEMP"
      ],
      "execution_count": 341,
      "outputs": []
    },
    {
      "cell_type": "code",
      "metadata": {
        "id": "C6Xm6K1pefI4",
        "colab_type": "code",
        "colab": {}
      },
      "source": [
        "night_list = ['7 pm', '8 pm', '9 pm', '10 pm','11 pm', '12 am','1 am', '2 am','3 am', '4 am', '5 am']\n",
        "day_list = ['6 am', '7 am', '8 am', '9 am', '10 am','11 am', '12 pm','1 pm', '2 pm','3 pm', '4 pm', '5 pm', '6 pm']\n",
        "\n",
        "def getDailyRAWS(fire_nm, fire_yr):\n",
        "  rim_df = pd.read_csv(f\"data/Final_CSV/{fire_nm}_{fire_yr}_RAWS.csv\")\n",
        "  \n",
        "  criteria = [rim_df['Hour'].isin(day_list), rim_df['Hour'].isin(night_list)]\n",
        "  values = ['Day', 'Night']\n",
        "  rim_df['Day_Night']  = np.select(criteria, values, 0)\n",
        "  day_raws_df = rim_df.groupby(by=['Day_Night', 'Date', 'Fire']).agg({'Total_Solar_Rad': 'mean', \n",
        "                                                                    'Wind_Avg_mph': 'mean',\n",
        "                                                                    'Wind_Dir_Deg': 'mean',\n",
        "                                                                    'Wind_Max_mph': ['mean', 'max'],\n",
        "                                                                    'Air_Temp_Avg': ['mean', 'max'],\n",
        "                                                                    'Fuel_Temp_Avg': 'mean',\n",
        "                                                                    'Fuel_Moist_Per': 'mean',\n",
        "                                                                    'Rel_Hum_Per': 'mean',\n",
        "                                                                    'Dew_Point_Deg': 'mean',\n",
        "                                                                    'Wet_Bulb': 'mean',\n",
        "                                                                    'Total_Precip': 'mean'}).reset_index()\n",
        "  day_raws_df.columns = ['Day_Night', 'Date', 'Fire', 'Total_Solar_Rad', 'Wind_Avg_mph',\n",
        "       'Wind_Dir_Deg', 'Wind_Max_Avg', 'Wind_Max_mph', 'Air_Temp_Avg', 'Air_Temp_Max',\n",
        "       'Fuel_Temp_Avg', 'Fuel_Moist_Per', 'Rel_Hum_Per', 'Dew_Point_Deg',\n",
        "       'Wet_Bulb', 'Total_Precip']\n",
        "\n",
        "  day_raws_df['Air_Temp_Celcius'] = convertTemp_FtoC(day_raws_df['Air_Temp_Avg'])\n",
        "  day_raws_df['Air_Temp_Max_Celcius'] = convertTemp_FtoC(day_raws_df['Air_Temp_Max'])\n",
        "  day_raws_df['VPD'] = day_raws_df.apply(lambda x: calculateVPD(x['Air_Temp_Celcius'],x['Rel_Hum_Per']),axis=1)\n",
        "  day_raws_df = day_raws_df[day_raws_df['Day_Night'] == 'Day']\n",
        "  day_raws_df['Date'] = day_raws_df['Date'].astype('str')\n",
        "  day_raws_df['Date'] = pd.to_datetime(day_raws_df['Date'], format= '%Y%m%d')\n",
        "  day_raws_df['Date'] =  day_raws_df['Date'].apply(lambda x: x.strftime('%Y-%m-%d'))\n",
        "  return day_raws_df"
      ],
      "execution_count": 374,
      "outputs": []
    },
    {
      "cell_type": "markdown",
      "metadata": {
        "id": "EfP-QgJbqXjQ",
        "colab_type": "text"
      },
      "source": [
        "### Merge RAWS Daily w/ Fire Perimeter "
      ]
    },
    {
      "cell_type": "code",
      "metadata": {
        "id": "KpS37cmVjmC6",
        "colab_type": "code",
        "colab": {}
      },
      "source": [
        "# add datetime, round down time \n",
        "# merge hectare with datetime as new column \n",
        "fire_nm = 'Woolsey'\n",
        "fire_yr = '2018'\n",
        "\n",
        "# RAWS \n",
        "day_raws_df = getDailyRAWS(fire_nm, fire_yr)\n",
        "\n",
        "# PERIMETER\n",
        "fire_df = getPerimeter(fire_nm, fire_yr)\n",
        "\n",
        "# DERIVED\n",
        "derived_df = getDerivedDF(fl_path)\n",
        "derived_df = derived_df[derived_df['FireName'] == fire_nm]"
      ],
      "execution_count": 652,
      "outputs": []
    },
    {
      "cell_type": "code",
      "metadata": {
        "id": "sjZa2X50DQuy",
        "colab_type": "code",
        "colab": {}
      },
      "source": [
        "derived_df = derived_df[['JulianDay', 'Date', 'Datetime', 'Area (ha)', 'DIR_WA', 'DIR_MaxDist', 'DIST_MEDSTD',\n",
        "       'Magnitude (upperQ)', 'Magnitude (median)', 'FireName', 'Year',\n",
        "       'NA_L3NAME', 'NA_L2NAME', 'ecoID', 'CONIFER', 'CONIFER_HA',\n",
        "       'EXOTIC_HER', 'GRASSLAND', 'HARDWOOD', 'RIPARIAN', 'SHRUBLAND',\n",
        "       'SPARSELY_V', 'URBAN', 'BARREN', 'DEVELOPED', 'AGRICULTURE',\n",
        "       'deadfuelmoisture1000hr', 'minimumrelativehumidity','windfromdirection', 'windspeed',\n",
        "       'meanvaporpressuredeficit']]"
      ],
      "execution_count": 653,
      "outputs": []
    },
    {
      "cell_type": "code",
      "metadata": {
        "id": "CpaxCt10m52m",
        "colab_type": "code",
        "colab": {}
      },
      "source": [
        "fire_df['Time'] = fire_df['Time'].astype('str').str.zfill(4)\n",
        "fire_df['Time'] = fire_df['Time'] .map(lambda x: str(x)[:2] + ':00:00')\n",
        "fire_df = fire_df.replace({'Time': '24:00:00'}, '23:00:00')\n",
        "fire_df['Datetime'] = fire_df['Date'].str.cat(fire_df['Time'],sep=\" \")  \n",
        "fire_df['Datetime'] =  pd.to_datetime(fire_df['Datetime'] , format='%Y-%m-%d %H:%M:%S')"
      ],
      "execution_count": 654,
      "outputs": []
    },
    {
      "cell_type": "code",
      "metadata": {
        "id": "KDCOl-zm4l0E",
        "colab_type": "code",
        "colab": {}
      },
      "source": [
        "# day_raws_df['Datetime']=  pd.to_datetime(day_raws_df['Datetime'], format='%Y-%m-%d %H:%M:%S')\n",
        "\n",
        "# fire_df['Datetime'] =  fire_df['Datetime'].apply(lambda x: x.strftime('%Y-%m-%d %H:%M:%S'))\n",
        "# fire_df['Date'] =  fire_df['Date'].apply(lambda x: x.strftime('%Y-%m-%d'))\n",
        "# derived_df['Date'] =  derived_df['Date'].apply(lambda x: x.strftime('%Y-%m-%d'))\n",
        "\n",
        "merged_rim_df = pd.merge(day_raws_df, fire_df, how='left', on='Date')\n",
        "merged_rim_df = pd.merge(merged_rim_df, derived_df, how='left', on='Date')"
      ],
      "execution_count": 655,
      "outputs": []
    },
    {
      "cell_type": "code",
      "metadata": {
        "id": "jiho7Sov4le7",
        "colab_type": "code",
        "colab": {}
      },
      "source": [
        "merged_rim_df['Date']=  pd.to_datetime(merged_rim_df['Date'], format='%Y-%m-%d')\n",
        "merged_rim_df['Interagency (ha)'] = merged_rim_df['Hectare'] / 1000 "
      ],
      "execution_count": 656,
      "outputs": []
    },
    {
      "cell_type": "code",
      "metadata": {
        "id": "LMuL5E4Z51Ov",
        "colab_type": "code",
        "colab": {}
      },
      "source": [
        "merged_rim_df = merged_rim_df.rename(columns={ 'VPD': 'Vapor Pressure Deficit (kPa)',\n",
        "                                              'windspeed': 'GRID Wind Velocity (mph)', \n",
        "                                              'Magnitude (upperQ)' : 'Magnitude (km)',\n",
        "                                              'Area (ha)': 'Area Burned (ha)',\n",
        "                                              'Wind_Avg_mph': 'RAWS Wind Velocity (mph)',\n",
        "                                              'Air_Temp_Max_Celcius' : 'Max Air Temp (C)',\n",
        "                                              'Wind_Max_mph': 'Max Wind Velocity (mph)'                                             \n",
        "                                              })"
      ],
      "execution_count": 657,
      "outputs": []
    },
    {
      "cell_type": "markdown",
      "metadata": {
        "id": "8kJOJbvQqccF",
        "colab_type": "text"
      },
      "source": [
        "### Plot Wind"
      ]
    },
    {
      "cell_type": "code",
      "metadata": {
        "id": "9MmFxHZ1zML7",
        "colab_type": "code",
        "colab": {}
      },
      "source": [
        "wind_df_plot = merged_rim_df[[\n",
        " 'Date',\n",
        " 'GRID Wind Velocity (mph)',\n",
        " 'RAWS Wind Velocity (mph)'\n",
        " ]]\n",
        "\n",
        "wind_df_plot = wind_df_plot.set_index('Date')\n",
        "wind_df_plot = wind_df_plot.sort_index()\n",
        "\n",
        "area_df_plot = merged_rim_df[[\n",
        " 'Date',\n",
        " 'Interagency (ha)',\n",
        " 'Area Burned (ha)',\n",
        " 'Magnitude (km)'\n",
        " ]]\n",
        "area_df_plot = area_df_plot.set_index('Date')\n",
        "area_df_plot = area_df_plot.sort_index()\n",
        "\n",
        "\n",
        "weather_df_plot = merged_rim_df[[\n",
        " 'Date',\n",
        " 'Vapor Pressure Deficit (kPa)'\n",
        " ]]\n",
        "\n",
        "weather_df_plot = weather_df_plot.set_index('Date')\n",
        "weather_df_plot = weather_df_plot.sort_index()\n",
        "\n",
        "\n",
        "maxWeather_df_plot = merged_rim_df[[\n",
        " 'Date',\n",
        " 'Max Air Temp (C)',\n",
        " 'Max Wind Velocity (mph)'\n",
        " ]]\n",
        "\n",
        "\n",
        "maxWeather_df_plot = maxWeather_df_plot.set_index('Date')\n",
        "maxWeather_df_plot = maxWeather_df_plot.sort_index()"
      ],
      "execution_count": 636,
      "outputs": []
    },
    {
      "cell_type": "code",
      "metadata": {
        "id": "sICX2wmp1397",
        "colab_type": "code",
        "colab": {
          "base_uri": "https://localhost:8080/",
          "height": 420
        },
        "outputId": "1132ce0d-3319-4191-aa0a-725e5df1cfc0"
      },
      "source": [
        "import seaborn as sns\n",
        "sns.set_style('whitegrid', {'legend.frameon':True, 'framealpha':1})\n",
        "sns.despine(offset=10, trim=True);\n",
        "\n",
        "plot_options = {'labelrotation':15}\n",
        "\n",
        "r_color = 'tab:red' # Area, Magnitude\n",
        "g_color = 'tab:green' # Wind \n",
        "o_color = 'tab:orange' # Weather \n",
        "\n",
        "fig, ax1 = plt.subplots(figsize=(10,6))\n",
        "\n",
        "ax1.set_ylabel('Fire Spread', fontsize=16, color=r_color)\n",
        "ax1 = sns.lineplot(data = area_df_plot, markers=True, palette='Reds_r', linewidth = 2)\n",
        "ax1.tick_params(axis='y', color=r_color)\n",
        "ax1.tick_params(axis='x', **plot_options)\n",
        "\n",
        "ax2 = ax1.twinx()\n",
        "ax2.set_ylabel('Weather', fontsize=16, color=g_color)\n",
        "ax2 = sns.lineplot(data = wind_df_plot, palette='icefire_r')\n",
        "ax2 = sns.scatterplot(data = maxWeather_df_plot, \n",
        "                      palette='brg_r', \n",
        "                      markers=['+', 4],\n",
        "                      s=50)\n",
        "\n",
        "ax3 = ax1.twinx()\n",
        "ax3 = sns.lineplot(data = weather_df_plot, palette='Greys_r')\n",
        "ax3.tick_params(axis='y', color=g_color)\n",
        "\n",
        "lines, labels = ax1.get_legend_handles_labels()\n",
        "lines2, labels2 = ax2.get_legend_handles_labels()\n",
        "lines3, labels3 = ax3.get_legend_handles_labels()\n",
        "\n",
        "ax3.legend(lines + lines2 + lines3, labels + labels2 + labels3, loc='upper right', framealpha=1)\n",
        "\n",
        "\n",
        "fig.savefig(f'Figures/{fire_nm}_{fire_yr}_Wind_RAWSPlot.tif', dpi=400)\n",
        "fig.savefig(f'Figures/{fire_nm}_{fire_yr}_Wind_RAWSPlot.png', dpi=400)"
      ],
      "execution_count": 637,
      "outputs": [
        {
          "output_type": "display_data",
          "data": {
            "text/plain": [
              "<Figure size 432x288 with 0 Axes>"
            ]
          },
          "metadata": {
            "tags": []
          }
        },
        {
          "output_type": "display_data",
          "data": {
            "image/png": "[encoded data removed]",
            "text/plain": [
              "<Figure size 720x432 with 3 Axes>"
            ]
          },
          "metadata": {
            "tags": []
          }
        }
      ]
    },
    {
      "cell_type": "markdown",
      "metadata": {
        "id": "r4dBJKZs1DK7",
        "colab_type": "text"
      },
      "source": [
        "### Daily Fuel"
      ]
    },
    {
      "cell_type": "code",
      "metadata": {
        "id": "cssnPMsp1C2Q",
        "colab_type": "code",
        "colab": {}
      },
      "source": [
        "fire_nm = 'Rim'\n",
        "fire_yr = '2013'\n",
        "derived_df = getDerivedDF(fl_path)\n",
        "derived_df_fr = derived_df[derived_df['FireName'] == fire_nm]\n",
        "\n",
        "fuel_df_plot = derived_df_fr[[\n",
        " 'Date',\n",
        " 'CONIFER', 'CONIFER_HA', 'EXOTIC_HER', 'GRASSLAND', 'HARDWOOD',\n",
        " 'RIPARIAN', 'SHRUBLAND', 'SPARSELY_V', 'URBAN', 'BARREN', 'DEVELOPED',\n",
        " 'AGRICULTURE']]\n",
        "\n",
        "fuel_df_plot = fuel_df_plot.set_index('Date').fillna(0)\n",
        "fuel_df_plot = fuel_df_plot.sort_index()\n",
        "\n",
        "\n",
        "area_df_plot = derived_df_fr[[\n",
        " 'Date',\n",
        " 'Area (ha)',\n",
        " 'Magnitude (upperQ)', \n",
        " 'Magnitude (median)'\n",
        " ]]\n",
        "\n",
        "area_df_plot = area_df_plot.set_index('Date')\n",
        "area_df_plot = area_df_plot.sort_index()"
      ],
      "execution_count": 669,
      "outputs": []
    },
    {
      "cell_type": "code",
      "metadata": {
        "id": "124XpRaAA5uC",
        "colab_type": "code",
        "colab": {
          "base_uri": "https://localhost:8080/",
          "height": 297
        },
        "outputId": "08610382-ea1b-427e-fd2e-70224f7c389a"
      },
      "source": [
        "#fig, ax1 = plt.subplots(figsize=(10,6))\n",
        "plot_options = {'labelrotation':15}\n",
        "sns.set_style('whitegrid')\n",
        "\n",
        "\n",
        "color = 'tab:green'\n",
        "ax1.set_xlabel('Month', fontsize=16)\n",
        "ax1.set_ylabel('Fuel (%) ', fontsize=16, color=color)\n",
        "ax1 = fuel_df_plot.plot(kind='bar',stacked=True,legend=False, cmap='twilight_shifted', alpha=0.5)\n",
        "ax1.tick_params(axis='y', color=color)\n",
        "ax1.tick_params(axis='x', **plot_options)\n",
        "\n",
        "\n",
        "ax2 = ax1.twinx()\n",
        "color = 'tab:red'\n",
        "#ax2.set_ylabel('Fire Spread', fontsize=16, color=color)\n",
        "ax2 = sns.lineplot(data = area_df_plot, markers=True, legend=False, palette='Reds_r', linewidth = 2)\n",
        "ax2.tick_params(axis='y', color=color)\n",
        "\n",
        "# lines, labels = ax1.get_legend_handles_labels()\n",
        "# lines2, labels2 = ax2.get_legend_handles_labels()\n",
        "# ax2.legend(lines + lines2 , labels + labels2 , bbox_to_anchor=(1.20, 1.05), framealpha=1)\n",
        "\n",
        "plt.tight_layout()\n",
        "plt.savefig(f'Figures/{fire_nm}_{fire_yr}_Fuelplot.png', dpi=400)"
      ],
      "execution_count": 670,
      "outputs": [
        {
          "output_type": "display_data",
          "data": {
            "image/png": "[encoded data removed]",
            "text/plain": [
              "<Figure size 432x288 with 2 Axes>"
            ]
          },
          "metadata": {
            "tags": []
          }
        }
      ]
    },
    {
      "cell_type": "markdown",
      "metadata": {
        "id": "XRhBWfLENtbr",
        "colab_type": "text"
      },
      "source": [
        "## Largest 25 Percentile Fires"
      ]
    },
    {
      "cell_type": "code",
      "metadata": {
        "colab_type": "code",
        "id": "3haKwK-zVRnD",
        "colab": {}
      },
      "source": [
        "outPath = '/content/drive/My Drive/FireDrivers_Paper/FinalCSV_Info'\n",
        "derived_df = pd.read_csv(os.path.join(outPath, 'FireInfoVar_Final.csv'), index_col=None)"
      ],
      "execution_count": 671,
      "outputs": []
    },
    {
      "cell_type": "code",
      "metadata": {
        "colab_type": "code",
        "id": "nO6AHAMNVRnH",
        "colab": {}
      },
      "source": [
        "derived_df['YearJD'] = derived_df['Year'].astype('str').str.cat(derived_df['JulianDay'].astype('str'),sep=\"\")  \n",
        "derived_df['Date'] = pd.to_datetime(derived_df['YearJD'], format= '%Y%j')\n",
        "derived_df['Date'] =  derived_df['Date'].apply(lambda x: x.strftime('%Y-%m-%d'))\n",
        "derived_df['Datetime'] = derived_df['Date'] + ' 23:00:00'\n",
        "derived_df = derived_df[derived_df['Area (ha)'] != 0]\n",
        "derived_df['Area (ha)'] = np.log(derived_df['Area (ha)'])"
      ],
      "execution_count": 672,
      "outputs": []
    },
    {
      "cell_type": "code",
      "metadata": {
        "id": "7Xkf85ir0nyn",
        "colab_type": "code",
        "colab": {}
      },
      "source": [
        "raws_csv_list = lstFiles(f\"data/Final_CSV\", '.csv')\n",
        "combined_csv = pd.concat([pd.read_csv(f) for f in raws_csv_list ])"
      ],
      "execution_count": 584,
      "outputs": []
    },
    {
      "cell_type": "code",
      "metadata": {
        "id": "QiP1hJoH0wv9",
        "colab_type": "code",
        "colab": {
          "base_uri": "https://localhost:8080/",
          "height": 215
        },
        "outputId": "6fd295ba-c659-4ca2-e18e-bf28ec321129"
      },
      "source": [
        "filt_raws = combined_csv[(combined_csv['Fire'].isin(top25_firenm))]\n",
        "filt_raws['Date'] = pd.to_datetime(filt_raws['Datetime'], format= '%Y-%m-%d %H:%M:%S')\n",
        "filt_raws['Date'] =  filt_raws['Date'].apply(lambda x: x.strftime('%Y-%m-%d'))\n",
        "filt_raws_daily = filt_raws.groupby(by=['Date', 'Fire']).mean().reset_index()"
      ],
      "execution_count": 585,
      "outputs": [
        {
          "output_type": "error",
          "ename": "NameError",
          "evalue": "ignored",
          "traceback": [
            "\u001b[0;31m---------------------------------------------------------------------------\u001b[0m",
            "\u001b[0;31mNameError\u001b[0m                                 Traceback (most recent call last)",
            "\u001b[0;32m<ipython-input-585-93d90d0d5396>\u001b[0m in \u001b[0;36m<module>\u001b[0;34m()\u001b[0m\n\u001b[0;32m----> 1\u001b[0;31m \u001b[0mfilt_raws\u001b[0m \u001b[0;34m=\u001b[0m \u001b[0mcombined_csv\u001b[0m\u001b[0;34m[\u001b[0m\u001b[0;34m(\u001b[0m\u001b[0mcombined_csv\u001b[0m\u001b[0;34m[\u001b[0m\u001b[0;34m'Fire'\u001b[0m\u001b[0;34m]\u001b[0m\u001b[0;34m.\u001b[0m\u001b[0misin\u001b[0m\u001b[0;34m(\u001b[0m\u001b[0mtop25_firenm\u001b[0m\u001b[0;34m)\u001b[0m\u001b[0;34m)\u001b[0m\u001b[0;34m]\u001b[0m\u001b[0;34m\u001b[0m\u001b[0;34m\u001b[0m\u001b[0m\n\u001b[0m\u001b[1;32m      2\u001b[0m \u001b[0mfilt_raws\u001b[0m\u001b[0;34m[\u001b[0m\u001b[0;34m'Date'\u001b[0m\u001b[0;34m]\u001b[0m \u001b[0;34m=\u001b[0m \u001b[0mpd\u001b[0m\u001b[0;34m.\u001b[0m\u001b[0mto_datetime\u001b[0m\u001b[0;34m(\u001b[0m\u001b[0mfilt_raws\u001b[0m\u001b[0;34m[\u001b[0m\u001b[0;34m'Datetime'\u001b[0m\u001b[0;34m]\u001b[0m\u001b[0;34m,\u001b[0m \u001b[0mformat\u001b[0m\u001b[0;34m=\u001b[0m \u001b[0;34m'%Y-%m-%d %H:%M:%S'\u001b[0m\u001b[0;34m)\u001b[0m\u001b[0;34m\u001b[0m\u001b[0;34m\u001b[0m\u001b[0m\n\u001b[1;32m      3\u001b[0m \u001b[0mfilt_raws\u001b[0m\u001b[0;34m[\u001b[0m\u001b[0;34m'Date'\u001b[0m\u001b[0;34m]\u001b[0m \u001b[0;34m=\u001b[0m  \u001b[0mfilt_raws\u001b[0m\u001b[0;34m[\u001b[0m\u001b[0;34m'Date'\u001b[0m\u001b[0;34m]\u001b[0m\u001b[0;34m.\u001b[0m\u001b[0mapply\u001b[0m\u001b[0;34m(\u001b[0m\u001b[0;32mlambda\u001b[0m \u001b[0mx\u001b[0m\u001b[0;34m:\u001b[0m \u001b[0mx\u001b[0m\u001b[0;34m.\u001b[0m\u001b[0mstrftime\u001b[0m\u001b[0;34m(\u001b[0m\u001b[0;34m'%Y-%m-%d'\u001b[0m\u001b[0;34m)\u001b[0m\u001b[0;34m)\u001b[0m\u001b[0;34m\u001b[0m\u001b[0;34m\u001b[0m\u001b[0m\n\u001b[1;32m      4\u001b[0m \u001b[0mfilt_raws_daily\u001b[0m \u001b[0;34m=\u001b[0m \u001b[0mfilt_raws\u001b[0m\u001b[0;34m.\u001b[0m\u001b[0mgroupby\u001b[0m\u001b[0;34m(\u001b[0m\u001b[0mby\u001b[0m\u001b[0;34m=\u001b[0m\u001b[0;34m[\u001b[0m\u001b[0;34m'Date'\u001b[0m\u001b[0;34m,\u001b[0m \u001b[0;34m'Fire'\u001b[0m\u001b[0;34m]\u001b[0m\u001b[0;34m)\u001b[0m\u001b[0;34m.\u001b[0m\u001b[0mmean\u001b[0m\u001b[0;34m(\u001b[0m\u001b[0;34m)\u001b[0m\u001b[0;34m.\u001b[0m\u001b[0mreset_index\u001b[0m\u001b[0;34m(\u001b[0m\u001b[0;34m)\u001b[0m\u001b[0;34m\u001b[0m\u001b[0;34m\u001b[0m\u001b[0m\n",
            "\u001b[0;31mNameError\u001b[0m: name 'top25_firenm' is not defined"
          ]
        }
      ]
    },
    {
      "cell_type": "code",
      "metadata": {
        "id": "NFta4OKAKIcg",
        "colab_type": "code",
        "colab": {}
      },
      "source": [
        "# response var: 0\n",
        "# topo: 1 \n",
        "# weather : 2 \n",
        "# fuel : 3 \n",
        "# wind : 4\n",
        "\n",
        "var_list = {  \n",
        " 'Aspect_x': 1,\n",
        " 'CBD': 3,\n",
        " 'CONIFER': 3,\n",
        " 'CONIFER_HA': 3,\n",
        " 'DEM': 1,\n",
        " 'EVI': 3,\n",
        " 'EXOTIC_HER': 3,\n",
        " 'FBFM1': 3,\n",
        " 'FBFM10': 3,\n",
        " 'FBFM11': 3,\n",
        " 'FBFM12': 3,\n",
        " 'FBFM2': 3,\n",
        " 'FBFM3': 3,\n",
        " 'FBFM4': 3,\n",
        " 'FBFM5': 3,\n",
        " 'FBFM6': 3,\n",
        " 'FBFM7': 3,\n",
        " 'FBFM8': 3,\n",
        " 'FBFM9': 3,\n",
        " 'FFWI': 2,\n",
        " 'GRASSLAND': 3,\n",
        " 'HARDWOOD': 3,\n",
        " 'MaxNDVI': 3,\n",
        " 'NDMI': 3,\n",
        " 'NDMIDelta': 3,\n",
        " 'NDVI': 3,\n",
        " 'RIPARIAN': 3,\n",
        " 'SHRUBLAND': 3,\n",
        " 'SPARSELY_V': 3,\n",
        " 'Slope': 1,\n",
        " 'URBAN': 3,\n",
        " 'VALUE_108': 3,\n",
        " 'VALUE_109': 3,\n",
        " 'VALUE_110': 3,\n",
        " 'VALUE_111': 3,\n",
        " 'VALUE_112': 3,\n",
        " 'VALUE_1': 1,\n",
        " 'VALUE_2': 1,\n",
        " 'VALUE_3': 1,\n",
        " 'VALUE_4': 1,\n",
        " 'VALUE_5': 1,\n",
        " 'burningindexg': 2,\n",
        " 'deadfuelmoisture1000hr': 2,\n",
        " 'deadfuelmoisture100hr': 2,\n",
        " 'energyreleasecomponent': 2,\n",
        " 'maximumairtemperature': 2,\n",
        " 'maximumrelativehumidity': 2,\n",
        " 'meanvaporpressuredeficit': 2,\n",
        " 'minimumairtemperature': 2,\n",
        " 'minimumrelativehumidity': 2,\n",
        " #'precipitationamount': 2,\n",
        " 'referenceevapotranspirationalfalfa': 2,\n",
        " 'referenceevapotranspirationgrass': 2,\n",
        " 'specifichumidity': 2,\n",
        " 'srad': 2,\n",
        " 'surfacedownwellingshortwavefluxinair': 2,\n",
        " 'tmax': 2,\n",
        " 'tmin': 2,\n",
        " #'windfromdirection': 2,\n",
        " 'windspeed': 4,\n",
        " 'BARREN': 3,\n",
        " 'shortHeight': 3,\n",
        " 'medShortHeight': 3,\n",
        " 'medHeight': 3,\n",
        " 'Total_Solar_Rad': 2,\n",
        " 'Wind_Avg_mph': 4,\n",
        " #'Wind_Dir_Deg': 2,\n",
        " 'Wind_Max_mph': 2,\n",
        " 'Air_Temp_Avg': 2,\n",
        " 'Fuel_Temp_Avg': 2,\n",
        " 'Fuel_Moist_Per': 2,\n",
        " 'Rel_Hum_Per': 2,\n",
        " #'Dew_Point_Deg': 2,\n",
        " #'Wet_Bulb': 2\n",
        " }"
      ],
      "execution_count": null,
      "outputs": []
    },
    {
      "cell_type": "code",
      "metadata": {
        "id": "OC7pgYut06Nb",
        "colab_type": "code",
        "colab": {}
      },
      "source": [
        "def updateEcoNames(merged_rim_df):\n",
        "  merged_rim_df.loc[merged_rim_df.ecoID == 5, 'NA_L3NAME'] = \"Northern Coastal Sage\"\n",
        "  merged_rim_df.loc[merged_rim_df.ecoID == 11, 'NA_L3NAME'] = \"Southern Coastal Sage\"\n",
        "  merged_rim_df.loc[merged_rim_df.ecoID == 8, 'NA_L3NAME'] = \"Southern/Baja\"\n",
        "  merged_rim_df.loc[merged_rim_df.ecoID == 2, 'NA_L3NAME'] = \"Southern/Baja\"\n",
        "  merged_rim_df.loc[merged_rim_df.ecoID == 2, 'ecoID'] = 8\n",
        "  merged_rim_df.loc[merged_rim_df.ecoID == 1, 'NA_L3NAME'] = \"Northern Coastal Sage\"\n",
        "  merged_rim_df.loc[merged_rim_df.ecoID == 1, 'ecoID'] = 5\n",
        "  merged_rim_df.loc[merged_rim_df.ecoID == 0, 'NA_L3NAME'] = \"Klamath Mountains\"\n",
        "  merged_rim_df.loc[merged_rim_df.ecoID == 0, 'ecoID'] = 7\n",
        "  merged_rim_df.loc[merged_rim_df.ecoID == 12, 'NA_L3NAME'] = \"Cascades\"\n",
        "  merged_rim_df.loc[merged_rim_df.ecoID == 12, 'ecoID'] = 3\n",
        "  return merged_rim_df"
      ],
      "execution_count": null,
      "outputs": []
    },
    {
      "cell_type": "code",
      "metadata": {
        "id": "X_wOtpm11zuT",
        "colab_type": "code",
        "colab": {}
      },
      "source": [
        "def get_correlation(filt_df, x, var_list):\n",
        "  for key in var_list: \n",
        "    df = filt_df[filt_df[x] == key]\n",
        "    corr_val = df['Area (ha)'].corr(df['value'])\n",
        "    eco_region.append(ecoID)\n",
        "    ind.append(ecounique)\n",
        "    var_nm.append(key)\n",
        "    p_cor.append(abs(corr_val))\n",
        "    class_val.append(var_list[key])\n",
        "    hue_val.append(q)"
      ],
      "execution_count": null,
      "outputs": []
    },
    {
      "cell_type": "code",
      "metadata": {
        "id": "xq3bBX_L0FLJ",
        "colab_type": "code",
        "colab": {}
      },
      "source": [
        "eco_region = []\n",
        "p_cor = []\n",
        "var_nm = [] \n",
        "class_val = []\n",
        "hue_val = []\n",
        "ind = []\n",
        "\n",
        "for i in range(0, 100 + 1, 15) :\n",
        "  q = i/100\n",
        "  Top25_area_val = derived_df['Area (ha)'].quantile(q)\n",
        "  top25_area = derived_df[derived_df['Area (ha)'] >= Top25_area_val].reset_index()\n",
        "  merged_rim_df = pd.merge(top25_area, filt_raws_daily, how='left', left_on=['Date', 'FireName'], right_on=['Date', 'Fire'])\n",
        "  merged_rim_df = updateEcoNames(merged_rim_df)\n",
        "  ecoID_List = merged_rim_df['NA_L3NAME'].unique().tolist()\n",
        "  ecoID_name = [s + f'_{str(i)}' for s in ecoID_List]\n",
        "  for ecoID, ecounique in list(zip(ecoID_List, ecoID_name)): \n",
        "    df  = merged_rim_df[(merged_rim_df['NA_L3NAME'] == ecoID)]\n",
        "    filt_df = pd.melt(df, id_vars=['FireName', 'JulianDay', 'Area (ha)', 'Magnitude (upperQ)'], value_vars=list(var_list.keys())).dropna()\n",
        "    get_correlation(filt_df, 'variable', var_list)"
      ],
      "execution_count": null,
      "outputs": []
    },
    {
      "cell_type": "code",
      "metadata": {
        "id": "LOZlg4-N4PUK",
        "colab_type": "code",
        "colab": {
          "base_uri": "https://localhost:8080/",
          "height": 136
        },
        "outputId": "5cf7bc4e-4972-4e33-9565-4818f12c371b"
      },
      "source": [
        "for i in range(0, 100 + 1, 15) :\n",
        "  print(i)"
      ],
      "execution_count": null,
      "outputs": [
        {
          "output_type": "stream",
          "text": [
            "0\n",
            "15\n",
            "30\n",
            "45\n",
            "60\n",
            "75\n",
            "90\n"
          ],
          "name": "stdout"
        }
      ]
    },
    {
      "cell_type": "markdown",
      "metadata": {
        "id": "NSlUM7kdQ_K2",
        "colab_type": "text"
      },
      "source": [
        "## Correlate by Fire"
      ]
    },
    {
      "cell_type": "code",
      "metadata": {
        "id": "s3iNCNRUrtk5",
        "colab_type": "code",
        "colab": {
          "base_uri": "https://localhost:8080/",
          "height": 102
        },
        "outputId": "91b13ff0-92b0-447b-ed12-d8465c5e3cd1"
      },
      "source": [
        "pd.set_option('max_rows', 99999)\n",
        "pd.set_option('max_colwidth', 400)\n",
        "pd.describe_option('max_colwidth')"
      ],
      "execution_count": null,
      "outputs": [
        {
          "output_type": "stream",
          "text": [
            "display.max_colwidth : int or None\n",
            "    The maximum width in characters of a column in the repr of\n",
            "    a pandas data structure. When the column overflows, a \"...\"\n",
            "    placeholder is embedded in the output. A 'None' value means unlimited.\n",
            "    [default: 50] [currently: 400]\n"
          ],
          "name": "stdout"
        }
      ]
    },
    {
      "cell_type": "code",
      "metadata": {
        "id": "EOaD6HgdOCq4",
        "colab_type": "code",
        "colab": {}
      },
      "source": [
        "corr_df = pd.DataFrame({'ind' : ind, 'eco_region': eco_region, 'hue_val': hue_val, 'var_nm': var_nm, 'p_cor': p_cor, 'class_val': class_val})\n",
        "corr_df = corr_df.dropna()"
      ],
      "execution_count": null,
      "outputs": []
    },
    {
      "cell_type": "code",
      "metadata": {
        "id": "_96t15Y54SWu",
        "colab_type": "code",
        "colab": {}
      },
      "source": [
        "corr_df = corr_df[['ind', 'eco_region','hue_val', 'var_nm', 'p_cor','class_val']]\n",
        "corr_df = corr_df.loc[corr_df.groupby(['ind', 'eco_region', 'class_val', 'hue_val'])['p_cor'].idxmax()].set_index(['ind']).reset_index()"
      ],
      "execution_count": null,
      "outputs": []
    },
    {
      "cell_type": "code",
      "metadata": {
        "id": "M9PLBVKt4afQ",
        "colab_type": "code",
        "colab": {}
      },
      "source": [
        "corr_df"
      ],
      "execution_count": null,
      "outputs": []
    },
    {
      "cell_type": "code",
      "metadata": {
        "id": "pZY1bSGh3wRt",
        "colab_type": "code",
        "colab": {}
      },
      "source": [
        "x_y_z = corr_df.pivot(index='ind', columns='class_val', values=['p_cor', 'var_nm']).reset_index()\n",
        "x_y_z.columns = ['ind', 'Topography', 'Weather', 'Fuel', 'Wind', 'Topo_Var', 'Weather_Var', 'Fuel_Var', 'Wind_Var']\n",
        "x_y_z[['eco_region','hue_val']] = x_y_z.ind.str.split(\"_\",expand=True) \n"
      ],
      "execution_count": null,
      "outputs": []
    },
    {
      "cell_type": "code",
      "metadata": {
        "id": "djWZfHx9jBil",
        "colab_type": "code",
        "colab": {
          "base_uri": "https://localhost:8080/",
          "height": 542
        },
        "outputId": "d9e49aaf-ddac-41c5-a562-47c85037f99b"
      },
      "source": [
        "import plotly.express as px\n",
        "df = px.data.election()\n",
        "x_y_z['hue_val'] = x_y_z.hue_val.astype('int64')\n",
        "fig = px.scatter_3d(x_y_z, x=\"Topography\", y=\"Wind\", z=\"Fuel\", hover_name=\"eco_region\", color=\"hue_val\",\n",
        "                  symbol=\"eco_region\", color_continuous_scale='Sunset', \n",
        "                  symbol_map={'Cascades':'square', 'Klamath Mountains': 'circle-open', 'Northern Coastal Sage': 'diamond',\n",
        "                                 'Sierra Nevada':'circle', 'Southern/Baja': 'diamond-open', 'Southern Coastal Sage': 'cross'})\n",
        "fig.update_layout(showlegend=False)\n",
        "fig.show()"
      ],
      "execution_count": null,
      "outputs": [
        {
          "output_type": "display_data",
          "data": {
            "text/html": [
              "<html>\n",
              "<head><meta charset=\"utf-8\" /></head>\n",
              "<body>\n",
              "    <div>\n",
              "            <script src=\"https://cdnjs.cloudflare.com/ajax/libs/mathjax/2.7.5/MathJax.js?config=TeX-AMS-MML_SVG\"></script><script type=\"text/javascript\">if (window.MathJax) {MathJax.Hub.Config({SVG: {font: \"STIX-Web\"}});}</script>\n",
              "                <script type=\"text/javascript\">window.PlotlyConfig = {MathJaxConfig: 'local'};</script>\n",
              "        <script src=\"https://cdn.plot.ly/plotly-latest.min.js\"></script>    \n",
              "            <div id=\"9d20cb5b-24df-4b81-8294-c67b2f6b03d4\" class=\"plotly-graph-div\" style=\"height:525px; width:100%;\"></div>\n",
              "            <script type=\"text/javascript\">\n",
              "                \n",
              "                    window.PLOTLYENV=window.PLOTLYENV || {};\n",
              "                    \n",
              "                if (document.getElementById(\"9d20cb5b-24df-4b81-8294-c67b2f6b03d4\")) {\n",
              "                    Plotly.newPlot(\n",
              "                        '9d20cb5b-24df-4b81-8294-c67b2f6b03d4',\n",
              "                        [{\"hoverlabel\": {\"namelength\": 0}, \"hovertemplate\": \"<b>%{hovertext}</b><br><br>eco_region=Cascades<br>Topography=%{x}<br>Wind=%{y}<br>Fuel=%{z}<br>hue_val=%{marker.color}\", \"hovertext\": [\"Cascades\", \"Cascades\", \"Cascades\", \"Cascades\", \"Cascades\", \"Cascades\", \"Cascades\"], \"legendgroup\": \"eco_region=Cascades\", \"marker\": {\"color\": [0, 15, 30, 45, 60, 75, 90], \"coloraxis\": \"coloraxis\", \"symbol\": \"square\"}, \"mode\": \"markers\", \"name\": \"eco_region=Cascades\", \"scene\": \"scene\", \"showlegend\": true, \"type\": \"scatter3d\", \"x\": [0.16372962722133239, 0.36984008409561536, 0.29236171393943294, 0.40905804592421857, 0.46014219171393045, 0.5252093802594809, 0.8246467177220834], \"y\": [0.5025677770869612, 0.5025677770869612, 0.5712938802449348, 0.5564765660973428, 0.643319913397965, 0.6984560924481531, 0.8181796995908375], \"z\": [0.34423787203988426, 0.3194678503651496, 0.4010323609959087, 0.5443031711789847, 0.6020738877792614, 0.7055579951846734, 0.8943864008645332]}, {\"hoverlabel\": {\"namelength\": 0}, \"hovertemplate\": \"<b>%{hovertext}</b><br><br>eco_region=Klamath Mountains<br>Topography=%{x}<br>Wind=%{y}<br>Fuel=%{z}<br>hue_val=%{marker.color}\", \"hovertext\": [\"Klamath Mountains\", \"Klamath Mountains\", \"Klamath Mountains\", \"Klamath Mountains\", \"Klamath Mountains\", \"Klamath Mountains\", \"Klamath Mountains\"], \"legendgroup\": \"eco_region=Klamath Mountains\", \"marker\": {\"color\": [0, 15, 30, 45, 60, 75, 90], \"coloraxis\": \"coloraxis\", \"symbol\": \"circle-open\"}, \"mode\": \"markers\", \"name\": \"eco_region=Klamath Mountains\", \"scene\": \"scene\", \"showlegend\": true, \"type\": \"scatter3d\", \"x\": [0.3350208269785616, 0.29265375419930656, 0.2837431690330119, 0.3147704195882114, 0.2518207401443951, 0.2443330813686607, 0.292908993921984], \"y\": [0.04201617935659028, 0.16352538332733613, 0.20401971098387822, 0.24016856830345054, 0.2621737594937399, 0.1473713158444832, 0.27515279599099135], \"z\": [0.29264965988753305, 0.3427061632349868, 0.3167249777668156, 0.34989582604628383, 0.3199575780381403, 0.39681935323030326, 0.4135394266979884]}, {\"hoverlabel\": {\"namelength\": 0}, \"hovertemplate\": \"<b>%{hovertext}</b><br><br>eco_region=Northern Coastal Sage<br>Topography=%{x}<br>Wind=%{y}<br>Fuel=%{z}<br>hue_val=%{marker.color}\", \"hovertext\": [\"Northern Coastal Sage\", \"Northern Coastal Sage\", \"Northern Coastal Sage\", \"Northern Coastal Sage\", \"Northern Coastal Sage\", \"Northern Coastal Sage\", \"Northern Coastal Sage\"], \"legendgroup\": \"eco_region=Northern Coastal Sage\", \"marker\": {\"color\": [0, 15, 30, 45, 60, 75, 90], \"coloraxis\": \"coloraxis\", \"symbol\": \"diamond\"}, \"mode\": \"markers\", \"name\": \"eco_region=Northern Coastal Sage\", \"scene\": \"scene\", \"showlegend\": true, \"type\": \"scatter3d\", \"x\": [0.36399501963719083, 0.27708519890594024, 0.2880043045666486, 0.21138743386059614, 0.23699603471181913, 0.2840090661887713, 0.18651521871906682], \"y\": [0.039070691452492465, 0.016797754428648348, 0.03171815099415925, 0.10021157380572976, 0.10815527353212724, 0.042796973820752315, 0.1917960178226976], \"z\": [0.2306375462222435, 0.2716585058495958, 0.30605191344144755, 0.33431819680726116, 0.29608911027487883, 0.35742681012893335, 0.25926164999631857]}, {\"hoverlabel\": {\"namelength\": 0}, \"hovertemplate\": \"<b>%{hovertext}</b><br><br>eco_region=Sierra Nevada<br>Topography=%{x}<br>Wind=%{y}<br>Fuel=%{z}<br>hue_val=%{marker.color}\", \"hovertext\": [\"Sierra Nevada\", \"Sierra Nevada\", \"Sierra Nevada\", \"Sierra Nevada\", \"Sierra Nevada\", \"Sierra Nevada\", \"Sierra Nevada\"], \"legendgroup\": \"eco_region=Sierra Nevada\", \"marker\": {\"color\": [0, 15, 30, 45, 60, 75, 90], \"coloraxis\": \"coloraxis\", \"symbol\": \"circle\"}, \"mode\": \"markers\", \"name\": \"eco_region=Sierra Nevada\", \"scene\": \"scene\", \"showlegend\": true, \"type\": \"scatter3d\", \"x\": [0.5550315525102686, 0.49916603347670996, 0.35489367973334857, 0.3087198883304288, 0.29251117569475976, 0.45508934435283127, 0.47478571680063375], \"y\": [0.11252736601310165, 0.04533044650361482, 0.08570871237087704, 0.16162258045157132, 0.27536388759102515, 0.4554536279969078, 0.40090785264752943], \"z\": [0.481550670096452, 0.41906136479157663, 0.31061074494693325, 0.2962942069249798, 0.39397449896920134, 0.4301082631871269, 0.5584828362171679]}, {\"hoverlabel\": {\"namelength\": 0}, \"hovertemplate\": \"<b>%{hovertext}</b><br><br>eco_region=Southern Coastal Sage<br>Topography=%{x}<br>Wind=%{y}<br>Fuel=%{z}<br>hue_val=%{marker.color}\", \"hovertext\": [\"Southern Coastal Sage\", \"Southern Coastal Sage\", \"Southern Coastal Sage\", \"Southern Coastal Sage\", \"Southern Coastal Sage\", \"Southern Coastal Sage\", \"Southern Coastal Sage\"], \"legendgroup\": \"eco_region=Southern Coastal Sage\", \"marker\": {\"color\": [0, 15, 30, 45, 60, 75, 90], \"coloraxis\": \"coloraxis\", \"symbol\": \"cross\"}, \"mode\": \"markers\", \"name\": \"eco_region=Southern Coastal Sage\", \"scene\": \"scene\", \"showlegend\": true, \"type\": \"scatter3d\", \"x\": [0.3610480279084842, 0.40355814481430924, 0.3808672917703032, 0.3504711112989846, 0.39831820027039794, 0.26443333311607137, 0.4925413514571477], \"y\": [0.15213004301944574, 0.19935205290405497, 0.3315385088369768, 0.4088508190769114, 0.19639518796152258, 0.17542353190172058, 0.23410924811866352], \"z\": [0.40840738058921283, 0.4342220455541567, 0.4129841157946659, 0.4311296838916015, 0.47785177301578896, 0.645241510845397, 0.8109387673621704]}, {\"hoverlabel\": {\"namelength\": 0}, \"hovertemplate\": \"<b>%{hovertext}</b><br><br>eco_region=Southern/Baja<br>Topography=%{x}<br>Wind=%{y}<br>Fuel=%{z}<br>hue_val=%{marker.color}\", \"hovertext\": [\"Southern/Baja\", \"Southern/Baja\", \"Southern/Baja\", \"Southern/Baja\", \"Southern/Baja\", \"Southern/Baja\", \"Southern/Baja\"], \"legendgroup\": \"eco_region=Southern/Baja\", \"marker\": {\"color\": [0, 15, 30, 45, 60, 75, 90], \"coloraxis\": \"coloraxis\", \"symbol\": \"diamond-open\"}, \"mode\": \"markers\", \"name\": \"eco_region=Southern/Baja\", \"scene\": \"scene\", \"showlegend\": true, \"type\": \"scatter3d\", \"x\": [0.2816751520941219, 0.21101443373911732, 0.23610288053949943, 0.32787632371513215, 0.2929930530809921, 0.5436407415075036, 0.4995511635406298], \"y\": [0.24207897733348316, 0.265778606354703, 0.38675416160837284, 0.3409867909477364, 0.3180401442562319, 0.21749748313735937, 0.7585609295975918], \"z\": [0.5408309695993487, 0.7011516455582419, 0.6577096264398471, 0.7067217298147388, 0.6976383406742793, 0.6918534845846257, 0.7546540575467788]}],\n",
              "                        {\"coloraxis\": {\"colorbar\": {\"title\": {\"text\": \"hue_val\"}}, \"colorscale\": [[0.0, \"rgb(243, 231, 155)\"], [0.16666666666666666, \"rgb(250, 196, 132)\"], [0.3333333333333333, \"rgb(248, 160, 126)\"], [0.5, \"rgb(235, 127, 134)\"], [0.6666666666666666, \"rgb(206, 102, 147)\"], [0.8333333333333334, \"rgb(160, 89, 160)\"], [1.0, \"rgb(92, 83, 165)\"]]}, \"legend\": {\"tracegroupgap\": 0}, \"margin\": {\"t\": 60}, \"scene\": {\"domain\": {\"x\": [0.0, 1.0], \"y\": [0.0, 1.0]}, \"xaxis\": {\"title\": {\"text\": \"Topography\"}}, \"yaxis\": {\"title\": {\"text\": \"Wind\"}}, \"zaxis\": {\"title\": {\"text\": \"Fuel\"}}}, \"showlegend\": false, \"template\": {\"data\": {\"bar\": [{\"error_x\": {\"color\": \"#2a3f5f\"}, \"error_y\": {\"color\": \"#2a3f5f\"}, \"marker\": {\"line\": {\"color\": \"#E5ECF6\", \"width\": 0.5}}, \"type\": \"bar\"}], \"barpolar\": [{\"marker\": {\"line\": {\"color\": \"#E5ECF6\", \"width\": 0.5}}, \"type\": \"barpolar\"}], \"carpet\": [{\"aaxis\": {\"endlinecolor\": \"#2a3f5f\", \"gridcolor\": \"white\", \"linecolor\": \"white\", \"minorgridcolor\": \"white\", \"startlinecolor\": \"#2a3f5f\"}, \"baxis\": {\"endlinecolor\": \"#2a3f5f\", \"gridcolor\": \"white\", \"linecolor\": \"white\", \"minorgridcolor\": \"white\", \"startlinecolor\": \"#2a3f5f\"}, \"type\": \"carpet\"}], \"choropleth\": [{\"colorbar\": {\"outlinewidth\": 0, \"ticks\": \"\"}, \"type\": \"choropleth\"}], \"contour\": [{\"colorbar\": {\"outlinewidth\": 0, \"ticks\": \"\"}, \"colorscale\": [[0.0, \"#0d0887\"], [0.1111111111111111, \"#46039f\"], [0.2222222222222222, \"#7201a8\"], [0.3333333333333333, \"#9c179e\"], [0.4444444444444444, \"#bd3786\"], [0.5555555555555556, \"#d8576b\"], [0.6666666666666666, \"#ed7953\"], [0.7777777777777778, \"#fb9f3a\"], [0.8888888888888888, \"#fdca26\"], [1.0, \"#f0f921\"]], \"type\": \"contour\"}], \"contourcarpet\": [{\"colorbar\": {\"outlinewidth\": 0, \"ticks\": \"\"}, \"type\": \"contourcarpet\"}], \"heatmap\": [{\"colorbar\": {\"outlinewidth\": 0, \"ticks\": \"\"}, \"colorscale\": [[0.0, \"#0d0887\"], [0.1111111111111111, \"#46039f\"], [0.2222222222222222, \"#7201a8\"], [0.3333333333333333, \"#9c179e\"], [0.4444444444444444, \"#bd3786\"], [0.5555555555555556, \"#d8576b\"], [0.6666666666666666, \"#ed7953\"], [0.7777777777777778, \"#fb9f3a\"], [0.8888888888888888, \"#fdca26\"], [1.0, \"#f0f921\"]], \"type\": \"heatmap\"}], \"heatmapgl\": [{\"colorbar\": {\"outlinewidth\": 0, \"ticks\": \"\"}, \"colorscale\": [[0.0, \"#0d0887\"], [0.1111111111111111, \"#46039f\"], [0.2222222222222222, \"#7201a8\"], [0.3333333333333333, \"#9c179e\"], [0.4444444444444444, \"#bd3786\"], [0.5555555555555556, \"#d8576b\"], [0.6666666666666666, \"#ed7953\"], [0.7777777777777778, \"#fb9f3a\"], [0.8888888888888888, \"#fdca26\"], [1.0, \"#f0f921\"]], \"type\": \"heatmapgl\"}], \"histogram\": [{\"marker\": {\"colorbar\": {\"outlinewidth\": 0, \"ticks\": \"\"}}, \"type\": \"histogram\"}], \"histogram2d\": [{\"colorbar\": {\"outlinewidth\": 0, \"ticks\": \"\"}, \"colorscale\": [[0.0, \"#0d0887\"], [0.1111111111111111, \"#46039f\"], [0.2222222222222222, \"#7201a8\"], [0.3333333333333333, \"#9c179e\"], [0.4444444444444444, \"#bd3786\"], [0.5555555555555556, \"#d8576b\"], [0.6666666666666666, \"#ed7953\"], [0.7777777777777778, \"#fb9f3a\"], [0.8888888888888888, \"#fdca26\"], [1.0, \"#f0f921\"]], \"type\": \"histogram2d\"}], \"histogram2dcontour\": [{\"colorbar\": {\"outlinewidth\": 0, \"ticks\": \"\"}, \"colorscale\": [[0.0, \"#0d0887\"], [0.1111111111111111, \"#46039f\"], [0.2222222222222222, \"#7201a8\"], [0.3333333333333333, \"#9c179e\"], [0.4444444444444444, \"#bd3786\"], [0.5555555555555556, \"#d8576b\"], [0.6666666666666666, \"#ed7953\"], [0.7777777777777778, \"#fb9f3a\"], [0.8888888888888888, \"#fdca26\"], [1.0, \"#f0f921\"]], \"type\": \"histogram2dcontour\"}], \"mesh3d\": [{\"colorbar\": {\"outlinewidth\": 0, \"ticks\": \"\"}, \"type\": \"mesh3d\"}], \"parcoords\": [{\"line\": {\"colorbar\": {\"outlinewidth\": 0, \"ticks\": \"\"}}, \"type\": \"parcoords\"}], \"pie\": [{\"automargin\": true, \"type\": \"pie\"}], \"scatter\": [{\"marker\": {\"colorbar\": {\"outlinewidth\": 0, \"ticks\": \"\"}}, \"type\": \"scatter\"}], \"scatter3d\": [{\"line\": {\"colorbar\": {\"outlinewidth\": 0, \"ticks\": \"\"}}, \"marker\": {\"colorbar\": {\"outlinewidth\": 0, \"ticks\": \"\"}}, \"type\": \"scatter3d\"}], \"scattercarpet\": [{\"marker\": {\"colorbar\": {\"outlinewidth\": 0, \"ticks\": \"\"}}, \"type\": \"scattercarpet\"}], \"scattergeo\": [{\"marker\": {\"colorbar\": {\"outlinewidth\": 0, \"ticks\": \"\"}}, \"type\": \"scattergeo\"}], \"scattergl\": [{\"marker\": {\"colorbar\": {\"outlinewidth\": 0, \"ticks\": \"\"}}, \"type\": \"scattergl\"}], \"scattermapbox\": [{\"marker\": {\"colorbar\": {\"outlinewidth\": 0, \"ticks\": \"\"}}, \"type\": \"scattermapbox\"}], \"scatterpolar\": [{\"marker\": {\"colorbar\": {\"outlinewidth\": 0, \"ticks\": \"\"}}, \"type\": \"scatterpolar\"}], \"scatterpolargl\": [{\"marker\": {\"colorbar\": {\"outlinewidth\": 0, \"ticks\": \"\"}}, \"type\": \"scatterpolargl\"}], \"scatterternary\": [{\"marker\": {\"colorbar\": {\"outlinewidth\": 0, \"ticks\": \"\"}}, \"type\": \"scatterternary\"}], \"surface\": [{\"colorbar\": {\"outlinewidth\": 0, \"ticks\": \"\"}, \"colorscale\": [[0.0, \"#0d0887\"], [0.1111111111111111, \"#46039f\"], [0.2222222222222222, \"#7201a8\"], [0.3333333333333333, \"#9c179e\"], [0.4444444444444444, \"#bd3786\"], [0.5555555555555556, \"#d8576b\"], [0.6666666666666666, \"#ed7953\"], [0.7777777777777778, \"#fb9f3a\"], [0.8888888888888888, \"#fdca26\"], [1.0, \"#f0f921\"]], \"type\": \"surface\"}], \"table\": [{\"cells\": {\"fill\": {\"color\": \"#EBF0F8\"}, \"line\": {\"color\": \"white\"}}, \"header\": {\"fill\": {\"color\": \"#C8D4E3\"}, \"line\": {\"color\": \"white\"}}, \"type\": \"table\"}]}, \"layout\": {\"annotationdefaults\": {\"arrowcolor\": \"#2a3f5f\", \"arrowhead\": 0, \"arrowwidth\": 1}, \"coloraxis\": {\"colorbar\": {\"outlinewidth\": 0, \"ticks\": \"\"}}, \"colorscale\": {\"diverging\": [[0, \"#8e0152\"], [0.1, \"#c51b7d\"], [0.2, \"#de77ae\"], [0.3, \"#f1b6da\"], [0.4, \"#fde0ef\"], [0.5, \"#f7f7f7\"], [0.6, \"#e6f5d0\"], [0.7, \"#b8e186\"], [0.8, \"#7fbc41\"], [0.9, \"#4d9221\"], [1, \"#276419\"]], \"sequential\": [[0.0, \"#0d0887\"], [0.1111111111111111, \"#46039f\"], [0.2222222222222222, \"#7201a8\"], [0.3333333333333333, \"#9c179e\"], [0.4444444444444444, \"#bd3786\"], [0.5555555555555556, \"#d8576b\"], [0.6666666666666666, \"#ed7953\"], [0.7777777777777778, \"#fb9f3a\"], [0.8888888888888888, \"#fdca26\"], [1.0, \"#f0f921\"]], \"sequentialminus\": [[0.0, \"#0d0887\"], [0.1111111111111111, \"#46039f\"], [0.2222222222222222, \"#7201a8\"], [0.3333333333333333, \"#9c179e\"], [0.4444444444444444, \"#bd3786\"], [0.5555555555555556, \"#d8576b\"], [0.6666666666666666, \"#ed7953\"], [0.7777777777777778, \"#fb9f3a\"], [0.8888888888888888, \"#fdca26\"], [1.0, \"#f0f921\"]]}, \"colorway\": [\"#636efa\", \"#EF553B\", \"#00cc96\", \"#ab63fa\", \"#FFA15A\", \"#19d3f3\", \"#FF6692\", \"#B6E880\", \"#FF97FF\", \"#FECB52\"], \"font\": {\"color\": \"#2a3f5f\"}, \"geo\": {\"bgcolor\": \"white\", \"lakecolor\": \"white\", \"landcolor\": \"#E5ECF6\", \"showlakes\": true, \"showland\": true, \"subunitcolor\": \"white\"}, \"hoverlabel\": {\"align\": \"left\"}, \"hovermode\": \"closest\", \"mapbox\": {\"style\": \"light\"}, \"paper_bgcolor\": \"white\", \"plot_bgcolor\": \"#E5ECF6\", \"polar\": {\"angularaxis\": {\"gridcolor\": \"white\", \"linecolor\": \"white\", \"ticks\": \"\"}, \"bgcolor\": \"#E5ECF6\", \"radialaxis\": {\"gridcolor\": \"white\", \"linecolor\": \"white\", \"ticks\": \"\"}}, \"scene\": {\"xaxis\": {\"backgroundcolor\": \"#E5ECF6\", \"gridcolor\": \"white\", \"gridwidth\": 2, \"linecolor\": \"white\", \"showbackground\": true, \"ticks\": \"\", \"zerolinecolor\": \"white\"}, \"yaxis\": {\"backgroundcolor\": \"#E5ECF6\", \"gridcolor\": \"white\", \"gridwidth\": 2, \"linecolor\": \"white\", \"showbackground\": true, \"ticks\": \"\", \"zerolinecolor\": \"white\"}, \"zaxis\": {\"backgroundcolor\": \"#E5ECF6\", \"gridcolor\": \"white\", \"gridwidth\": 2, \"linecolor\": \"white\", \"showbackground\": true, \"ticks\": \"\", \"zerolinecolor\": \"white\"}}, \"shapedefaults\": {\"line\": {\"color\": \"#2a3f5f\"}}, \"ternary\": {\"aaxis\": {\"gridcolor\": \"white\", \"linecolor\": \"white\", \"ticks\": \"\"}, \"baxis\": {\"gridcolor\": \"white\", \"linecolor\": \"white\", \"ticks\": \"\"}, \"bgcolor\": \"#E5ECF6\", \"caxis\": {\"gridcolor\": \"white\", \"linecolor\": \"white\", \"ticks\": \"\"}}, \"title\": {\"x\": 0.05}, \"xaxis\": {\"automargin\": true, \"gridcolor\": \"white\", \"linecolor\": \"white\", \"ticks\": \"\", \"title\": {\"standoff\": 15}, \"zerolinecolor\": \"white\", \"zerolinewidth\": 2}, \"yaxis\": {\"automargin\": true, \"gridcolor\": \"white\", \"linecolor\": \"white\", \"ticks\": \"\", \"title\": {\"standoff\": 15}, \"zerolinecolor\": \"white\", \"zerolinewidth\": 2}}}},\n",
              "                        {\"responsive\": true}\n",
              "                    ).then(function(){\n",
              "                            \n",
              "var gd = document.getElementById('9d20cb5b-24df-4b81-8294-c67b2f6b03d4');\n",
              "var x = new MutationObserver(function (mutations, observer) {{\n",
              "        var display = window.getComputedStyle(gd).display;\n",
              "        if (!display || display === 'none') {{\n",
              "            console.log([gd, 'removed!']);\n",
              "            Plotly.purge(gd);\n",
              "            observer.disconnect();\n",
              "        }}\n",
              "}});\n",
              "\n",
              "// Listen for the removal of the full notebook cells\n",
              "var notebookContainer = gd.closest('#notebook-container');\n",
              "if (notebookContainer) {{\n",
              "    x.observe(notebookContainer, {childList: true});\n",
              "}}\n",
              "\n",
              "// Listen for the clearing of the current output cell\n",
              "var outputEl = gd.closest('.output');\n",
              "if (outputEl) {{\n",
              "    x.observe(outputEl, {childList: true});\n",
              "}}\n",
              "\n",
              "                        })\n",
              "                };\n",
              "                \n",
              "            </script>\n",
              "        </div>\n",
              "</body>\n",
              "</html>"
            ]
          },
          "metadata": {
            "tags": []
          }
        }
      ]
    },
    {
      "cell_type": "markdown",
      "metadata": {
        "id": "D0k8k7f2DXgJ",
        "colab_type": "text"
      },
      "source": [
        "### Ternary Plot"
      ]
    },
    {
      "cell_type": "code",
      "metadata": {
        "id": "Gsl-C6qBBnfG",
        "colab_type": "code",
        "colab": {}
      },
      "source": [
        "!  pip install python-ternary"
      ],
      "execution_count": null,
      "outputs": []
    },
    {
      "cell_type": "code",
      "metadata": {
        "id": "Vv-1IkOtDQ8G",
        "colab_type": "code",
        "colab": {
          "base_uri": "https://localhost:8080/",
          "height": 542
        },
        "outputId": "8b3e6592-9484-45aa-98ae-967bd640daf5"
      },
      "source": [
        "import ternary\n",
        "\n",
        "import plotly.express as px\n",
        "df = px.data.election()\n",
        "fig = px.scatter_ternary(x_y_z, a='Topo_p', b='Wind_p', c='Fuel_p',  hover_name=\"eco_region\", color=\"eco_region\", symbol=\"hue_val\",\n",
        "                   size_max=100, color_discrete_map = {'Topo': \"blue\", 'Weather': \"green\", 'Fuel':\"red\"} )\n",
        "fig.show()"
      ],
      "execution_count": null,
      "outputs": [
        {
          "output_type": "display_data",
          "data": {
            "text/html": [
              "<html>\n",
              "<head><meta charset=\"utf-8\" /></head>\n",
              "<body>\n",
              "    <div>\n",
              "            <script src=\"https://cdnjs.cloudflare.com/ajax/libs/mathjax/2.7.5/MathJax.js?config=TeX-AMS-MML_SVG\"></script><script type=\"text/javascript\">if (window.MathJax) {MathJax.Hub.Config({SVG: {font: \"STIX-Web\"}});}</script>\n",
              "                <script type=\"text/javascript\">window.PlotlyConfig = {MathJaxConfig: 'local'};</script>\n",
              "        <script src=\"https://cdn.plot.ly/plotly-latest.min.js\"></script>    \n",
              "            <div id=\"dc1a8bef-e149-4d7e-9f34-a295a305c552\" class=\"plotly-graph-div\" style=\"height:525px; width:100%;\"></div>\n",
              "            <script type=\"text/javascript\">\n",
              "                \n",
              "                    window.PLOTLYENV=window.PLOTLYENV || {};\n",
              "                    \n",
              "                if (document.getElementById(\"dc1a8bef-e149-4d7e-9f34-a295a305c552\")) {\n",
              "                    Plotly.newPlot(\n",
              "                        'dc1a8bef-e149-4d7e-9f34-a295a305c552',\n",
              "                        [{\"a\": [0.16372962722133239], \"b\": [0.5025677770869612], \"c\": [0.34423787203988426], \"hoverlabel\": {\"namelength\": 0}, \"hovertemplate\": \"<b>%{hovertext}</b><br><br>eco_region=Cascades<br>hue_val=0<br>Topo_p=%{a}<br>Wind_p=%{b}<br>Fuel_p=%{c}\", \"hovertext\": [\"Cascades\"], \"legendgroup\": \"eco_region=Cascades, hue_val=0\", \"marker\": {\"color\": \"#ab63fa\", \"symbol\": \"circle\"}, \"mode\": \"markers\", \"name\": \"eco_region=Cascades, hue_val=0\", \"showlegend\": true, \"subplot\": \"ternary\", \"type\": \"scatterternary\"}, {\"a\": [0.3398422405333114], \"b\": [0.5654962982065325], \"c\": [0.3612905538365919], \"hoverlabel\": {\"namelength\": 0}, \"hovertemplate\": \"<b>%{hovertext}</b><br><br>eco_region=Cascades<br>hue_val=33<br>Topo_p=%{a}<br>Wind_p=%{b}<br>Fuel_p=%{c}\", \"hovertext\": [\"Cascades\"], \"legendgroup\": \"eco_region=Cascades, hue_val=33\", \"marker\": {\"color\": \"#ab63fa\", \"symbol\": \"diamond\"}, \"mode\": \"markers\", \"name\": \"eco_region=Cascades, hue_val=33\", \"showlegend\": true, \"subplot\": \"ternary\", \"type\": \"scatterternary\"}, {\"a\": [0.5397967197531763], \"b\": [0.7004199826917422], \"c\": [0.6217746563431212], \"hoverlabel\": {\"namelength\": 0}, \"hovertemplate\": \"<b>%{hovertext}</b><br><br>eco_region=Cascades<br>hue_val=66<br>Topo_p=%{a}<br>Wind_p=%{b}<br>Fuel_p=%{c}\", \"hovertext\": [\"Cascades\"], \"legendgroup\": \"eco_region=Cascades, hue_val=66\", \"marker\": {\"color\": \"#ab63fa\", \"symbol\": \"square\"}, \"mode\": \"markers\", \"name\": \"eco_region=Cascades, hue_val=66\", \"showlegend\": true, \"subplot\": \"ternary\", \"type\": \"scatterternary\"}, {\"a\": [0.3350208269785616], \"b\": [0.04201617935659028], \"c\": [0.29264965988753305], \"hoverlabel\": {\"namelength\": 0}, \"hovertemplate\": \"<b>%{hovertext}</b><br><br>eco_region=Klamath Mountains<br>hue_val=0<br>Topo_p=%{a}<br>Wind_p=%{b}<br>Fuel_p=%{c}\", \"hovertext\": [\"Klamath Mountains\"], \"legendgroup\": \"eco_region=Klamath Mountains, hue_val=0\", \"marker\": {\"color\": \"#FFA15A\", \"symbol\": \"circle\"}, \"mode\": \"markers\", \"name\": \"eco_region=Klamath Mountains, hue_val=0\", \"showlegend\": true, \"subplot\": \"ternary\", \"type\": \"scatterternary\"}, {\"a\": [0.28074441771743736], \"b\": [0.18307604538018454], \"c\": [0.3197233611115674], \"hoverlabel\": {\"namelength\": 0}, \"hovertemplate\": \"<b>%{hovertext}</b><br><br>eco_region=Klamath Mountains<br>hue_val=33<br>Topo_p=%{a}<br>Wind_p=%{b}<br>Fuel_p=%{c}\", \"hovertext\": [\"Klamath Mountains\"], \"legendgroup\": \"eco_region=Klamath Mountains, hue_val=33\", \"marker\": {\"color\": \"#FFA15A\", \"symbol\": \"diamond\"}, \"mode\": \"markers\", \"name\": \"eco_region=Klamath Mountains, hue_val=33\", \"showlegend\": true, \"subplot\": \"ternary\", \"type\": \"scatterternary\"}, {\"a\": [0.21892107519934045], \"b\": [0.2786364208353133], \"c\": [0.34823368575673724], \"hoverlabel\": {\"namelength\": 0}, \"hovertemplate\": \"<b>%{hovertext}</b><br><br>eco_region=Klamath Mountains<br>hue_val=66<br>Topo_p=%{a}<br>Wind_p=%{b}<br>Fuel_p=%{c}\", \"hovertext\": [\"Klamath Mountains\"], \"legendgroup\": \"eco_region=Klamath Mountains, hue_val=66\", \"marker\": {\"color\": \"#FFA15A\", \"symbol\": \"square\"}, \"mode\": \"markers\", \"name\": \"eco_region=Klamath Mountains, hue_val=66\", \"showlegend\": true, \"subplot\": \"ternary\", \"type\": \"scatterternary\"}, {\"a\": [0.36399501963719083], \"b\": [0.039070691452492465], \"c\": [0.2306375462222435], \"hoverlabel\": {\"namelength\": 0}, \"hovertemplate\": \"<b>%{hovertext}</b><br><br>eco_region=Northern Coastal Sage<br>hue_val=0<br>Topo_p=%{a}<br>Wind_p=%{b}<br>Fuel_p=%{c}\", \"hovertext\": [\"Northern Coastal Sage\"], \"legendgroup\": \"eco_region=Northern Coastal Sage, hue_val=0\", \"marker\": {\"color\": \"#19d3f3\", \"symbol\": \"circle\"}, \"mode\": \"markers\", \"name\": \"eco_region=Northern Coastal Sage, hue_val=0\", \"showlegend\": true, \"subplot\": \"ternary\", \"type\": \"scatterternary\"}, {\"a\": [0.28587631326138285], \"b\": [0.04078578863053457], \"c\": [0.3079600653800696], \"hoverlabel\": {\"namelength\": 0}, \"hovertemplate\": \"<b>%{hovertext}</b><br><br>eco_region=Northern Coastal Sage<br>hue_val=33<br>Topo_p=%{a}<br>Wind_p=%{b}<br>Fuel_p=%{c}\", \"hovertext\": [\"Northern Coastal Sage\"], \"legendgroup\": \"eco_region=Northern Coastal Sage, hue_val=33\", \"marker\": {\"color\": \"#19d3f3\", \"symbol\": \"diamond\"}, \"mode\": \"markers\", \"name\": \"eco_region=Northern Coastal Sage, hue_val=33\", \"showlegend\": true, \"subplot\": \"ternary\", \"type\": \"scatterternary\"}, {\"a\": [0.22725394980687277], \"b\": [0.09242838511519433], \"c\": [0.2815740498143944], \"hoverlabel\": {\"namelength\": 0}, \"hovertemplate\": \"<b>%{hovertext}</b><br><br>eco_region=Northern Coastal Sage<br>hue_val=66<br>Topo_p=%{a}<br>Wind_p=%{b}<br>Fuel_p=%{c}\", \"hovertext\": [\"Northern Coastal Sage\"], \"legendgroup\": \"eco_region=Northern Coastal Sage, hue_val=66\", \"marker\": {\"color\": \"#19d3f3\", \"symbol\": \"square\"}, \"mode\": \"markers\", \"name\": \"eco_region=Northern Coastal Sage, hue_val=66\", \"showlegend\": true, \"subplot\": \"ternary\", \"type\": \"scatterternary\"}, {\"a\": [0.5549944740711871], \"b\": [0.31427720488606475], \"c\": [0.7101440515652616], \"hoverlabel\": {\"namelength\": 0}, \"hovertemplate\": \"<b>%{hovertext}</b><br><br>eco_region=Northern Coastal Sage<br>hue_val=99<br>Topo_p=%{a}<br>Wind_p=%{b}<br>Fuel_p=%{c}\", \"hovertext\": [\"Northern Coastal Sage\"], \"legendgroup\": \"eco_region=Northern Coastal Sage, hue_val=99\", \"marker\": {\"color\": \"#19d3f3\", \"symbol\": \"x\"}, \"mode\": \"markers\", \"name\": \"eco_region=Northern Coastal Sage, hue_val=99\", \"showlegend\": true, \"subplot\": \"ternary\", \"type\": \"scatterternary\"}, {\"a\": [0.5550315525102686], \"b\": [0.11252736601310165], \"c\": [0.481550670096452], \"hoverlabel\": {\"namelength\": 0}, \"hovertemplate\": \"<b>%{hovertext}</b><br><br>eco_region=Sierra Nevada<br>hue_val=0<br>Topo_p=%{a}<br>Wind_p=%{b}<br>Fuel_p=%{c}\", \"hovertext\": [\"Sierra Nevada\"], \"legendgroup\": \"eco_region=Sierra Nevada, hue_val=0\", \"marker\": {\"color\": \"#FF6692\", \"symbol\": \"circle\"}, \"mode\": \"markers\", \"name\": \"eco_region=Sierra Nevada, hue_val=0\", \"showlegend\": true, \"subplot\": \"ternary\", \"type\": \"scatterternary\"}, {\"a\": [0.32828860757553574], \"b\": [0.11482047122450405], \"c\": [0.3097826387671554], \"hoverlabel\": {\"namelength\": 0}, \"hovertemplate\": \"<b>%{hovertext}</b><br><br>eco_region=Sierra Nevada<br>hue_val=33<br>Topo_p=%{a}<br>Wind_p=%{b}<br>Fuel_p=%{c}\", \"hovertext\": [\"Sierra Nevada\"], \"legendgroup\": \"eco_region=Sierra Nevada, hue_val=33\", \"marker\": {\"color\": \"#FF6692\", \"symbol\": \"diamond\"}, \"mode\": \"markers\", \"name\": \"eco_region=Sierra Nevada, hue_val=33\", \"showlegend\": true, \"subplot\": \"ternary\", \"type\": \"scatterternary\"}, {\"a\": [0.28092700343193083], \"b\": [0.34363930572959867], \"c\": [0.42170667515492266], \"hoverlabel\": {\"namelength\": 0}, \"hovertemplate\": \"<b>%{hovertext}</b><br><br>eco_region=Sierra Nevada<br>hue_val=66<br>Topo_p=%{a}<br>Wind_p=%{b}<br>Fuel_p=%{c}\", \"hovertext\": [\"Sierra Nevada\"], \"legendgroup\": \"eco_region=Sierra Nevada, hue_val=66\", \"marker\": {\"color\": \"#FF6692\", \"symbol\": \"square\"}, \"mode\": \"markers\", \"name\": \"eco_region=Sierra Nevada, hue_val=66\", \"showlegend\": true, \"subplot\": \"ternary\", \"type\": \"scatterternary\"}, {\"a\": [0.7726578434910524], \"b\": [0.7280189648268414], \"c\": [0.9963401076813361], \"hoverlabel\": {\"namelength\": 0}, \"hovertemplate\": \"<b>%{hovertext}</b><br><br>eco_region=Sierra Nevada<br>hue_val=99<br>Topo_p=%{a}<br>Wind_p=%{b}<br>Fuel_p=%{c}\", \"hovertext\": [\"Sierra Nevada\"], \"legendgroup\": \"eco_region=Sierra Nevada, hue_val=99\", \"marker\": {\"color\": \"#FF6692\", \"symbol\": \"x\"}, \"mode\": \"markers\", \"name\": \"eco_region=Sierra Nevada, hue_val=99\", \"showlegend\": true, \"subplot\": \"ternary\", \"type\": \"scatterternary\"}, {\"a\": [0.3610480279084842], \"b\": [0.15213004301944574], \"c\": [0.40840738058921283], \"hoverlabel\": {\"namelength\": 0}, \"hovertemplate\": \"<b>%{hovertext}</b><br><br>eco_region=Southern Coastal Sage<br>hue_val=0<br>Topo_p=%{a}<br>Wind_p=%{b}<br>Fuel_p=%{c}\", \"hovertext\": [\"Southern Coastal Sage\"], \"legendgroup\": \"eco_region=Southern Coastal Sage, hue_val=0\", \"marker\": {\"color\": \"#B6E880\", \"symbol\": \"circle\"}, \"mode\": \"markers\", \"name\": \"eco_region=Southern Coastal Sage, hue_val=0\", \"showlegend\": true, \"subplot\": \"ternary\", \"type\": \"scatterternary\"}, {\"a\": [0.3504711112989846], \"b\": [0.4088508190769114], \"c\": [0.4311296838916015], \"hoverlabel\": {\"namelength\": 0}, \"hovertemplate\": \"<b>%{hovertext}</b><br><br>eco_region=Southern Coastal Sage<br>hue_val=33<br>Topo_p=%{a}<br>Wind_p=%{b}<br>Fuel_p=%{c}\", \"hovertext\": [\"Southern Coastal Sage\"], \"legendgroup\": \"eco_region=Southern Coastal Sage, hue_val=33\", \"marker\": {\"color\": \"#B6E880\", \"symbol\": \"diamond\"}, \"mode\": \"markers\", \"name\": \"eco_region=Southern Coastal Sage, hue_val=33\", \"showlegend\": true, \"subplot\": \"ternary\", \"type\": \"scatterternary\"}, {\"a\": [0.24148984002014232], \"b\": [0.23608775347720662], \"c\": [0.4495803144898043], \"hoverlabel\": {\"namelength\": 0}, \"hovertemplate\": \"<b>%{hovertext}</b><br><br>eco_region=Southern Coastal Sage<br>hue_val=66<br>Topo_p=%{a}<br>Wind_p=%{b}<br>Fuel_p=%{c}\", \"hovertext\": [\"Southern Coastal Sage\"], \"legendgroup\": \"eco_region=Southern Coastal Sage, hue_val=66\", \"marker\": {\"color\": \"#B6E880\", \"symbol\": \"square\"}, \"mode\": \"markers\", \"name\": \"eco_region=Southern Coastal Sage, hue_val=66\", \"showlegend\": true, \"subplot\": \"ternary\", \"type\": \"scatterternary\"}, {\"a\": [0.2816751520941219], \"b\": [0.24207897733348316], \"c\": [0.5408309695993487], \"hoverlabel\": {\"namelength\": 0}, \"hovertemplate\": \"<b>%{hovertext}</b><br><br>eco_region=Southern/Baja<br>hue_val=0<br>Topo_p=%{a}<br>Wind_p=%{b}<br>Fuel_p=%{c}\", \"hovertext\": [\"Southern/Baja\"], \"legendgroup\": \"eco_region=Southern/Baja, hue_val=0\", \"marker\": {\"color\": \"#FF97FF\", \"symbol\": \"circle\"}, \"mode\": \"markers\", \"name\": \"eco_region=Southern/Baja, hue_val=0\", \"showlegend\": true, \"subplot\": \"ternary\", \"type\": \"scatterternary\"}, {\"a\": [0.23610288053949943], \"b\": [0.38675416160837284], \"c\": [0.6577096264398471], \"hoverlabel\": {\"namelength\": 0}, \"hovertemplate\": \"<b>%{hovertext}</b><br><br>eco_region=Southern/Baja<br>hue_val=33<br>Topo_p=%{a}<br>Wind_p=%{b}<br>Fuel_p=%{c}\", \"hovertext\": [\"Southern/Baja\"], \"legendgroup\": \"eco_region=Southern/Baja, hue_val=33\", \"marker\": {\"color\": \"#FF97FF\", \"symbol\": \"diamond\"}, \"mode\": \"markers\", \"name\": \"eco_region=Southern/Baja, hue_val=33\", \"showlegend\": true, \"subplot\": \"ternary\", \"type\": \"scatterternary\"}, {\"a\": [0.3014485324530108], \"b\": [0.2134402481810232], \"c\": [0.7133913969458855], \"hoverlabel\": {\"namelength\": 0}, \"hovertemplate\": \"<b>%{hovertext}</b><br><br>eco_region=Southern/Baja<br>hue_val=66<br>Topo_p=%{a}<br>Wind_p=%{b}<br>Fuel_p=%{c}\", \"hovertext\": [\"Southern/Baja\"], \"legendgroup\": \"eco_region=Southern/Baja, hue_val=66\", \"marker\": {\"color\": \"#FF97FF\", \"symbol\": \"square\"}, \"mode\": \"markers\", \"name\": \"eco_region=Southern/Baja, hue_val=66\", \"showlegend\": true, \"subplot\": \"ternary\", \"type\": \"scatterternary\"}, {\"a\": [1.0], \"b\": [1.0], \"c\": [1.0], \"hoverlabel\": {\"namelength\": 0}, \"hovertemplate\": \"<b>%{hovertext}</b><br><br>eco_region=Southern/Baja<br>hue_val=99<br>Topo_p=%{a}<br>Wind_p=%{b}<br>Fuel_p=%{c}\", \"hovertext\": [\"Southern/Baja\"], \"legendgroup\": \"eco_region=Southern/Baja, hue_val=99\", \"marker\": {\"color\": \"#FF97FF\", \"symbol\": \"x\"}, \"mode\": \"markers\", \"name\": \"eco_region=Southern/Baja, hue_val=99\", \"showlegend\": true, \"subplot\": \"ternary\", \"type\": \"scatterternary\"}],\n",
              "                        {\"legend\": {\"tracegroupgap\": 0}, \"margin\": {\"t\": 60}, \"template\": {\"data\": {\"bar\": [{\"error_x\": {\"color\": \"#2a3f5f\"}, \"error_y\": {\"color\": \"#2a3f5f\"}, \"marker\": {\"line\": {\"color\": \"#E5ECF6\", \"width\": 0.5}}, \"type\": \"bar\"}], \"barpolar\": [{\"marker\": {\"line\": {\"color\": \"#E5ECF6\", \"width\": 0.5}}, \"type\": \"barpolar\"}], \"carpet\": [{\"aaxis\": {\"endlinecolor\": \"#2a3f5f\", \"gridcolor\": \"white\", \"linecolor\": \"white\", \"minorgridcolor\": \"white\", \"startlinecolor\": \"#2a3f5f\"}, \"baxis\": {\"endlinecolor\": \"#2a3f5f\", \"gridcolor\": \"white\", \"linecolor\": \"white\", \"minorgridcolor\": \"white\", \"startlinecolor\": \"#2a3f5f\"}, \"type\": \"carpet\"}], \"choropleth\": [{\"colorbar\": {\"outlinewidth\": 0, \"ticks\": \"\"}, \"type\": \"choropleth\"}], \"contour\": [{\"colorbar\": {\"outlinewidth\": 0, \"ticks\": \"\"}, \"colorscale\": [[0.0, \"#0d0887\"], [0.1111111111111111, \"#46039f\"], [0.2222222222222222, \"#7201a8\"], [0.3333333333333333, \"#9c179e\"], [0.4444444444444444, \"#bd3786\"], [0.5555555555555556, \"#d8576b\"], [0.6666666666666666, \"#ed7953\"], [0.7777777777777778, \"#fb9f3a\"], [0.8888888888888888, \"#fdca26\"], [1.0, \"#f0f921\"]], \"type\": \"contour\"}], \"contourcarpet\": [{\"colorbar\": {\"outlinewidth\": 0, \"ticks\": \"\"}, \"type\": \"contourcarpet\"}], \"heatmap\": [{\"colorbar\": {\"outlinewidth\": 0, \"ticks\": \"\"}, \"colorscale\": [[0.0, \"#0d0887\"], [0.1111111111111111, \"#46039f\"], [0.2222222222222222, \"#7201a8\"], [0.3333333333333333, \"#9c179e\"], [0.4444444444444444, \"#bd3786\"], [0.5555555555555556, \"#d8576b\"], [0.6666666666666666, \"#ed7953\"], [0.7777777777777778, \"#fb9f3a\"], [0.8888888888888888, \"#fdca26\"], [1.0, \"#f0f921\"]], \"type\": \"heatmap\"}], \"heatmapgl\": [{\"colorbar\": {\"outlinewidth\": 0, \"ticks\": \"\"}, \"colorscale\": [[0.0, \"#0d0887\"], [0.1111111111111111, \"#46039f\"], [0.2222222222222222, \"#7201a8\"], [0.3333333333333333, \"#9c179e\"], [0.4444444444444444, \"#bd3786\"], [0.5555555555555556, \"#d8576b\"], [0.6666666666666666, \"#ed7953\"], [0.7777777777777778, \"#fb9f3a\"], [0.8888888888888888, \"#fdca26\"], [1.0, \"#f0f921\"]], \"type\": \"heatmapgl\"}], \"histogram\": [{\"marker\": {\"colorbar\": {\"outlinewidth\": 0, \"ticks\": \"\"}}, \"type\": \"histogram\"}], \"histogram2d\": [{\"colorbar\": {\"outlinewidth\": 0, \"ticks\": \"\"}, \"colorscale\": [[0.0, \"#0d0887\"], [0.1111111111111111, \"#46039f\"], [0.2222222222222222, \"#7201a8\"], [0.3333333333333333, \"#9c179e\"], [0.4444444444444444, \"#bd3786\"], [0.5555555555555556, \"#d8576b\"], [0.6666666666666666, \"#ed7953\"], [0.7777777777777778, \"#fb9f3a\"], [0.8888888888888888, \"#fdca26\"], [1.0, \"#f0f921\"]], \"type\": \"histogram2d\"}], \"histogram2dcontour\": [{\"colorbar\": {\"outlinewidth\": 0, \"ticks\": \"\"}, \"colorscale\": [[0.0, \"#0d0887\"], [0.1111111111111111, \"#46039f\"], [0.2222222222222222, \"#7201a8\"], [0.3333333333333333, \"#9c179e\"], [0.4444444444444444, \"#bd3786\"], [0.5555555555555556, \"#d8576b\"], [0.6666666666666666, \"#ed7953\"], [0.7777777777777778, \"#fb9f3a\"], [0.8888888888888888, \"#fdca26\"], [1.0, \"#f0f921\"]], \"type\": \"histogram2dcontour\"}], \"mesh3d\": [{\"colorbar\": {\"outlinewidth\": 0, \"ticks\": \"\"}, \"type\": \"mesh3d\"}], \"parcoords\": [{\"line\": {\"colorbar\": {\"outlinewidth\": 0, \"ticks\": \"\"}}, \"type\": \"parcoords\"}], \"pie\": [{\"automargin\": true, \"type\": \"pie\"}], \"scatter\": [{\"marker\": {\"colorbar\": {\"outlinewidth\": 0, \"ticks\": \"\"}}, \"type\": \"scatter\"}], \"scatter3d\": [{\"line\": {\"colorbar\": {\"outlinewidth\": 0, \"ticks\": \"\"}}, \"marker\": {\"colorbar\": {\"outlinewidth\": 0, \"ticks\": \"\"}}, \"type\": \"scatter3d\"}], \"scattercarpet\": [{\"marker\": {\"colorbar\": {\"outlinewidth\": 0, \"ticks\": \"\"}}, \"type\": \"scattercarpet\"}], \"scattergeo\": [{\"marker\": {\"colorbar\": {\"outlinewidth\": 0, \"ticks\": \"\"}}, \"type\": \"scattergeo\"}], \"scattergl\": [{\"marker\": {\"colorbar\": {\"outlinewidth\": 0, \"ticks\": \"\"}}, \"type\": \"scattergl\"}], \"scattermapbox\": [{\"marker\": {\"colorbar\": {\"outlinewidth\": 0, \"ticks\": \"\"}}, \"type\": \"scattermapbox\"}], \"scatterpolar\": [{\"marker\": {\"colorbar\": {\"outlinewidth\": 0, \"ticks\": \"\"}}, \"type\": \"scatterpolar\"}], \"scatterpolargl\": [{\"marker\": {\"colorbar\": {\"outlinewidth\": 0, \"ticks\": \"\"}}, \"type\": \"scatterpolargl\"}], \"scatterternary\": [{\"marker\": {\"colorbar\": {\"outlinewidth\": 0, \"ticks\": \"\"}}, \"type\": \"scatterternary\"}], \"surface\": [{\"colorbar\": {\"outlinewidth\": 0, \"ticks\": \"\"}, \"colorscale\": [[0.0, \"#0d0887\"], [0.1111111111111111, \"#46039f\"], [0.2222222222222222, \"#7201a8\"], [0.3333333333333333, \"#9c179e\"], [0.4444444444444444, \"#bd3786\"], [0.5555555555555556, \"#d8576b\"], [0.6666666666666666, \"#ed7953\"], [0.7777777777777778, \"#fb9f3a\"], [0.8888888888888888, \"#fdca26\"], [1.0, \"#f0f921\"]], \"type\": \"surface\"}], \"table\": [{\"cells\": {\"fill\": {\"color\": \"#EBF0F8\"}, \"line\": {\"color\": \"white\"}}, \"header\": {\"fill\": {\"color\": \"#C8D4E3\"}, \"line\": {\"color\": \"white\"}}, \"type\": \"table\"}]}, \"layout\": {\"annotationdefaults\": {\"arrowcolor\": \"#2a3f5f\", \"arrowhead\": 0, \"arrowwidth\": 1}, \"coloraxis\": {\"colorbar\": {\"outlinewidth\": 0, \"ticks\": \"\"}}, \"colorscale\": {\"diverging\": [[0, \"#8e0152\"], [0.1, \"#c51b7d\"], [0.2, \"#de77ae\"], [0.3, \"#f1b6da\"], [0.4, \"#fde0ef\"], [0.5, \"#f7f7f7\"], [0.6, \"#e6f5d0\"], [0.7, \"#b8e186\"], [0.8, \"#7fbc41\"], [0.9, \"#4d9221\"], [1, \"#276419\"]], \"sequential\": [[0.0, \"#0d0887\"], [0.1111111111111111, \"#46039f\"], [0.2222222222222222, \"#7201a8\"], [0.3333333333333333, \"#9c179e\"], [0.4444444444444444, \"#bd3786\"], [0.5555555555555556, \"#d8576b\"], [0.6666666666666666, \"#ed7953\"], [0.7777777777777778, \"#fb9f3a\"], [0.8888888888888888, \"#fdca26\"], [1.0, \"#f0f921\"]], \"sequentialminus\": [[0.0, \"#0d0887\"], [0.1111111111111111, \"#46039f\"], [0.2222222222222222, \"#7201a8\"], [0.3333333333333333, \"#9c179e\"], [0.4444444444444444, \"#bd3786\"], [0.5555555555555556, \"#d8576b\"], [0.6666666666666666, \"#ed7953\"], [0.7777777777777778, \"#fb9f3a\"], [0.8888888888888888, \"#fdca26\"], [1.0, \"#f0f921\"]]}, \"colorway\": [\"#636efa\", \"#EF553B\", \"#00cc96\", \"#ab63fa\", \"#FFA15A\", \"#19d3f3\", \"#FF6692\", \"#B6E880\", \"#FF97FF\", \"#FECB52\"], \"font\": {\"color\": \"#2a3f5f\"}, \"geo\": {\"bgcolor\": \"white\", \"lakecolor\": \"white\", \"landcolor\": \"#E5ECF6\", \"showlakes\": true, \"showland\": true, \"subunitcolor\": \"white\"}, \"hoverlabel\": {\"align\": \"left\"}, \"hovermode\": \"closest\", \"mapbox\": {\"style\": \"light\"}, \"paper_bgcolor\": \"white\", \"plot_bgcolor\": \"#E5ECF6\", \"polar\": {\"angularaxis\": {\"gridcolor\": \"white\", \"linecolor\": \"white\", \"ticks\": \"\"}, \"bgcolor\": \"#E5ECF6\", \"radialaxis\": {\"gridcolor\": \"white\", \"linecolor\": \"white\", \"ticks\": \"\"}}, \"scene\": {\"xaxis\": {\"backgroundcolor\": \"#E5ECF6\", \"gridcolor\": \"white\", \"gridwidth\": 2, \"linecolor\": \"white\", \"showbackground\": true, \"ticks\": \"\", \"zerolinecolor\": \"white\"}, \"yaxis\": {\"backgroundcolor\": \"#E5ECF6\", \"gridcolor\": \"white\", \"gridwidth\": 2, \"linecolor\": \"white\", \"showbackground\": true, \"ticks\": \"\", \"zerolinecolor\": \"white\"}, \"zaxis\": {\"backgroundcolor\": \"#E5ECF6\", \"gridcolor\": \"white\", \"gridwidth\": 2, \"linecolor\": \"white\", \"showbackground\": true, \"ticks\": \"\", \"zerolinecolor\": \"white\"}}, \"shapedefaults\": {\"line\": {\"color\": \"#2a3f5f\"}}, \"ternary\": {\"aaxis\": {\"gridcolor\": \"white\", \"linecolor\": \"white\", \"ticks\": \"\"}, \"baxis\": {\"gridcolor\": \"white\", \"linecolor\": \"white\", \"ticks\": \"\"}, \"bgcolor\": \"#E5ECF6\", \"caxis\": {\"gridcolor\": \"white\", \"linecolor\": \"white\", \"ticks\": \"\"}}, \"title\": {\"x\": 0.05}, \"xaxis\": {\"automargin\": true, \"gridcolor\": \"white\", \"linecolor\": \"white\", \"ticks\": \"\", \"title\": {\"standoff\": 15}, \"zerolinecolor\": \"white\", \"zerolinewidth\": 2}, \"yaxis\": {\"automargin\": true, \"gridcolor\": \"white\", \"linecolor\": \"white\", \"ticks\": \"\", \"title\": {\"standoff\": 15}, \"zerolinecolor\": \"white\", \"zerolinewidth\": 2}}}, \"ternary\": {\"aaxis\": {\"title\": {\"text\": \"Topo_p\"}}, \"baxis\": {\"title\": {\"text\": \"Wind_p\"}}, \"caxis\": {\"title\": {\"text\": \"Fuel_p\"}}, \"domain\": {\"x\": [0.0, 1.0], \"y\": [0.0, 1.0]}}},\n",
              "                        {\"responsive\": true}\n",
              "                    ).then(function(){\n",
              "                            \n",
              "var gd = document.getElementById('dc1a8bef-e149-4d7e-9f34-a295a305c552');\n",
              "var x = new MutationObserver(function (mutations, observer) {{\n",
              "        var display = window.getComputedStyle(gd).display;\n",
              "        if (!display || display === 'none') {{\n",
              "            console.log([gd, 'removed!']);\n",
              "            Plotly.purge(gd);\n",
              "            observer.disconnect();\n",
              "        }}\n",
              "}});\n",
              "\n",
              "// Listen for the removal of the full notebook cells\n",
              "var notebookContainer = gd.closest('#notebook-container');\n",
              "if (notebookContainer) {{\n",
              "    x.observe(notebookContainer, {childList: true});\n",
              "}}\n",
              "\n",
              "// Listen for the clearing of the current output cell\n",
              "var outputEl = gd.closest('.output');\n",
              "if (outputEl) {{\n",
              "    x.observe(outputEl, {childList: true});\n",
              "}}\n",
              "\n",
              "                        })\n",
              "                };\n",
              "                \n",
              "            </script>\n",
              "        </div>\n",
              "</body>\n",
              "</html>"
            ]
          },
          "metadata": {
            "tags": []
          }
        }
      ]
    },
    {
      "cell_type": "code",
      "metadata": {
        "id": "N3OSB3HDDiNN",
        "colab_type": "code",
        "colab": {}
      },
      "source": [
        ""
      ],
      "execution_count": null,
      "outputs": []
    }
  ]
}